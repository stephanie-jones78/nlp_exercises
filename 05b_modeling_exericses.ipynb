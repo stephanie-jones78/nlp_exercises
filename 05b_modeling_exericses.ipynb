{
 "cells": [
  {
   "cell_type": "code",
   "execution_count": 1,
   "id": "3f4d4306",
   "metadata": {},
   "outputs": [],
   "source": [
    "# importing standard python libraries\n",
    "import numpy as np\n",
    "import pandas as pd\n",
    "\n",
    "# importing visualization libraries\n",
    "%matplotlib inline\n",
    "import matplotlib.pyplot as plt\n",
    "import seaborn as sns\n",
    "\n",
    "# importing db access credentials from env module\n",
    "from env import password, user, host\n",
    "\n",
    "# importing functions from prepare module\n",
    "from prepare import basic_clean, lemmatize\n",
    "\n",
    "# importing sklearn libraries\n",
    "from sklearn.feature_extraction.text import TfidfVectorizer #tf-idf\n",
    "from sklearn.model_selection import train_test_split #splitting data\n",
    "from sklearn.linear_model import LogisticRegression #LinearRegression model algorithm\n",
    "from sklearn.metrics import classification_report, accuracy_score #evaluation metrics\n",
    "\n",
    "from pprint import pprint"
   ]
  },
  {
   "cell_type": "markdown",
   "id": "650dd310",
   "metadata": {},
   "source": [
    "Take the work we did in the lesson further:\n",
    "- What other types of model (i.e. different classification algorithms) could you use?\n",
    "- How do other models compare when trained on term frequency data alone, instead of TF-IDF values?\n"
   ]
  },
  {
   "cell_type": "markdown",
   "id": "b43a07ac",
   "metadata": {},
   "source": [
    "# Step 1 | Acquiring `ham_spam` data"
   ]
  },
  {
   "cell_type": "code",
   "execution_count": 10,
   "id": "17a59e2b",
   "metadata": {
    "scrolled": false
   },
   "outputs": [
    {
     "data": {
      "text/html": [
       "<div>\n",
       "<style scoped>\n",
       "    .dataframe tbody tr th:only-of-type {\n",
       "        vertical-align: middle;\n",
       "    }\n",
       "\n",
       "    .dataframe tbody tr th {\n",
       "        vertical-align: top;\n",
       "    }\n",
       "\n",
       "    .dataframe thead th {\n",
       "        text-align: right;\n",
       "    }\n",
       "</style>\n",
       "<table border=\"1\" class=\"dataframe\">\n",
       "  <thead>\n",
       "    <tr style=\"text-align: right;\">\n",
       "      <th></th>\n",
       "      <th>label</th>\n",
       "      <th>text</th>\n",
       "    </tr>\n",
       "    <tr>\n",
       "      <th>id</th>\n",
       "      <th></th>\n",
       "      <th></th>\n",
       "    </tr>\n",
       "  </thead>\n",
       "  <tbody>\n",
       "    <tr>\n",
       "      <th>0</th>\n",
       "      <td>ham</td>\n",
       "      <td>Go until jurong point, crazy.. Available only ...</td>\n",
       "    </tr>\n",
       "    <tr>\n",
       "      <th>1</th>\n",
       "      <td>ham</td>\n",
       "      <td>Ok lar... Joking wif u oni...</td>\n",
       "    </tr>\n",
       "    <tr>\n",
       "      <th>2</th>\n",
       "      <td>spam</td>\n",
       "      <td>Free entry in 2 a wkly comp to win FA Cup fina...</td>\n",
       "    </tr>\n",
       "    <tr>\n",
       "      <th>3</th>\n",
       "      <td>ham</td>\n",
       "      <td>U dun say so early hor... U c already then say...</td>\n",
       "    </tr>\n",
       "    <tr>\n",
       "      <th>4</th>\n",
       "      <td>ham</td>\n",
       "      <td>Nah I don't think he goes to usf, he lives aro...</td>\n",
       "    </tr>\n",
       "  </tbody>\n",
       "</table>\n",
       "</div>"
      ],
      "text/plain": [
       "   label                                               text\n",
       "id                                                         \n",
       "0    ham  Go until jurong point, crazy.. Available only ...\n",
       "1    ham                      Ok lar... Joking wif u oni...\n",
       "2   spam  Free entry in 2 a wkly comp to win FA Cup fina...\n",
       "3    ham  U dun say so early hor... U c already then say...\n",
       "4    ham  Nah I don't think he goes to usf, he lives aro..."
      ]
     },
     "execution_count": 10,
     "metadata": {},
     "output_type": "execute_result"
    }
   ],
   "source": [
    "# defining url string with db access credentials\n",
    "def get_url_string(database, host = host, user = user, password = password):\n",
    "    '''\n",
    "    This function takes in a sql db name, host, user, and password assignments\n",
    "    and returns a url string that can be used to access the database. \n",
    "    '''\n",
    "    \n",
    "    return f'mysql+pymysql://{user}:{password}@{host}/{database}'\n",
    "    \n",
    "# defining sql query used to acquire data\n",
    "query = '''\n",
    "SELECT *\n",
    "FROM spam\n",
    "'''\n",
    "\n",
    "# accessing db and reading query results to DataFrame\n",
    "df = pd.read_sql(query, get_url_string('spam_db'), index_col = 'id')\n",
    "\n",
    "# preview of raw data\n",
    "df.head()"
   ]
  },
  {
   "cell_type": "markdown",
   "id": "2e5d1f78",
   "metadata": {},
   "source": [
    "# Step 2 | Cleaning data\n",
    "A. `basic_clean`"
   ]
  },
  {
   "cell_type": "code",
   "execution_count": 23,
   "id": "9752e2b9",
   "metadata": {},
   "outputs": [
    {
     "data": {
      "text/html": [
       "<div>\n",
       "<style scoped>\n",
       "    .dataframe tbody tr th:only-of-type {\n",
       "        vertical-align: middle;\n",
       "    }\n",
       "\n",
       "    .dataframe tbody tr th {\n",
       "        vertical-align: top;\n",
       "    }\n",
       "\n",
       "    .dataframe thead th {\n",
       "        text-align: right;\n",
       "    }\n",
       "</style>\n",
       "<table border=\"1\" class=\"dataframe\">\n",
       "  <thead>\n",
       "    <tr style=\"text-align: right;\">\n",
       "      <th></th>\n",
       "      <th>label</th>\n",
       "      <th>text</th>\n",
       "      <th>clean_text</th>\n",
       "    </tr>\n",
       "    <tr>\n",
       "      <th>id</th>\n",
       "      <th></th>\n",
       "      <th></th>\n",
       "      <th></th>\n",
       "    </tr>\n",
       "  </thead>\n",
       "  <tbody>\n",
       "    <tr>\n",
       "      <th>0</th>\n",
       "      <td>ham</td>\n",
       "      <td>Go until jurong point, crazy.. Available only ...</td>\n",
       "      <td>go until jurong point crazy available only in ...</td>\n",
       "    </tr>\n",
       "    <tr>\n",
       "      <th>1</th>\n",
       "      <td>ham</td>\n",
       "      <td>Ok lar... Joking wif u oni...</td>\n",
       "      <td>ok lar joking wif u oni</td>\n",
       "    </tr>\n",
       "    <tr>\n",
       "      <th>2</th>\n",
       "      <td>spam</td>\n",
       "      <td>Free entry in 2 a wkly comp to win FA Cup fina...</td>\n",
       "      <td>free entry in 2 a wkly comp to win fa cup fina...</td>\n",
       "    </tr>\n",
       "    <tr>\n",
       "      <th>3</th>\n",
       "      <td>ham</td>\n",
       "      <td>U dun say so early hor... U c already then say...</td>\n",
       "      <td>u dun say so early hor u c already then say</td>\n",
       "    </tr>\n",
       "    <tr>\n",
       "      <th>4</th>\n",
       "      <td>ham</td>\n",
       "      <td>Nah I don't think he goes to usf, he lives aro...</td>\n",
       "      <td>nah i don't think he goes to usf he lives arou...</td>\n",
       "    </tr>\n",
       "  </tbody>\n",
       "</table>\n",
       "</div>"
      ],
      "text/plain": [
       "   label  ...                                         clean_text\n",
       "id        ...                                                   \n",
       "0    ham  ...  go until jurong point crazy available only in ...\n",
       "1    ham  ...                            ok lar joking wif u oni\n",
       "2   spam  ...  free entry in 2 a wkly comp to win fa cup fina...\n",
       "3    ham  ...        u dun say so early hor u c already then say\n",
       "4    ham  ...  nah i don't think he goes to usf he lives arou...\n",
       "\n",
       "[5 rows x 3 columns]"
      ]
     },
     "execution_count": 23,
     "metadata": {},
     "output_type": "execute_result"
    }
   ],
   "source": [
    "# initializing an empty list that will hold cleaned strings\n",
    "clean_text = []\n",
    "\n",
    "# for loop to run through each string in the df and add to empty list\n",
    "for string in df.text:\n",
    "    clean_text.append(basic_clean(string))\n",
    "\n",
    "# adding list of cleaned string to df\n",
    "df['clean_text'] = clean_text\n",
    "\n",
    "# previewing updated df\n",
    "df.head()"
   ]
  },
  {
   "cell_type": "markdown",
   "id": "fb2b0672",
   "metadata": {},
   "source": [
    "B. `lemmatize`"
   ]
  },
  {
   "cell_type": "code",
   "execution_count": 24,
   "id": "7f9d84ee",
   "metadata": {},
   "outputs": [
    {
     "data": {
      "text/html": [
       "<div>\n",
       "<style scoped>\n",
       "    .dataframe tbody tr th:only-of-type {\n",
       "        vertical-align: middle;\n",
       "    }\n",
       "\n",
       "    .dataframe tbody tr th {\n",
       "        vertical-align: top;\n",
       "    }\n",
       "\n",
       "    .dataframe thead th {\n",
       "        text-align: right;\n",
       "    }\n",
       "</style>\n",
       "<table border=\"1\" class=\"dataframe\">\n",
       "  <thead>\n",
       "    <tr style=\"text-align: right;\">\n",
       "      <th></th>\n",
       "      <th>label</th>\n",
       "      <th>text</th>\n",
       "      <th>clean_text</th>\n",
       "      <th>lem_text</th>\n",
       "    </tr>\n",
       "    <tr>\n",
       "      <th>id</th>\n",
       "      <th></th>\n",
       "      <th></th>\n",
       "      <th></th>\n",
       "      <th></th>\n",
       "    </tr>\n",
       "  </thead>\n",
       "  <tbody>\n",
       "    <tr>\n",
       "      <th>0</th>\n",
       "      <td>ham</td>\n",
       "      <td>Go until jurong point, crazy.. Available only ...</td>\n",
       "      <td>go until jurong point crazy available only in ...</td>\n",
       "      <td>go until jurong point crazy available only in ...</td>\n",
       "    </tr>\n",
       "    <tr>\n",
       "      <th>1</th>\n",
       "      <td>ham</td>\n",
       "      <td>Ok lar... Joking wif u oni...</td>\n",
       "      <td>ok lar joking wif u oni</td>\n",
       "      <td>ok lar joking wif u oni</td>\n",
       "    </tr>\n",
       "    <tr>\n",
       "      <th>2</th>\n",
       "      <td>spam</td>\n",
       "      <td>Free entry in 2 a wkly comp to win FA Cup fina...</td>\n",
       "      <td>free entry in 2 a wkly comp to win fa cup fina...</td>\n",
       "      <td>free entry in 2 a wkly comp to win fa cup fina...</td>\n",
       "    </tr>\n",
       "    <tr>\n",
       "      <th>3</th>\n",
       "      <td>ham</td>\n",
       "      <td>U dun say so early hor... U c already then say...</td>\n",
       "      <td>u dun say so early hor u c already then say</td>\n",
       "      <td>u dun say so early hor u c already then say</td>\n",
       "    </tr>\n",
       "    <tr>\n",
       "      <th>4</th>\n",
       "      <td>ham</td>\n",
       "      <td>Nah I don't think he goes to usf, he lives aro...</td>\n",
       "      <td>nah i don't think he goes to usf he lives arou...</td>\n",
       "      <td>nah i don't think he go to usf he life around ...</td>\n",
       "    </tr>\n",
       "  </tbody>\n",
       "</table>\n",
       "</div>"
      ],
      "text/plain": [
       "   label  ...                                           lem_text\n",
       "id        ...                                                   \n",
       "0    ham  ...  go until jurong point crazy available only in ...\n",
       "1    ham  ...                            ok lar joking wif u oni\n",
       "2   spam  ...  free entry in 2 a wkly comp to win fa cup fina...\n",
       "3    ham  ...        u dun say so early hor u c already then say\n",
       "4    ham  ...  nah i don't think he go to usf he life around ...\n",
       "\n",
       "[5 rows x 4 columns]"
      ]
     },
     "execution_count": 24,
     "metadata": {},
     "output_type": "execute_result"
    }
   ],
   "source": [
    "# initializing an empty list that will hold lemmatized strings\n",
    "lem_text = []\n",
    "\n",
    "# for loop to run through each string in the df and add to empty list\n",
    "for string in df.clean_text:\n",
    "    lem_text.append(lemmatize(string))\n",
    "    \n",
    "# adding list of lemmatized strings to df\n",
    "df['lem_text'] = lem_text\n",
    "\n",
    "# previewing updated df\n",
    "df.head()"
   ]
  },
  {
   "cell_type": "markdown",
   "id": "16eca9ac",
   "metadata": {},
   "source": [
    "C. `tokenize` and remove punctuation"
   ]
  },
  {
   "cell_type": "code",
   "execution_count": 28,
   "id": "27285df4",
   "metadata": {},
   "outputs": [
    {
     "data": {
      "text/plain": [
       "\"nah i don't think he go to usf he life around here though\""
      ]
     },
     "execution_count": 28,
     "metadata": {},
     "output_type": "execute_result"
    }
   ],
   "source": [
    "df.lem_text[4]"
   ]
  },
  {
   "cell_type": "code",
   "execution_count": 27,
   "id": "d4246a7a",
   "metadata": {},
   "outputs": [
    {
     "data": {
      "text/plain": [
       "\"nah i don ' t think he go to usf he life around here though\""
      ]
     },
     "execution_count": 27,
     "metadata": {},
     "output_type": "execute_result"
    }
   ],
   "source": [
    "from prepare import tokenize\n",
    "\n",
    "tokenize(df.lem_text[4])"
   ]
  },
  {
   "cell_type": "code",
   "execution_count": 46,
   "id": "955798d4",
   "metadata": {},
   "outputs": [
    {
     "data": {
      "text/html": [
       "<div>\n",
       "<style scoped>\n",
       "    .dataframe tbody tr th:only-of-type {\n",
       "        vertical-align: middle;\n",
       "    }\n",
       "\n",
       "    .dataframe tbody tr th {\n",
       "        vertical-align: top;\n",
       "    }\n",
       "\n",
       "    .dataframe thead th {\n",
       "        text-align: right;\n",
       "    }\n",
       "</style>\n",
       "<table border=\"1\" class=\"dataframe\">\n",
       "  <thead>\n",
       "    <tr style=\"text-align: right;\">\n",
       "      <th></th>\n",
       "      <th>label</th>\n",
       "      <th>text</th>\n",
       "      <th>clean_text</th>\n",
       "      <th>lem_text</th>\n",
       "      <th>remove_punct</th>\n",
       "    </tr>\n",
       "    <tr>\n",
       "      <th>id</th>\n",
       "      <th></th>\n",
       "      <th></th>\n",
       "      <th></th>\n",
       "      <th></th>\n",
       "      <th></th>\n",
       "    </tr>\n",
       "  </thead>\n",
       "  <tbody>\n",
       "    <tr>\n",
       "      <th>0</th>\n",
       "      <td>ham</td>\n",
       "      <td>Go until jurong point, crazy.. Available only ...</td>\n",
       "      <td>go until jurong point crazy available only in ...</td>\n",
       "      <td>go until jurong point crazy available only in ...</td>\n",
       "      <td>go until jurong point crazy available only in ...</td>\n",
       "    </tr>\n",
       "    <tr>\n",
       "      <th>1</th>\n",
       "      <td>ham</td>\n",
       "      <td>Ok lar... Joking wif u oni...</td>\n",
       "      <td>ok lar joking wif u oni</td>\n",
       "      <td>ok lar joking wif u oni</td>\n",
       "      <td>ok lar joking wif u oni</td>\n",
       "    </tr>\n",
       "    <tr>\n",
       "      <th>2</th>\n",
       "      <td>spam</td>\n",
       "      <td>Free entry in 2 a wkly comp to win FA Cup fina...</td>\n",
       "      <td>free entry in 2 a wkly comp to win fa cup fina...</td>\n",
       "      <td>free entry in 2 a wkly comp to win fa cup fina...</td>\n",
       "      <td>free entry in a wkly comp to win fa cup final ...</td>\n",
       "    </tr>\n",
       "    <tr>\n",
       "      <th>3</th>\n",
       "      <td>ham</td>\n",
       "      <td>U dun say so early hor... U c already then say...</td>\n",
       "      <td>u dun say so early hor u c already then say</td>\n",
       "      <td>u dun say so early hor u c already then say</td>\n",
       "      <td>u dun say so early hor u c already then say</td>\n",
       "    </tr>\n",
       "    <tr>\n",
       "      <th>4</th>\n",
       "      <td>ham</td>\n",
       "      <td>Nah I don't think he goes to usf, he lives aro...</td>\n",
       "      <td>nah i don't think he goes to usf he lives arou...</td>\n",
       "      <td>nah i don't think he go to usf he life around ...</td>\n",
       "      <td>nah i do think he go to usf he life around her...</td>\n",
       "    </tr>\n",
       "  </tbody>\n",
       "</table>\n",
       "</div>"
      ],
      "text/plain": [
       "   label  ...                                       remove_punct\n",
       "id        ...                                                   \n",
       "0    ham  ...  go until jurong point crazy available only in ...\n",
       "1    ham  ...                            ok lar joking wif u oni\n",
       "2   spam  ...  free entry in a wkly comp to win fa cup final ...\n",
       "3    ham  ...        u dun say so early hor u c already then say\n",
       "4    ham  ...  nah i do think he go to usf he life around her...\n",
       "\n",
       "[5 rows x 5 columns]"
      ]
     },
     "execution_count": 46,
     "metadata": {},
     "output_type": "execute_result"
    }
   ],
   "source": [
    "# importing nltk module and work_tokenize function\n",
    "import nltk\n",
    "from nltk.tokenize import word_tokenize\n",
    "\n",
    "# initializing empty remove_punctuation list\n",
    "remove_punct = []\n",
    "\n",
    "# for loop that will run through each string in the lem_string series, tokenize the string, remove the \n",
    "#     puncutation tokens, and then join the tokens back to a string\n",
    "for string in df.lem_text:    \n",
    "    remove_punct.append(' '.join([word for word in word_tokenize(string) if word.isalpha()]))\n",
    "    \n",
    "# adding remove punctuation strings to df\n",
    "df['remove_punct'] = remove_punct\n",
    "\n",
    "# previewing updated df\n",
    "df.head()"
   ]
  },
  {
   "cell_type": "markdown",
   "id": "9f3c70db",
   "metadata": {},
   "source": [
    "D. `remove_stopwords`"
   ]
  },
  {
   "cell_type": "code",
   "execution_count": 47,
   "id": "01fbedf4",
   "metadata": {},
   "outputs": [
    {
     "data": {
      "text/html": [
       "<div>\n",
       "<style scoped>\n",
       "    .dataframe tbody tr th:only-of-type {\n",
       "        vertical-align: middle;\n",
       "    }\n",
       "\n",
       "    .dataframe tbody tr th {\n",
       "        vertical-align: top;\n",
       "    }\n",
       "\n",
       "    .dataframe thead th {\n",
       "        text-align: right;\n",
       "    }\n",
       "</style>\n",
       "<table border=\"1\" class=\"dataframe\">\n",
       "  <thead>\n",
       "    <tr style=\"text-align: right;\">\n",
       "      <th></th>\n",
       "      <th>label</th>\n",
       "      <th>text</th>\n",
       "      <th>clean_text</th>\n",
       "      <th>lem_text</th>\n",
       "      <th>remove_punct</th>\n",
       "      <th>prepared_string</th>\n",
       "    </tr>\n",
       "    <tr>\n",
       "      <th>id</th>\n",
       "      <th></th>\n",
       "      <th></th>\n",
       "      <th></th>\n",
       "      <th></th>\n",
       "      <th></th>\n",
       "      <th></th>\n",
       "    </tr>\n",
       "  </thead>\n",
       "  <tbody>\n",
       "    <tr>\n",
       "      <th>0</th>\n",
       "      <td>ham</td>\n",
       "      <td>Go until jurong point, crazy.. Available only ...</td>\n",
       "      <td>go until jurong point crazy available only in ...</td>\n",
       "      <td>go until jurong point crazy available only in ...</td>\n",
       "      <td>go until jurong point crazy available only in ...</td>\n",
       "      <td>go jurong point crazy available bugis n great ...</td>\n",
       "    </tr>\n",
       "    <tr>\n",
       "      <th>1</th>\n",
       "      <td>ham</td>\n",
       "      <td>Ok lar... Joking wif u oni...</td>\n",
       "      <td>ok lar joking wif u oni</td>\n",
       "      <td>ok lar joking wif u oni</td>\n",
       "      <td>ok lar joking wif u oni</td>\n",
       "      <td>ok lar joking wif u oni</td>\n",
       "    </tr>\n",
       "    <tr>\n",
       "      <th>2</th>\n",
       "      <td>spam</td>\n",
       "      <td>Free entry in 2 a wkly comp to win FA Cup fina...</td>\n",
       "      <td>free entry in 2 a wkly comp to win fa cup fina...</td>\n",
       "      <td>free entry in 2 a wkly comp to win fa cup fina...</td>\n",
       "      <td>free entry in a wkly comp to win fa cup final ...</td>\n",
       "      <td>free entry wkly comp win fa cup final tkts may...</td>\n",
       "    </tr>\n",
       "    <tr>\n",
       "      <th>3</th>\n",
       "      <td>ham</td>\n",
       "      <td>U dun say so early hor... U c already then say...</td>\n",
       "      <td>u dun say so early hor u c already then say</td>\n",
       "      <td>u dun say so early hor u c already then say</td>\n",
       "      <td>u dun say so early hor u c already then say</td>\n",
       "      <td>u dun say early hor u c already say</td>\n",
       "    </tr>\n",
       "    <tr>\n",
       "      <th>4</th>\n",
       "      <td>ham</td>\n",
       "      <td>Nah I don't think he goes to usf, he lives aro...</td>\n",
       "      <td>nah i don't think he goes to usf he lives arou...</td>\n",
       "      <td>nah i don't think he go to usf he life around ...</td>\n",
       "      <td>nah i do think he go to usf he life around her...</td>\n",
       "      <td>nah think go usf life around though</td>\n",
       "    </tr>\n",
       "  </tbody>\n",
       "</table>\n",
       "</div>"
      ],
      "text/plain": [
       "   label  ...                                    prepared_string\n",
       "id        ...                                                   \n",
       "0    ham  ...  go jurong point crazy available bugis n great ...\n",
       "1    ham  ...                            ok lar joking wif u oni\n",
       "2   spam  ...  free entry wkly comp win fa cup final tkts may...\n",
       "3    ham  ...                u dun say early hor u c already say\n",
       "4    ham  ...                nah think go usf life around though\n",
       "\n",
       "[5 rows x 6 columns]"
      ]
     },
     "execution_count": 47,
     "metadata": {},
     "output_type": "execute_result"
    }
   ],
   "source": [
    "# importing remove_stopwords functions from prepare module\n",
    "from prepare import remove_stopwords\n",
    "\n",
    "# initializing empty string that will hold last step of prepare, remove_stopwords strings, fully prepared\n",
    "prepared_string = []\n",
    "\n",
    "# for loop removing stopwords from each string in the remove_puct series of strings, appending the above list\n",
    "for string in df.remove_punct:\n",
    "    prepared_string.append(remove_stopwords(string))\n",
    "    \n",
    "# adding prepare string series to df\n",
    "df['prepared_string'] = prepared_string\n",
    "\n",
    "# previewing updated df\n",
    "df.head()\n"
   ]
  },
  {
   "cell_type": "markdown",
   "id": "d6898f10",
   "metadata": {},
   "source": [
    "# Step 3 | `TF-IDF` transformation and data split\n",
    "Transforming text to numerical values using **Term Frequency** *how often each word in the string appears in each document* and **Inverse Document Frequency** *a measure based on how many documents in which each word in the string will appear* <br>\n",
    "<br>\n",
    "After transforming the text data into numerical `tf-idf` values, we will then split in preparation for modeling and evaluation."
   ]
  },
  {
   "cell_type": "code",
   "execution_count": 50,
   "id": "b7e96866",
   "metadata": {},
   "outputs": [
    {
     "name": "stdout",
     "output_type": "stream",
     "text": [
      "Train Preview:\n",
      "     actual\n",
      "id         \n",
      "3592    ham\n",
      "2618    ham\n",
      "\n",
      "Test Preview:\n",
      "     actual\n",
      "id         \n",
      "408     ham\n",
      "4540    ham\n"
     ]
    }
   ],
   "source": [
    "# creating tf-idf object\n",
    "tfidf = TfidfVectorizer()\n",
    "\n",
    "# splitting into X and y and tranforming prepared_string series into tf-idf values\n",
    "X = tfidf.fit_transform(df.prepared_string)\n",
    "y = df.label\n",
    "\n",
    "# splitting data into train and test for X and y\n",
    "X_train, X_test, y_train, y_test = train_test_split(X, y, stratify = y, test_size = .2)\n",
    "\n",
    "# creating df for y train and test target actual values\n",
    "train = pd.DataFrame(dict(actual = y_train))\n",
    "test = pd.DataFrame(dict(actual = y_test))\n",
    "\n",
    "# previewing train and test predictions dfs\n",
    "print(f'Train Preview:\\n{train.head(2)}\\n\\nTest Preview:\\n{test.head(2)}')"
   ]
  },
  {
   "cell_type": "markdown",
   "id": "b940ab3e",
   "metadata": {},
   "source": [
    "# Step 4 | Modeling data\n",
    "### 4a. Classification And Regression Tree `CART Decision Tree Algorithm`\n",
    "### 4b. Random Forest `Random Forest Classifier Algorithm`\n",
    "### 4c. K-Nearest Neighbor `KNN Algorithm`\n",
    "### 4d. *"
   ]
  },
  {
   "cell_type": "code",
   "execution_count": 53,
   "id": "728882f0",
   "metadata": {},
   "outputs": [
    {
     "data": {
      "text/plain": [
       "DecisionTreeClassifier(max_depth=3, random_state=78)"
      ]
     },
     "execution_count": 53,
     "metadata": {},
     "output_type": "execute_result"
    }
   ],
   "source": [
    "# importing Decision Tree object\n",
    "from sklearn.tree import DecisionTreeClassifier, plot_tree\n",
    "\n",
    "# creating Decision Tree model object\n",
    "clf = DecisionTreeClassifier(max_depth = 3, random_state = 78)\n",
    "\n",
    "# fitting the model to train data\n",
    "clf = clf.fit(X_train, y_train)"
   ]
  },
  {
   "cell_type": "code",
   "execution_count": 63,
   "id": "6f064c4f",
   "metadata": {},
   "outputs": [
    {
     "data": {
      "image/png": "[encoded data removed]",
      "text/plain": [
       "<Figure size 1296x720 with 1 Axes>"
      ]
     },
     "metadata": {
      "needs_background": "light"
     },
     "output_type": "display_data"
    }
   ],
   "source": [
    "# visualizing the Decision Tree for the train data\n",
    "plt.figure(figsize = (18, 10))\n",
    "plot_tree(clf, class_names = clf.classes_, rounded = True)\n",
    "plt.title('Decision Tree for Train Data')\n",
    "plt.show()"
   ]
  },
  {
   "cell_type": "code",
   "execution_count": 73,
   "id": "b7b7c300",
   "metadata": {},
   "outputs": [
    {
     "data": {
      "text/html": [
       "<div>\n",
       "<style scoped>\n",
       "    .dataframe tbody tr th:only-of-type {\n",
       "        vertical-align: middle;\n",
       "    }\n",
       "\n",
       "    .dataframe tbody tr th {\n",
       "        vertical-align: top;\n",
       "    }\n",
       "\n",
       "    .dataframe thead th {\n",
       "        text-align: right;\n",
       "    }\n",
       "</style>\n",
       "<table border=\"1\" class=\"dataframe\">\n",
       "  <thead>\n",
       "    <tr style=\"text-align: right;\">\n",
       "      <th></th>\n",
       "      <th>actual</th>\n",
       "      <th>DT_pred</th>\n",
       "    </tr>\n",
       "    <tr>\n",
       "      <th>id</th>\n",
       "      <th></th>\n",
       "      <th></th>\n",
       "    </tr>\n",
       "  </thead>\n",
       "  <tbody>\n",
       "    <tr>\n",
       "      <th>3592</th>\n",
       "      <td>ham</td>\n",
       "      <td>ham</td>\n",
       "    </tr>\n",
       "    <tr>\n",
       "      <th>2618</th>\n",
       "      <td>ham</td>\n",
       "      <td>ham</td>\n",
       "    </tr>\n",
       "    <tr>\n",
       "      <th>4432</th>\n",
       "      <td>ham</td>\n",
       "      <td>ham</td>\n",
       "    </tr>\n",
       "    <tr>\n",
       "      <th>1227</th>\n",
       "      <td>ham</td>\n",
       "      <td>ham</td>\n",
       "    </tr>\n",
       "    <tr>\n",
       "      <th>158</th>\n",
       "      <td>spam</td>\n",
       "      <td>spam</td>\n",
       "    </tr>\n",
       "    <tr>\n",
       "      <th>...</th>\n",
       "      <td>...</td>\n",
       "      <td>...</td>\n",
       "    </tr>\n",
       "    <tr>\n",
       "      <th>702</th>\n",
       "      <td>ham</td>\n",
       "      <td>ham</td>\n",
       "    </tr>\n",
       "    <tr>\n",
       "      <th>648</th>\n",
       "      <td>ham</td>\n",
       "      <td>ham</td>\n",
       "    </tr>\n",
       "    <tr>\n",
       "      <th>1696</th>\n",
       "      <td>ham</td>\n",
       "      <td>ham</td>\n",
       "    </tr>\n",
       "    <tr>\n",
       "      <th>1947</th>\n",
       "      <td>ham</td>\n",
       "      <td>ham</td>\n",
       "    </tr>\n",
       "    <tr>\n",
       "      <th>1643</th>\n",
       "      <td>ham</td>\n",
       "      <td>ham</td>\n",
       "    </tr>\n",
       "  </tbody>\n",
       "</table>\n",
       "<p>4457 rows × 2 columns</p>\n",
       "</div>"
      ],
      "text/plain": [
       "     actual DT_pred\n",
       "id                 \n",
       "3592    ham     ham\n",
       "2618    ham     ham\n",
       "4432    ham     ham\n",
       "1227    ham     ham\n",
       "158    spam    spam\n",
       "...     ...     ...\n",
       "702     ham     ham\n",
       "648     ham     ham\n",
       "1696    ham     ham\n",
       "1947    ham     ham\n",
       "1643    ham     ham\n",
       "\n",
       "[4457 rows x 2 columns]"
      ]
     },
     "execution_count": 73,
     "metadata": {},
     "output_type": "execute_result"
    }
   ],
   "source": [
    "# making predictions for train\n",
    "train['DT_pred'] = clf.predict(X_train)\n",
    "train"
   ]
  },
  {
   "cell_type": "code",
   "execution_count": 87,
   "id": "a700d61f",
   "metadata": {},
   "outputs": [
    {
     "name": "stdout",
     "output_type": "stream",
     "text": [
      "Evaluation Metrics for Decision Tree Model\n",
      "\n",
      "i. Accuracy: 93%\n",
      "------------------------------\n",
      "\n",
      "ii. Confusion Matrix\n",
      "\n",
      "actual    ham  spam\n",
      "DT_pred            \n",
      "ham      3787   228\n",
      "spam       72   370\n",
      "------------------------------\n",
      "\n",
      "iii. Classification Report\n",
      "              precision    recall  f1-score   support\n",
      "\n",
      "         ham       0.94      0.98      0.96      3859\n",
      "        spam       0.84      0.62      0.71       598\n",
      "\n",
      "    accuracy                           0.93      4457\n",
      "   macro avg       0.89      0.80      0.84      4457\n",
      "weighted avg       0.93      0.93      0.93      4457\n",
      "\n"
     ]
    }
   ],
   "source": [
    "# evaluating train predictions for Decision Tree Model\n",
    "print('Evaluation Metrics for Decision Tree Model')\n",
    "print()\n",
    "\n",
    "# i. accuracy\n",
    "print(f'i. Accuracy: {int(accuracy_score(train.actual, train.DT_pred).round(2)*100)}%')\n",
    "print('------------------------------')\n",
    "print()\n",
    "\n",
    "# ii. Confusion Matrix\n",
    "print(f'ii. Confusion Matrix\\n\\n{pd.crosstab(train.DT_pred, train.actual)}')\n",
    "print('------------------------------')\n",
    "print()\n",
    "\n",
    "# iii. Classification Report\n",
    "print(f'iii. Classification Report\\n{classification_report(train.actual, train.DT_pred)}')"
   ]
  },
  {
   "cell_type": "markdown",
   "id": "d7c362eb",
   "metadata": {},
   "source": [
    "# Takeaways from `DT` Model\n",
    "For this scenario we want to optimize our model to prevent `false-positives` so the evaluation metric that is most important would be the `precision`\n",
    ">### Precision for Decision Tree on train data: 84%"
   ]
  },
  {
   "cell_type": "markdown",
   "id": "78ee3da3",
   "metadata": {},
   "source": [
    "### 4b. Random Forest `Random Forest Classifier Algorithm`"
   ]
  },
  {
   "cell_type": "code",
   "execution_count": null,
   "id": "f0f54b82",
   "metadata": {},
   "outputs": [],
   "source": [
    "# importing random forest function\n",
    "from sklearn.ensemble import RandomForestClassifier\n",
    "\n",
    "creating \n"
   ]
  }
 ],
 "metadata": {
  "kernelspec": {
   "display_name": "Python 3",
   "language": "python",
   "name": "python3"
  },
  "language_info": {
   "codemirror_mode": {
    "name": "ipython",
    "version": 3
   },
   "file_extension": ".py",
   "mimetype": "text/x-python",
   "name": "python",
   "nbconvert_exporter": "python",
   "pygments_lexer": "ipython3",
   "version": "3.8.8"
  }
 },
 "nbformat": 4,
 "nbformat_minor": 5
}
