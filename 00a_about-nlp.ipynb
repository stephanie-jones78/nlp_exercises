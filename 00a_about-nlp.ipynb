{
 "cells": [
  {
   "cell_type": "markdown",
   "id": "1d055238",
   "metadata": {},
   "source": [
    "# Natural Language Processing\n",
    "Tues., Feb. 1, 2022\n",
    ">Making sense of large amounts of text data using programming and machine learning\n",
    "## Review\n",
    "5 big questions ML methods can answer:\n",
    "1. Regression | How many or how much of something \n",
    "2. Classification | Is this A or B or C (or something else) \n",
    "3. Clustering | What relationships/groupings/similarities exist in the data already \n",
    "4. Time Series | What should we expect to happen next \n",
    "5. Anamoly Detection | Is this weird?\n",
    "\n",
    "## Natural Language\n",
    "How humans naturally speak\n",
    "## Formal Languages\n",
    "- Music\n",
    "- Math\n",
    "- Programming languages\n",
    "\n",
    "## Use Cases\n",
    "- Voice of customer analytics\n",
    "- Semantic search\n",
    "- Knowledge management and discovery\n",
    "\n",
    "## Methods\n",
    "- Text classification\n",
    "    - Supervised (working with labeled data)\n",
    "    - Classification models, assigning tags or categories to text and its content\n",
    "- Topic modeling\n",
    "    - Unsupervised (working with unlabeled data)\n",
    "    - Trying to map patterns \n",
    "    - Similar to clustering\n",
    "\n",
    "## Process\n",
    "1. Acquiring text documents\n",
    "    - **`Corpus`**: a body of text\n",
    "        - Tv show transcripts\n",
    "        - Emails/texts\n",
    "        - Survey responses\n",
    "2. Text pre-processing\n",
    "    - Normalizing text\n",
    "        - Lowercase\n",
    "        - Removing special characters\n",
    "        - Stem or lemmatize words (standardizing, *i.e. run, running, runs == run*\n",
    "        - n-grams: co-occuring words that have meaning when used together *i.e. data science, a lot, etc.*\n",
    "        - Parts of speech (POS) tagging\n",
    "        - Chunking\n",
    "        - Vectorization\n",
    "    - Turning text into DataFrames\n",
    "3. Text parsing and exploratory analysis\n",
    "    - Feature engineering\n",
    "\n",
    "## Vocab\n",
    "- **`stemming`** reducing words to their stem root (chop)\n",
    "- **`lemmatization`** boiling words down to thier simple dictionary meaning (context, *i.e. better become good*)\n",
    "- **`tokenization`** breaking up text into linguistic units\n",
    "- **`entity`** the type of entity extracted (person, place, or thing)\n",
    "- **`corpus`** set of documents\n",
    "- **`document`** a single observation (like the body of an email)\n",
    "- **`sentence`** (sometime may want to treat a single sentence as a `document`"
   ]
  },
  {
   "cell_type": "markdown",
   "id": "8db6ccd9",
   "metadata": {},
   "source": [
    "# Additional Resource\n",
    "[A Practitioner's Guide to Natural Language Processing (Part I) — Processing & Understanding Text](https://towardsdatascience.com/a-practitioners-guide-to-natural-language-processing-part-i-processing-understanding-text-9f4abfd13e72) | Proven and tested hands-on strategies to tackle NLP tasks, Dipanjan (DJ) Sarkar, *Jun 19, 2018*<br>\n",
    "[Regex Documentation](https://docs.python.org/3/library/re.html)<br>\n",
    "[Regex How to](https://docs.python.org/3/howto/regex.html)"
   ]
  },
  {
   "cell_type": "code",
   "execution_count": null,
   "id": "8bf1b8ab",
   "metadata": {},
   "outputs": [],
   "source": []
  }
 ],
 "metadata": {
  "kernelspec": {
   "display_name": "Python 3",
   "language": "python",
   "name": "python3"
  },
  "language_info": {
   "codemirror_mode": {
    "name": "ipython",
    "version": 3
   },
   "file_extension": ".py",
   "mimetype": "text/x-python",
   "name": "python",
   "nbconvert_exporter": "python",
   "pygments_lexer": "ipython3",
   "version": "3.8.8"
  }
 },
 "nbformat": 4,
 "nbformat_minor": 5
}
