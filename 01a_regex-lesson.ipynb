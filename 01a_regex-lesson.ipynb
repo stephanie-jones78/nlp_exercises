{
 "cells": [
  {
   "cell_type": "markdown",
   "id": "9283fa46",
   "metadata": {},
   "source": [
    "# Meet Regular Expressions\n",
    "**Word Algebra**<br>\n",
    "A meta language used to find and describe regular patterns in text.\n",
    "- Find and extract text that matches a pattern\n",
    "- Replace or subsistitute text that matches a pattern\n",
    "\n",
    "Metacharacters | Matches | Example\n",
    ":--- | :--- | :---\n",
    "`.` | anything | 'aBc! 123!' >> `['a', 'B', 'c', '!', ' ', '1', '2', '3', '!']`\n",
    "`\\w` | any letter or number | 'aBc! 123!' >> `[a, b, c, 1, 2, 3]`\n",
    "`\\W` | anything that is *not* a letter or number | 'aBc! 123!' >> `['!', ' ', '!', ]`\n",
    "`\\d` | any digit | 'aBc! 123!' >> `['1', '2', '3']`\n",
    "`\\D` | anything that is *not* a digit | 'aBc! 123!' >> `['a', 'B', 'c', '!', ' ', '!']`\n",
    "`\\s` | any whitespace character | 'aBc! 123!' >> `[' ']`\n",
    "\n",
    "Repeating | Matches | Example\n",
    ":--- | :--- | :---\n",
    "`.` | this can be anything\n",
    "`*` | zero or more instances of the character to the left| \n",
    "`+` | one or more instances of the character to the left| \n",
    "`{n}` | exactly ***n*** consecutive repetitions of the character to the left| \n",
    "`{n,}` | ***n*** or more consecutive repititions of the character to the left| \n",
    "`{n, m}` | between ***n*** and ***m*** consecutive repititions of the character to the left| \n",
    "`?` | optional; cool if the character to left is there or if it isn't | \n",
    "\n",
    "Anchor | Matches | Example\n",
    ":--- | :--- | :---\n",
    "`^` | starts with `' '` | \n",
    "`$` | `' '` ends with | \n",
    "`\\b` | a word boundary | \n",
    "\n",
    "Functions | Matches | Example\n",
    ":--- | :--- | :---\n",
    "`match` | matches from the start of the string | \n",
    "`search` | finds the first instance of the regular expression | \n",
    "`sub` | makes a subsistitution with a regular expression | \n",
    "`compile` | prepares a regular expression for use ahead of time | \n",
    "\n",
    "\n",
    "\n",
    "## What?\n",
    "- Regular expressions (called regexes or regex patterns) are a tiny language for dealing with text and character patterns.\n",
    "- With RegEx patterns we can:\n",
    "    - Does this string match a pattern?\n",
    "    - Is there a match for the pattern anywhere in the string?\n",
    "    - Modify + split strings in various ways\n",
    "    \n",
    "re library functions\n",
    "- `re.search` scans through a string, looking for any location where the RE matches.\n",
    "- `re.findall` Finds all substrings where the RE matches; returns a list.\n",
    "- `re.split` splits a string on a given regex pattern, removing that pattern. The result is a list of a strings.\n",
    "- `re.sub` allows us to match a regex and substitute in a new substring for the match.\n",
    "\n",
    "\n",
    "## So What?\n",
    "- Power + precision\n",
    "    - Cost is learning something new and potentially unfamiliar.\n",
    "    - Payoff is a language that works with any other programming language to operate on text and character patterns.\n",
    "- Regular Expressions are cross platform and available in many programming languages and environments:\n",
    "    - Command line tools (Linux, Windows, Mac, etc...)\n",
    "    - Python\n",
    "    - SQL flavors offer RegEx\n",
    "    - Java (Scala/Clojure)\n",
    "    - Other languages like Julia, Ruby, PHP, C#, etc...\n",
    "    - Like SQL, there are differences between some of the different RegEx implementations, but if you know your RegEx, you can bring value in many environments.\n",
    "\n",
    "## When is RegEx the right tool or wrong tool?\n",
    "- If you can solve the problem with built-in string methods in your language, do so.\n",
    "- If you need more capability than built-in string methods\n",
    "- If you're parsing HTML, JSON, or XML, use a tool built for those formats. Regex + html/json = don't\n",
    "\n",
    "## Now What?\n",
    "- We'll start simple by writing regex patterns to match literal characters.\n",
    "- Then we will introduce metacharacters, that have special meaning and functionality.\n",
    "\n",
    "## Key Concepts\n",
    "- The RegEx metacharacters `. ^ $ * + ? { } [ ] \\ | ( )` have special meanings. \n",
    "- Square brackets create a \"character class\". \n",
    "    - Character classes allow us to specify many OR operations\n",
    "    - For example, `r\"[aeiou]\"` matches any lowercase vowel character. Identical to `r\"a|e|i|o|u\"`\n",
    "    - `r\"[a-z]\"` matches lowercase a through z.\n",
    "- Metacharacters are not active inside of the character class square brackets `[]`\n",
    "- Outside of the character class `[]`, if you need to match a metacharacter character literally, you will need to put a `\\` in front of that character. `r\"\\+\"` will match the literal `+` character.\n",
    "- RegEx has characters for special sequences:\n",
    "    - `.` matches any character\n",
    "    - `\\d` matches any numeral. Is equivalent to `[0-9]`\n",
    "    - `\\D` matches any non-digit character and is equivalent to `[^0-9]`. \n",
    "    - `\\s` matches any white space like ` `, tab, soft return, new line etc...\n",
    "    - `\\w` matches any alphanumeric character and underscore. Equivalent to `[0-9a-zA-Z_]`\n",
    "    - `\\W` matches any non-alphanumeric character. Equivalent to `[^a-zA-Z0-9_]`\n",
    "- `.` Matches any character\n",
    "- Repetition:\n",
    "    - `*` matches zero or more of the previous pattern\n",
    "    - `+` matches 1 or more of the previous pattern\n",
    "- `?` after a pattern means that pattern is optional\n",
    "- Not - `[^abc]` matches anything but \"a\" or \"b\" or \"c\"\n",
    "- Anchors\n",
    "    - `^` start\n",
    "    - `$` end\n",
    "    - `\\b` word boundary\n",
    "- Groups\n",
    "    - `(a)`\n",
    "\n",
    "## How Deep Does RegEx go?\n",
    "- For challenging strings to match, like email addresses, recommend using pre-built RegEx specifications like  the HTML specification at https://html.spec.whatwg.org/multipage/forms.html#valid-e-mail-address\n",
    "- With known, good, and proven RegEx patterns like these, you don't need to reinvent things.\n",
    "- ```r\"^[a-zA-Z0-9.!#$%&'*+/=?^_`{|}~-]+@[a-zA-Z0-9](?:[a-zA-Z0-9-]{0,61}[a-zA-Z0-9])?(?:\\.[a-zA-Z0-9](?:[a-zA-Z0-9-]{0,61}[a-zA-Z0-9])?)*$\"```\n"
   ]
  },
  {
   "cell_type": "code",
   "execution_count": 1,
   "id": "fdb0df63",
   "metadata": {},
   "outputs": [],
   "source": [
    "# importing regex library\n",
    "import re"
   ]
  },
  {
   "cell_type": "markdown",
   "id": "935082af",
   "metadata": {},
   "source": [
    "### `findall` function\n",
    "- Accepts `regular expression` string (the pattern) and another `input string` (string to be searched)\n",
    "- Returns a list of all the instances for which the input `regular expression` matches the `input string`\n",
    "- `r` prefix == raw string\n",
    "\n",
    "**`re.findall(r'regex string', 'input string')`**"
   ]
  },
  {
   "cell_type": "code",
   "execution_count": 2,
   "id": "7d2c021e",
   "metadata": {},
   "outputs": [
    {
     "data": {
      "text/plain": [
       "['b']"
      ]
     },
     "execution_count": 2,
     "metadata": {},
     "output_type": "execute_result"
    }
   ],
   "source": [
    "re.findall(r'b', 'abcd')\n",
    "# this should return ['b']"
   ]
  },
  {
   "cell_type": "markdown",
   "id": "bc0c9672",
   "metadata": {},
   "source": [
    "### Metacharacters and Character Classes\n",
    "There are special **`metacharacters`** in regular expressions. These are not literal character matchers but matchers to several kinds of characters.<br><br>\n",
    "*Metacharacters must be escaped* `/` *to match the literal character itself.*\n",
    "\n",
    "Metacharacter | Matches | Example\n",
    ":--- | :--- | :---\n",
    "`.` | anything | 'aBc! 123!' >> `['a', 'B', 'c', '!', ' ', '1', '2', '3', '!']`\n",
    "`\\w` | any letter or number | 'aBc! 123!' >> `[a, b, c, 1, 2, 3]`\n",
    "`\\W` | anything that is *not* a letter or number | 'aBc! 123!' >> `['!', ' ', '!', ]`\n",
    "`\\d` | any digit | 'aBc! 123!' >> `['1', '2', '3']`\n",
    "`\\D` | anything that is *not* a digit | 'aBc! 123!' >> `['a', 'B', 'c', '!', ' ', '!']`\n",
    "`\\s` | any whitespace character | 'aBc! 123!' >> `[' ']`\n"
   ]
  },
  {
   "cell_type": "code",
   "execution_count": 3,
   "id": "4e246d26",
   "metadata": {
    "collapsed": true
   },
   "outputs": [
    {
     "data": {
      "text/plain": [
       "['C',\n",
       " 'a',\n",
       " 'n',\n",
       " ' ',\n",
       " 'b',\n",
       " 'e',\n",
       " ' ',\n",
       " 'a',\n",
       " 'n',\n",
       " 'y',\n",
       " 't',\n",
       " 'h',\n",
       " 'i',\n",
       " 'n',\n",
       " 'g',\n",
       " '.']"
      ]
     },
     "execution_count": 3,
     "metadata": {},
     "output_type": "execute_result"
    }
   ],
   "source": [
    "re.findall(r'.', 'Can be anything.')\n",
    "# should return every single character, including spaces and special characters as a list of individual strings"
   ]
  },
  {
   "cell_type": "code",
   "execution_count": 4,
   "id": "89f3ad41",
   "metadata": {},
   "outputs": [
    {
     "data": {
      "text/plain": [
       "['a', 'B', 'c', '!', ' ', '1', '2', '3', '!']"
      ]
     },
     "execution_count": 4,
     "metadata": {},
     "output_type": "execute_result"
    }
   ],
   "source": [
    "re.findall(r'.', 'aBc! 123!')\n",
    "# should return a list of strings for each character"
   ]
  },
  {
   "cell_type": "code",
   "execution_count": 5,
   "id": "430f8259",
   "metadata": {
    "scrolled": true
   },
   "outputs": [
    {
     "data": {
      "text/plain": [
       "['a', 'B', 'c', '1', '2', '3']"
      ]
     },
     "execution_count": 5,
     "metadata": {},
     "output_type": "execute_result"
    }
   ],
   "source": [
    "re.findall(r'\\w', 'aBc! 123!')\n",
    "# should return a list of strings for each alphanumeric character, excluding spaces and special characters"
   ]
  },
  {
   "cell_type": "code",
   "execution_count": 6,
   "id": "e681225d",
   "metadata": {},
   "outputs": [
    {
     "data": {
      "text/plain": [
       "['!', ' ', '!']"
      ]
     },
     "execution_count": 6,
     "metadata": {},
     "output_type": "execute_result"
    }
   ],
   "source": [
    "re.findall(r'\\W', 'aBc! 123!')\n",
    "# should return a list of strings of all special characters and spaces"
   ]
  },
  {
   "cell_type": "code",
   "execution_count": 7,
   "id": "1a2a4761",
   "metadata": {},
   "outputs": [
    {
     "data": {
      "text/plain": [
       "['1', '2', '3']"
      ]
     },
     "execution_count": 7,
     "metadata": {},
     "output_type": "execute_result"
    }
   ],
   "source": [
    "re.findall(r'\\d', 'aBc! 123!')\n",
    "# should return a list of strings of each individual digit"
   ]
  },
  {
   "cell_type": "code",
   "execution_count": 8,
   "id": "f8fa377a",
   "metadata": {},
   "outputs": [
    {
     "data": {
      "text/plain": [
       "['a', 'B', 'c', '!', ' ', '!']"
      ]
     },
     "execution_count": 8,
     "metadata": {},
     "output_type": "execute_result"
    }
   ],
   "source": [
    "re.findall(r'\\D', 'aBc! 123!')\n",
    "# should returns a list of strings for each non-numeric character, to include spaces and special characters"
   ]
  },
  {
   "cell_type": "code",
   "execution_count": 9,
   "id": "7d441490",
   "metadata": {},
   "outputs": [
    {
     "data": {
      "text/plain": [
       "[' ']"
      ]
     },
     "execution_count": 9,
     "metadata": {},
     "output_type": "execute_result"
    }
   ],
   "source": [
    "re.findall(r'\\s', 'aBc! 123!')\n",
    "# should return a string of each character that is a whitespace"
   ]
  },
  {
   "cell_type": "markdown",
   "id": "5539b755",
   "metadata": {},
   "source": [
    "### Repeating metacharacters\n",
    "Metacharacter | Matches | Example\n",
    ":--- | :--- | :---\n",
    "`.` | this can be anything\n",
    "`*` | zero or more instances of the character to the left| \n",
    "`+` | one or more instances of the character to the left| \n",
    "`{n}` | exactly ***n*** consecutive repetitions of the character to the left| \n",
    "`{n,}` | ***n*** or more consecutive repititions of the character to the left| \n",
    "`{n, m}` | between ***n*** and ***m*** consecutive repititions of the character to the left| \n",
    "`?` | optional; cool if the character to left is there or if it isn't | \n"
   ]
  },
  {
   "cell_type": "code",
   "execution_count": 15,
   "id": "4837f3a4",
   "metadata": {},
   "outputs": [],
   "source": [
    "def r(regex, string):\n",
    "    '''\n",
    "    this function takes in a regular expression and a string to be searched and returns its \n",
    "    findall value.\n",
    "    '''\n",
    "    \n",
    "    print(f'Regex: {regex}, String: {string}')\n",
    "    \n",
    "    return re.findall(regex, string)"
   ]
  },
  {
   "cell_type": "code",
   "execution_count": 16,
   "id": "328c1c8b",
   "metadata": {},
   "outputs": [
    {
     "name": "stdout",
     "output_type": "stream",
     "text": [
      "Regex: [ ], String: This is a string.\n"
     ]
    },
    {
     "data": {
      "text/plain": [
       "[' ', ' ', ' ']"
      ]
     },
     "execution_count": 16,
     "metadata": {},
     "output_type": "execute_result"
    }
   ],
   "source": [
    "# findall for empty string\n",
    "r(r'[ ]', 'This is a string.')"
   ]
  },
  {
   "cell_type": "code",
   "execution_count": 17,
   "id": "a6edfc72",
   "metadata": {},
   "outputs": [
    {
     "name": "stdout",
     "output_type": "stream",
     "text": [
      "Regex:  , String: This is a string.\n"
     ]
    },
    {
     "data": {
      "text/plain": [
       "[' ', ' ', ' ']"
      ]
     },
     "execution_count": 17,
     "metadata": {},
     "output_type": "execute_result"
    }
   ],
   "source": [
    "r(r' ', 'This is a string.')"
   ]
  },
  {
   "cell_type": "code",
   "execution_count": 19,
   "id": "a7e50f30",
   "metadata": {},
   "outputs": [
    {
     "name": "stdout",
     "output_type": "stream",
     "text": [
      "Regex: \\s, String: This is a string.\n"
     ]
    },
    {
     "data": {
      "text/plain": [
       "[' ', ' ', ' ']"
      ]
     },
     "execution_count": 19,
     "metadata": {},
     "output_type": "execute_result"
    }
   ],
   "source": [
    "r(r'\\s', 'This is a string.')"
   ]
  },
  {
   "cell_type": "code",
   "execution_count": 23,
   "id": "30d7166a",
   "metadata": {},
   "outputs": [
    {
     "name": "stdout",
     "output_type": "stream",
     "text": [
      "Regex: \\s*, String: This is a string.\n"
     ]
    },
    {
     "data": {
      "text/plain": [
       "['', '', '', '', ' ', '', '', ' ', '', ' ', '', '', '', '', '', '', '', '']"
      ]
     },
     "execution_count": 23,
     "metadata": {},
     "output_type": "execute_result"
    }
   ],
   "source": [
    "r(r'\\s*', 'This is a string.')"
   ]
  },
  {
   "cell_type": "code",
   "execution_count": 24,
   "id": "6e60ca74",
   "metadata": {},
   "outputs": [
    {
     "name": "stdout",
     "output_type": "stream",
     "text": [
      "Regex: \\s *, String: This is a string.\n"
     ]
    },
    {
     "data": {
      "text/plain": [
       "[' ', ' ', ' ']"
      ]
     },
     "execution_count": 24,
     "metadata": {},
     "output_type": "execute_result"
    }
   ],
   "source": [
    "r(r'\\s *', 'This is a string.')"
   ]
  },
  {
   "cell_type": "code",
   "execution_count": 26,
   "id": "4e692974",
   "metadata": {},
   "outputs": [
    {
     "name": "stdout",
     "output_type": "stream",
     "text": [
      "Regex: \\s+, String: This is a string.\n"
     ]
    },
    {
     "data": {
      "text/plain": [
       "[' ', ' ', ' ']"
      ]
     },
     "execution_count": 26,
     "metadata": {},
     "output_type": "execute_result"
    }
   ],
   "source": [
    "r(r'\\s+', 'This is a string.')"
   ]
  },
  {
   "cell_type": "code",
   "execution_count": 28,
   "id": "cc194d20",
   "metadata": {},
   "outputs": [
    {
     "name": "stdout",
     "output_type": "stream",
     "text": [
      "Regex: \\s{2}, String: This is a string.\n"
     ]
    },
    {
     "data": {
      "text/plain": [
       "[]"
      ]
     },
     "execution_count": 28,
     "metadata": {},
     "output_type": "execute_result"
    }
   ],
   "source": [
    "r(r'\\s{2}', 'This is a string.')"
   ]
  },
  {
   "cell_type": "code",
   "execution_count": 30,
   "id": "2f3e7376",
   "metadata": {},
   "outputs": [
    {
     "name": "stdout",
     "output_type": "stream",
     "text": [
      "Regex: \\s{1}, String: This is a string.\n"
     ]
    },
    {
     "data": {
      "text/plain": [
       "[' ', ' ', ' ']"
      ]
     },
     "execution_count": 30,
     "metadata": {},
     "output_type": "execute_result"
    }
   ],
   "source": [
    "r(r'\\s{1}', 'This is a string.')"
   ]
  },
  {
   "cell_type": "code",
   "execution_count": 31,
   "id": "e2d01dcb",
   "metadata": {},
   "outputs": [
    {
     "name": "stdout",
     "output_type": "stream",
     "text": [
      "Regex: \\s{2}, String: This is a  string.\n"
     ]
    },
    {
     "data": {
      "text/plain": [
       "['  ']"
      ]
     },
     "execution_count": 31,
     "metadata": {},
     "output_type": "execute_result"
    }
   ],
   "source": [
    "r(r'\\s{2}', 'This is a  string.')"
   ]
  },
  {
   "cell_type": "code",
   "execution_count": 32,
   "id": "180b253c",
   "metadata": {},
   "outputs": [
    {
     "name": "stdout",
     "output_type": "stream",
     "text": [
      "Regex: \\s{2}, String: This is a  string.\n"
     ]
    },
    {
     "data": {
      "text/plain": [
       "['  ']"
      ]
     },
     "execution_count": 32,
     "metadata": {},
     "output_type": "execute_result"
    }
   ],
   "source": [
    "r(r'\\s{2}', 'This is a  string.')"
   ]
  },
  {
   "cell_type": "code",
   "execution_count": 38,
   "id": "2507d69f",
   "metadata": {},
   "outputs": [
    {
     "name": "stdout",
     "output_type": "stream",
     "text": [
      "Regex: \\s{1}, String: This is a  string.\n"
     ]
    },
    {
     "data": {
      "text/plain": [
       "[' ', ' ', ' ', ' ']"
      ]
     },
     "execution_count": 38,
     "metadata": {},
     "output_type": "execute_result"
    }
   ],
   "source": [
    "r(r'\\s{1}', 'This is a  string.')"
   ]
  },
  {
   "cell_type": "code",
   "execution_count": 41,
   "id": "c703392d",
   "metadata": {},
   "outputs": [
    {
     "name": "stdout",
     "output_type": "stream",
     "text": [
      "Regex: a{2}, String: Thias aais aaaa  staaaring aaaaa.\n"
     ]
    },
    {
     "data": {
      "text/plain": [
       "['aa', 'aa', 'aa', 'aa', 'aa', 'aa']"
      ]
     },
     "execution_count": 41,
     "metadata": {},
     "output_type": "execute_result"
    }
   ],
   "source": [
    "r(r'a{2}', 'Thias aais aaaa  staaaring aaaaa.')"
   ]
  },
  {
   "cell_type": "code",
   "execution_count": 39,
   "id": "a9e2bd6a",
   "metadata": {
    "scrolled": true
   },
   "outputs": [
    {
     "name": "stdout",
     "output_type": "stream",
     "text": [
      "Regex: a{2,}, String: Thias aais aaaa  staaaring aaaaa.\n"
     ]
    },
    {
     "data": {
      "text/plain": [
       "['aa', 'aaaa', 'aaa', 'aaaaa']"
      ]
     },
     "execution_count": 39,
     "metadata": {},
     "output_type": "execute_result"
    }
   ],
   "source": [
    "r(r'a{2,}', 'Thias aais aaaa  staaaring aaaaa.')"
   ]
  },
  {
   "cell_type": "code",
   "execution_count": 46,
   "id": "9111ba7e",
   "metadata": {},
   "outputs": [
    {
     "name": "stdout",
     "output_type": "stream",
     "text": [
      "Regex: a{3,4}, String: Thias aais aaaa  staaaring aaaaa.\n"
     ]
    },
    {
     "data": {
      "text/plain": [
       "['aaaa', 'aaa', 'aaaa']"
      ]
     },
     "execution_count": 46,
     "metadata": {},
     "output_type": "execute_result"
    }
   ],
   "source": [
    "r(r'a{3,4}', 'Thias aais aaaa  staaaring aaaaa.')"
   ]
  },
  {
   "cell_type": "code",
   "execution_count": 62,
   "id": "aec34d7d",
   "metadata": {},
   "outputs": [
    {
     "name": "stdout",
     "output_type": "stream",
     "text": [
      "Regex: Thi?s, String: Thias aais aaaa  staaaring aaaaa.\n"
     ]
    },
    {
     "data": {
      "text/plain": [
       "[]"
      ]
     },
     "execution_count": 62,
     "metadata": {},
     "output_type": "execute_result"
    }
   ],
   "source": [
    "r(r'Thi?s', 'Thias aais aaaa  staaaring aaaaa.')"
   ]
  },
  {
   "cell_type": "code",
   "execution_count": 64,
   "id": "4475b342",
   "metadata": {},
   "outputs": [
    {
     "data": {
      "text/plain": [
       "['Thia']"
      ]
     },
     "execution_count": 64,
     "metadata": {},
     "output_type": "execute_result"
    }
   ],
   "source": [
    "re.findall(r'Thias?', 'Thiax aais aaaa  staaaring aaaaa.')"
   ]
  },
  {
   "cell_type": "code",
   "execution_count": 65,
   "id": "48f2ea42",
   "metadata": {},
   "outputs": [
    {
     "name": "stdout",
     "output_type": "stream",
     "text": [
      "Regex: Thi.x, String: Thiax aais aaaa  staaaring aaaaa.\n"
     ]
    },
    {
     "data": {
      "text/plain": [
       "['Thiax']"
      ]
     },
     "execution_count": 65,
     "metadata": {},
     "output_type": "execute_result"
    }
   ],
   "source": [
    "r(r'Thi.x', 'Thiax aais aaaa  staaaring aaaaa.')"
   ]
  },
  {
   "cell_type": "code",
   "execution_count": 76,
   "id": "80874d5d",
   "metadata": {},
   "outputs": [
    {
     "name": "stdout",
     "output_type": "stream",
     "text": [
      "Regex: Thi[c?]x, String: Thiax aais aaaa  staaaring aaaaa.\n"
     ]
    },
    {
     "data": {
      "text/plain": [
       "[]"
      ]
     },
     "execution_count": 76,
     "metadata": {},
     "output_type": "execute_result"
    }
   ],
   "source": [
    "r(r'Thi[c?]x', 'Thiax aais aaaa  staaaring aaaaa.')"
   ]
  },
  {
   "cell_type": "code",
   "execution_count": 75,
   "id": "7f66bb6e",
   "metadata": {},
   "outputs": [
    {
     "name": "stdout",
     "output_type": "stream",
     "text": [
      "Regex: Thia?x, String: Thiax aais aaaa  staaaring aaaaa.\n"
     ]
    },
    {
     "data": {
      "text/plain": [
       "['Thiax']"
      ]
     },
     "execution_count": 75,
     "metadata": {},
     "output_type": "execute_result"
    }
   ],
   "source": [
    "r(r'Thia?x', 'Thiax aais aaaa  staaaring aaaaa.')"
   ]
  },
  {
   "cell_type": "markdown",
   "id": "08735b62",
   "metadata": {},
   "source": [
    "### `[` brackets `]` Any, or `^` None \n",
    "The square brackets in a regular expression represent a single character that will match any of the values (or combination of values) within the square brackets."
   ]
  },
  {
   "cell_type": "code",
   "execution_count": 78,
   "id": "d5c6bab4",
   "metadata": {},
   "outputs": [
    {
     "name": "stdout",
     "output_type": "stream",
     "text": [
      "Regex: abc, String: Let's see what we get back!\n"
     ]
    },
    {
     "data": {
      "text/plain": [
       "[]"
      ]
     },
     "execution_count": 78,
     "metadata": {},
     "output_type": "execute_result"
    }
   ],
   "source": [
    "r(r'abc', 'Let\\'s see what we get back!')"
   ]
  },
  {
   "cell_type": "code",
   "execution_count": 77,
   "id": "cab2793c",
   "metadata": {},
   "outputs": [
    {
     "name": "stdout",
     "output_type": "stream",
     "text": [
      "Regex: [abc], String: Let's see what we get back!\n"
     ]
    },
    {
     "data": {
      "text/plain": [
       "['a', 'b', 'a', 'c']"
      ]
     },
     "execution_count": 77,
     "metadata": {},
     "output_type": "execute_result"
    }
   ],
   "source": [
    "r(r'[abc]', 'Let\\'s see what we get back!')"
   ]
  },
  {
   "cell_type": "code",
   "execution_count": 86,
   "id": "41756a5a",
   "metadata": {},
   "outputs": [
    {
     "name": "stdout",
     "output_type": "stream",
     "text": [
      "Regex: [abc]+, String: Let's see what we get back!\n"
     ]
    },
    {
     "data": {
      "text/plain": [
       "['a', 'bac']"
      ]
     },
     "execution_count": 86,
     "metadata": {},
     "output_type": "execute_result"
    }
   ],
   "source": [
    "r(r'[abc]+', 'Let\\'s see what we get back!')"
   ]
  },
  {
   "cell_type": "code",
   "execution_count": 95,
   "id": "dc83d1de",
   "metadata": {},
   "outputs": [
    {
     "name": "stdout",
     "output_type": "stream",
     "text": [
      "Regex: [abc]{2,4}, String: Let's see what we get back aaaa!\n"
     ]
    },
    {
     "data": {
      "text/plain": [
       "['bac', 'aaaa']"
      ]
     },
     "execution_count": 95,
     "metadata": {},
     "output_type": "execute_result"
    }
   ],
   "source": [
    "r(r'[abc]{2,4}', 'Let\\'s see what we get back aaaa!')"
   ]
  },
  {
   "cell_type": "markdown",
   "id": "bf1ddccf",
   "metadata": {},
   "source": [
    "### Anchors\n",
    "Special metacharacters that don't match any individual characters, but serve as an *anchor* for the rest of the regular expression. \n",
    "\n",
    "Metacharacter | Matches | Example\n",
    ":--- | :--- | :---\n",
    "`^` | starts with `' '` | \n",
    "`$` | `' '` ends with | \n",
    "`\\b` | a word boundary | "
   ]
  },
  {
   "cell_type": "code",
   "execution_count": 96,
   "id": "2d13a4c9",
   "metadata": {},
   "outputs": [
    {
     "name": "stdout",
     "output_type": "stream",
     "text": [
      "Regex: ^B, String: Beginning from the end.\n"
     ]
    },
    {
     "data": {
      "text/plain": [
       "['B']"
      ]
     },
     "execution_count": 96,
     "metadata": {},
     "output_type": "execute_result"
    }
   ],
   "source": [
    "r(r'^B', 'Beginning from the end.')"
   ]
  },
  {
   "cell_type": "code",
   "execution_count": 100,
   "id": "06b253de",
   "metadata": {},
   "outputs": [
    {
     "name": "stdout",
     "output_type": "stream",
     "text": [
      "Regex: ^B., String: Beginning from the end.\n"
     ]
    },
    {
     "data": {
      "text/plain": [
       "['Be']"
      ]
     },
     "execution_count": 100,
     "metadata": {},
     "output_type": "execute_result"
    }
   ],
   "source": [
    "# when you want any string that starts with >> x and the character that comes after\n",
    "r(r'^B.', 'Beginning from the end.')"
   ]
  },
  {
   "cell_type": "code",
   "execution_count": 101,
   "id": "d46ecbf9",
   "metadata": {},
   "outputs": [
    {
     "name": "stdout",
     "output_type": "stream",
     "text": [
      "Regex: ^B.*, String: Beginning from the end.\n"
     ]
    },
    {
     "data": {
      "text/plain": [
       "['Beginning from the end.']"
      ]
     },
     "execution_count": 101,
     "metadata": {},
     "output_type": "execute_result"
    }
   ],
   "source": [
    "# when you want any string that starts with >> x\n",
    "r(r'^B.*', 'Beginning from the end.')"
   ]
  },
  {
   "cell_type": "code",
   "execution_count": 102,
   "id": "3552f00f",
   "metadata": {},
   "outputs": [
    {
     "name": "stdout",
     "output_type": "stream",
     "text": [
      "Regex: ^B*., String: Beginning from the end.\n"
     ]
    },
    {
     "data": {
      "text/plain": [
       "['Be']"
      ]
     },
     "execution_count": 102,
     "metadata": {},
     "output_type": "execute_result"
    }
   ],
   "source": [
    "r(r'^B*.', 'Beginning from the end.')"
   ]
  },
  {
   "cell_type": "code",
   "execution_count": 103,
   "id": "f76950b5",
   "metadata": {},
   "outputs": [
    {
     "name": "stdout",
     "output_type": "stream",
     "text": [
      "Regex: \\bis, String: This island is beautiful.\n"
     ]
    },
    {
     "data": {
      "text/plain": [
       "['is', 'is']"
      ]
     },
     "execution_count": 103,
     "metadata": {},
     "output_type": "execute_result"
    }
   ],
   "source": [
    "r(r'\\bis', 'This island is beautiful.')"
   ]
  },
  {
   "cell_type": "code",
   "execution_count": 106,
   "id": "d0c4e3ae",
   "metadata": {},
   "outputs": [
    {
     "name": "stdout",
     "output_type": "stream",
     "text": [
      "Regex: \\bis\\b, String: This island is beautiful.\n"
     ]
    },
    {
     "data": {
      "text/plain": [
       "['is']"
      ]
     },
     "execution_count": 106,
     "metadata": {},
     "output_type": "execute_result"
    }
   ],
   "source": [
    "r(r'\\bis\\b', 'This island is beautiful.')"
   ]
  },
  {
   "cell_type": "code",
   "execution_count": 107,
   "id": "74278f2c",
   "metadata": {},
   "outputs": [
    {
     "name": "stdout",
     "output_type": "stream",
     "text": [
      "Regex: is\\b, String: This island is beautiful. Midd(is)le\n"
     ]
    },
    {
     "data": {
      "text/plain": [
       "['is', 'is', 'is']"
      ]
     },
     "execution_count": 107,
     "metadata": {},
     "output_type": "execute_result"
    }
   ],
   "source": [
    "r(r'is\\b', 'This island is beautiful. Midd(is)le')"
   ]
  },
  {
   "cell_type": "code",
   "execution_count": 118,
   "id": "ae8f0b67",
   "metadata": {},
   "outputs": [
    {
     "name": "stdout",
     "output_type": "stream",
     "text": [
      "Regex: [\\bis\\b], String: This island is beautiful. Midd(is)le\n"
     ]
    },
    {
     "data": {
      "text/plain": [
       "['i', 's', 'i', 's', 'i', 's', 'i', 'i', 'i', 's']"
      ]
     },
     "execution_count": 118,
     "metadata": {},
     "output_type": "execute_result"
    }
   ],
   "source": [
    "r(r'[\\bis\\b]', 'This island is beautiful. Midd(is)le')"
   ]
  },
  {
   "cell_type": "code",
   "execution_count": 134,
   "id": "6f7f5a99",
   "metadata": {},
   "outputs": [
    {
     "name": "stdout",
     "output_type": "stream",
     "text": [
      "Regex: end$, String: Beginning bend and from the end\n"
     ]
    },
    {
     "data": {
      "text/plain": [
       "['end']"
      ]
     },
     "execution_count": 134,
     "metadata": {},
     "output_type": "execute_result"
    }
   ],
   "source": [
    "r(r'end$', 'Beginning bend and from the end')"
   ]
  },
  {
   "cell_type": "code",
   "execution_count": 135,
   "id": "82423952",
   "metadata": {},
   "outputs": [
    {
     "name": "stdout",
     "output_type": "stream",
     "text": [
      "Regex: s?end, String: Beginning bend and from the end\n"
     ]
    },
    {
     "data": {
      "text/plain": [
       "['end', 'end']"
      ]
     },
     "execution_count": 135,
     "metadata": {},
     "output_type": "execute_result"
    }
   ],
   "source": [
    "r(r's?end', 'Beginning bend and from the end')"
   ]
  },
  {
   "cell_type": "markdown",
   "id": "c8d0da48",
   "metadata": {},
   "source": [
    "### Other common functions\n",
    "Metacharacter | Matches | Example\n",
    ":--- | :--- | :---\n",
    "`match` | matches from the start of the string | \n",
    "`search` | finds the first instance of the regular expression | \n",
    "`sub` | makes a subsistitution with a regular expression | \n",
    "`compile` | prepares a regular expression for use ahead of time | \n",
    "\n",
    "**Capture Groups** are defined groups within our regular expressions"
   ]
  },
  {
   "cell_type": "code",
   "execution_count": 138,
   "id": "9b9d2eab",
   "metadata": {},
   "outputs": [
    {
     "data": {
      "text/plain": [
       "'You can find us on the web at https://codeup.com. Our ip address is 123.123.123.123 (maybe).'"
      ]
     },
     "execution_count": 138,
     "metadata": {},
     "output_type": "execute_result"
    }
   ],
   "source": [
    "'You can find us on the web at https://codeup.com. Our ip address is 123.123.123.123 (maybe).'.strip()"
   ]
  },
  {
   "cell_type": "code",
   "execution_count": 139,
   "id": "51005160",
   "metadata": {},
   "outputs": [],
   "source": [
    "blurb = 'You can find us on the web at https://codeup.com. Our ip address is 123.123.123.123 (maybe).'.strip()"
   ]
  },
  {
   "cell_type": "code",
   "execution_count": null,
   "id": "294d8f0a",
   "metadata": {},
   "outputs": [],
   "source": [
    "ip_re = r'\\d+"
   ]
  },
  {
   "cell_type": "code",
   "execution_count": 140,
   "id": "ae861e5f",
   "metadata": {},
   "outputs": [
    {
     "name": "stdout",
     "output_type": "stream",
     "text": [
      "Regex: \\d, String: You can find us on the web at https://codeup.com. Our ip address is 123.123.123.123 (maybe).\n"
     ]
    },
    {
     "data": {
      "text/plain": [
       "['1', '2', '3', '1', '2', '3', '1', '2', '3', '1', '2', '3']"
      ]
     },
     "execution_count": 140,
     "metadata": {},
     "output_type": "execute_result"
    }
   ],
   "source": [
    "r(r'\\d', 'You can find us on the web at https://codeup.com. Our ip address is 123.123.123.123 (maybe).')"
   ]
  },
  {
   "cell_type": "code",
   "execution_count": 141,
   "id": "ee56b051",
   "metadata": {},
   "outputs": [
    {
     "name": "stdout",
     "output_type": "stream",
     "text": [
      "Regex: \\d+, String: You can find us on the web at https://codeup.com. Our ip address is 123.123.123.123 (maybe).\n"
     ]
    },
    {
     "data": {
      "text/plain": [
       "['123', '123', '123', '123']"
      ]
     },
     "execution_count": 141,
     "metadata": {},
     "output_type": "execute_result"
    }
   ],
   "source": [
    "r(r'\\d+', 'You can find us on the web at https://codeup.com. Our ip address is 123.123.123.123 (maybe).')"
   ]
  },
  {
   "cell_type": "code",
   "execution_count": 142,
   "id": "97516d14",
   "metadata": {},
   "outputs": [
    {
     "name": "stdout",
     "output_type": "stream",
     "text": [
      "Regex: \\d+(\\.), String: You can find us on the web at https://codeup.com. Our ip address is 123.123.123.123 (maybe).\n"
     ]
    },
    {
     "data": {
      "text/plain": [
       "['.', '.', '.']"
      ]
     },
     "execution_count": 142,
     "metadata": {},
     "output_type": "execute_result"
    }
   ],
   "source": [
    "r(r'\\d+(\\.)', 'You can find us on the web at https://codeup.com. Our ip address is 123.123.123.123 (maybe).')"
   ]
  },
  {
   "cell_type": "code",
   "execution_count": 143,
   "id": "07021a1f",
   "metadata": {},
   "outputs": [
    {
     "name": "stdout",
     "output_type": "stream",
     "text": [
      "Regex: \\d+(\\.\\d), String: You can find us on the web at https://codeup.com. Our ip address is 123.123.123.123 (maybe).\n"
     ]
    },
    {
     "data": {
      "text/plain": [
       "['.1', '.1', '.1']"
      ]
     },
     "execution_count": 143,
     "metadata": {},
     "output_type": "execute_result"
    }
   ],
   "source": [
    "r(r'\\d+(\\.\\d)', 'You can find us on the web at https://codeup.com. Our ip address is 123.123.123.123 (maybe).')"
   ]
  },
  {
   "cell_type": "code",
   "execution_count": 144,
   "id": "3493fe55",
   "metadata": {},
   "outputs": [
    {
     "name": "stdout",
     "output_type": "stream",
     "text": [
      "Regex: \\d+(\\.\\d+), String: You can find us on the web at https://codeup.com. Our ip address is 123.123.123.123 (maybe).\n"
     ]
    },
    {
     "data": {
      "text/plain": [
       "['.123', '.123']"
      ]
     },
     "execution_count": 144,
     "metadata": {},
     "output_type": "execute_result"
    }
   ],
   "source": [
    "r(r'\\d+(\\.\\d+)', 'You can find us on the web at https://codeup.com. Our ip address is 123.123.123.123 (maybe).')"
   ]
  },
  {
   "cell_type": "code",
   "execution_count": null,
   "id": "9f317280",
   "metadata": {},
   "outputs": [],
   "source": [
    "r(r'\\d+(\\.\\d+)', 'You can find us on the web at https://codeup.com. Our ip address is 123.123.123.123 (maybe).')"
   ]
  },
  {
   "cell_type": "code",
   "execution_count": 145,
   "id": "ffbd375f",
   "metadata": {},
   "outputs": [
    {
     "name": "stdout",
     "output_type": "stream",
     "text": [
      "Regex: \\d+(\\.\\d+){3}, String: You can find us on the web at https://codeup.com. Our ip address is 123.123.123.123 (maybe).\n"
     ]
    },
    {
     "data": {
      "text/plain": [
       "['.123']"
      ]
     },
     "execution_count": 145,
     "metadata": {},
     "output_type": "execute_result"
    }
   ],
   "source": [
    "r(r'\\d+(\\.\\d+){3}', 'You can find us on the web at https://codeup.com. Our ip address is 123.123.123.123 (maybe).')"
   ]
  },
  {
   "cell_type": "code",
   "execution_count": 148,
   "id": "75f52d57",
   "metadata": {},
   "outputs": [
    {
     "data": {
      "text/plain": [
       "<re.Match object; span=(68, 83), match='123.123.123.123'>"
      ]
     },
     "execution_count": 148,
     "metadata": {},
     "output_type": "execute_result"
    }
   ],
   "source": [
    "re.search(r'\\d+(\\.\\d+){3}', blurb)"
   ]
  },
  {
   "cell_type": "code",
   "execution_count": 149,
   "id": "f3569430",
   "metadata": {},
   "outputs": [
    {
     "data": {
      "text/plain": [
       "<re.Match object; span=(68, 83), match='123.123.123.123'>"
      ]
     },
     "execution_count": 149,
     "metadata": {},
     "output_type": "execute_result"
    }
   ],
   "source": [
    "re.search(r'\\d+(\\.\\d+){3}', 'You can find us on the web at https://codeup.com. Our ip address is 123.123.123.123 (maybe).')"
   ]
  },
  {
   "cell_type": "code",
   "execution_count": 150,
   "id": "34b91442",
   "metadata": {},
   "outputs": [
    {
     "data": {
      "text/plain": [
       "<re.Match object; span=(68, 75), match='123.123'>"
      ]
     },
     "execution_count": 150,
     "metadata": {},
     "output_type": "execute_result"
    }
   ],
   "source": [
    "re.search(r'\\d+(\\.\\d+)', 'You can find us on the web at https://codeup.com. Our ip address is 123.123.123.123 (maybe).')"
   ]
  },
  {
   "cell_type": "code",
   "execution_count": 154,
   "id": "0c4109e6",
   "metadata": {},
   "outputs": [
    {
     "data": {
      "text/plain": [
       "<re.Match object; span=(68, 69), match='1'>"
      ]
     },
     "execution_count": 154,
     "metadata": {},
     "output_type": "execute_result"
    }
   ],
   "source": [
    "re.search(r'\\d', 'You can find us on the web at https://codeup.com. Our ip address is 123.123.123.123 (maybe).')"
   ]
  },
  {
   "cell_type": "code",
   "execution_count": null,
   "id": "f3a60c6b",
   "metadata": {},
   "outputs": [],
   "source": []
  },
  {
   "cell_type": "code",
   "execution_count": null,
   "id": "f795d9a2",
   "metadata": {
    "scrolled": true
   },
   "outputs": [],
   "source": [
    "string = \"Two households, both alike in dignity, In fair Verona, where we lay our scene, From ancient grudge break to new mutiny, Where civil blood makes civil hands unclean.\"\n",
    "string"
   ]
  },
  {
   "cell_type": "code",
   "execution_count": null,
   "id": "ddfcd68e",
   "metadata": {},
   "outputs": [],
   "source": [
    "# We can search for a literal match of the string Verona\n",
    "# re.search(r\"pattern\", \"our subject\")\n",
    "x = re.search(r\"Verona\", string)\n",
    "x"
   ]
  },
  {
   "cell_type": "code",
   "execution_count": null,
   "id": "34c0736d",
   "metadata": {},
   "outputs": [],
   "source": [
    "# the span returned is the index. \n",
    "# Consider if we were to splice the string using the span bounds\n",
    "string[47:53]"
   ]
  },
  {
   "cell_type": "code",
   "execution_count": null,
   "id": "755f59ae",
   "metadata": {},
   "outputs": [],
   "source": [
    "re.search(r\"In fair Verona\", string)"
   ]
  },
  {
   "cell_type": "code",
   "execution_count": null,
   "id": "cfe97a67",
   "metadata": {},
   "outputs": [],
   "source": [
    "# The string \"Leonardo DiCaprio\" is not here, so re.search returns None\n",
    "re.search(r\"Leonardo DiCaprio\", string)"
   ]
  },
  {
   "cell_type": "code",
   "execution_count": null,
   "id": "8ccd03c4",
   "metadata": {},
   "outputs": [],
   "source": [
    "# re.search returns the first match\n",
    "re.search(r\"civil\", string)"
   ]
  },
  {
   "cell_type": "code",
   "execution_count": null,
   "id": "80942b16",
   "metadata": {},
   "outputs": [],
   "source": [
    "# .findall returns all matches\n",
    "re.findall(r\"civil\", string)"
   ]
  },
  {
   "cell_type": "code",
   "execution_count": null,
   "id": "4f81eb50",
   "metadata": {},
   "outputs": [],
   "source": [
    "# empty set for no matches with .findall\n",
    "re.findall(r\"Claire Danes\", string)"
   ]
  },
  {
   "cell_type": "code",
   "execution_count": null,
   "id": "672c8b72",
   "metadata": {},
   "outputs": [],
   "source": [
    "re.search(r\"Two\", string)"
   ]
  },
  {
   "cell_type": "code",
   "execution_count": null,
   "id": "d6e9c4f4",
   "metadata": {},
   "outputs": [],
   "source": [
    "# Are computers particular on specifics?\n",
    "re.search(r\"two\", string)"
   ]
  },
  {
   "cell_type": "code",
   "execution_count": null,
   "id": "a58afdde",
   "metadata": {},
   "outputs": [],
   "source": [
    "# The re.IGNORECASE flag does exactly that\n",
    "re.search(r\"two\", string, re.IGNORECASE)"
   ]
  },
  {
   "cell_type": "code",
   "execution_count": null,
   "id": "c5c0b422",
   "metadata": {},
   "outputs": [],
   "source": [
    "re.search(r\"A\", \"aaaaaa\", re.IGNORECASE)"
   ]
  },
  {
   "cell_type": "code",
   "execution_count": null,
   "id": "08ad7ff8",
   "metadata": {},
   "outputs": [],
   "source": [
    "re.search(r\"Aaaaa\", \"aaaaaa\", re.IGNORECASE)"
   ]
  },
  {
   "cell_type": "markdown",
   "id": "857d51d1",
   "metadata": {},
   "source": [
    "## Using `|` for a logical OR to open opportunities\n",
    "- We can use `|` with literal characters or other regular expression patterns"
   ]
  },
  {
   "cell_type": "code",
   "execution_count": null,
   "id": "971d7d94",
   "metadata": {},
   "outputs": [],
   "source": [
    "# OR\n",
    "# Findall returns all matches \n",
    "re.findall(r\"gray|grey\", \"I can't remember if you spell grey gray or gray like grey!\")"
   ]
  },
  {
   "cell_type": "code",
   "execution_count": null,
   "id": "47b73648",
   "metadata": {},
   "outputs": [],
   "source": [
    "# The .search method matches only the first match\n",
    "re.search(r\"orange|apple\", \"I like both apples and oranges\")"
   ]
  },
  {
   "cell_type": "code",
   "execution_count": null,
   "id": "19dc9e16",
   "metadata": {},
   "outputs": [],
   "source": [
    "re.findall(r\"this|that\", \"this that and the other\")"
   ]
  },
  {
   "cell_type": "code",
   "execution_count": null,
   "id": "a33c092c",
   "metadata": {},
   "outputs": [],
   "source": [
    "# has a vowel, anywhere\n",
    "re.search(r\"a|e|i|o|u\", \"banana\", re.IGNORECASE)"
   ]
  },
  {
   "cell_type": "code",
   "execution_count": null,
   "id": "8f9d0ce8",
   "metadata": {},
   "outputs": [],
   "source": [
    "re.findall(r\"a|e|i|o|u\", \"banana\", re.IGNORECASE)"
   ]
  },
  {
   "cell_type": "code",
   "execution_count": null,
   "id": "217e22d5",
   "metadata": {},
   "outputs": [],
   "source": [
    "# carot is starts-with\n",
    "# . is any character\n",
    "# * is zero or more\n",
    "re.search(r\"^b.*\", \"bananarama\")"
   ]
  },
  {
   "cell_type": "code",
   "execution_count": null,
   "id": "83a5c8b7",
   "metadata": {},
   "outputs": [],
   "source": [
    "# .* finds the largest possible match\n",
    "# technical term is greedy\n",
    "re.search(r\"^b.*\", \"bananarama pajama\")"
   ]
  },
  {
   "cell_type": "code",
   "execution_count": null,
   "id": "06a035fd",
   "metadata": {},
   "outputs": [],
   "source": [
    "# match the character b then any other character\n",
    "re.search(r\"b.\", \"hello bananarama pajama\")"
   ]
  },
  {
   "cell_type": "code",
   "execution_count": null,
   "id": "31f3c9cb",
   "metadata": {},
   "outputs": [],
   "source": [
    "# match b followed by 3 of any character\n",
    "re.search(r\"b.*\", \"hello bananarama pajama\")"
   ]
  },
  {
   "cell_type": "code",
   "execution_count": null,
   "id": "0ec6d15c",
   "metadata": {},
   "outputs": [],
   "source": [
    "re.search(r\"b.* \", \"hello bananarama pajama\")"
   ]
  },
  {
   "cell_type": "code",
   "execution_count": null,
   "id": "4dfc899a",
   "metadata": {},
   "outputs": [],
   "source": [
    "re.search(r\"[^b]\", \"hello bananarama pajama\")"
   ]
  },
  {
   "cell_type": "code",
   "execution_count": null,
   "id": "2f68fc1c",
   "metadata": {},
   "outputs": [],
   "source": [
    "# let's find something that starts with a then has any number of other characters\n",
    "re.search(r\"^a.*\", \"hello bananarama pajama\")"
   ]
  },
  {
   "cell_type": "code",
   "execution_count": null,
   "id": "c30d6015",
   "metadata": {},
   "outputs": [],
   "source": [
    "re.search(r\"ban.*\", \"hello bananarama pajama\")"
   ]
  },
  {
   "cell_type": "code",
   "execution_count": null,
   "id": "6d1fc70b",
   "metadata": {},
   "outputs": [],
   "source": [
    "re.search(r\"a.*\", \"hello bananarama pajama\")"
   ]
  },
  {
   "cell_type": "code",
   "execution_count": null,
   "id": "2fb9ee62",
   "metadata": {},
   "outputs": [],
   "source": [
    "# starts with\n",
    "# anything\n",
    "# ends with \n",
    "re.search(r\"^b.*rama\", \"bananarama pajama\")"
   ]
  },
  {
   "cell_type": "code",
   "execution_count": 127,
   "id": "ecc2f11f",
   "metadata": {},
   "outputs": [
    {
     "data": {
      "text/plain": [
       "<re.Match object; span=(0, 17), match='bananarama pajama'>"
      ]
     },
     "execution_count": 127,
     "metadata": {},
     "output_type": "execute_result"
    }
   ],
   "source": [
    "re.search(r\".*jama$\", \"bananarama pajama\")"
   ]
  },
  {
   "cell_type": "code",
   "execution_count": null,
   "id": "20effc92",
   "metadata": {},
   "outputs": [],
   "source": [
    "re.search(r\".*rama\", \"bananarama pajama\")"
   ]
  },
  {
   "cell_type": "code",
   "execution_count": null,
   "id": "7a587bd4",
   "metadata": {},
   "outputs": [],
   "source": [
    "# \\w matches [a-zA-Z0-9]\n",
    "re.search(r\"\\w\", \"abc123\")"
   ]
  },
  {
   "cell_type": "code",
   "execution_count": null,
   "id": "df79aeb7",
   "metadata": {},
   "outputs": [],
   "source": [
    "re.search(r\"\\w\\w\\w\", \"abc123\")"
   ]
  },
  {
   "cell_type": "code",
   "execution_count": null,
   "id": "882c7f33",
   "metadata": {},
   "outputs": [],
   "source": [
    "re.search(r\"\\w\\w\\w\\w\\w\\w\", \"abc123\")"
   ]
  },
  {
   "cell_type": "code",
   "execution_count": null,
   "id": "268c0f70",
   "metadata": {},
   "outputs": [],
   "source": [
    "# seven \\w characters will only match seven of any [a-zA-Z0-9]\n",
    "re.search(r\"\\w\\w\\w\\w\\w\\w\\w\", \"abc123\")"
   ]
  },
  {
   "cell_type": "code",
   "execution_count": null,
   "id": "d9515307",
   "metadata": {},
   "outputs": [],
   "source": [
    "re.search(r\"\\w*\", \"abc123\")"
   ]
  },
  {
   "cell_type": "code",
   "execution_count": null,
   "id": "5684bbdc",
   "metadata": {},
   "outputs": [],
   "source": [
    "# curly braces for repetition\n",
    "re.search(r\"\\w{3}\", \"abc123\")"
   ]
  },
  {
   "cell_type": "code",
   "execution_count": null,
   "id": "4dd1d594",
   "metadata": {},
   "outputs": [],
   "source": [
    "re.search(r\"\\w{1,6}\", \"abc123\")"
   ]
  },
  {
   "cell_type": "code",
   "execution_count": null,
   "id": "e3979a41",
   "metadata": {},
   "outputs": [],
   "source": [
    "# {n,} matches n or more times\n",
    "re.search(r\"\\w{1,}\", \"abc123 is the place to be\")"
   ]
  },
  {
   "cell_type": "code",
   "execution_count": null,
   "id": "f2a36acc",
   "metadata": {},
   "outputs": [],
   "source": [
    "# {n,} matches n or more times\n",
    "re.findall(r\"\\w{1,}\", \"abc123 is the place to be\")"
   ]
  },
  {
   "cell_type": "code",
   "execution_count": null,
   "id": "bbbb2e43",
   "metadata": {},
   "outputs": [],
   "source": [
    "# {n,} matches n or more times\n",
    "re.findall(r\"\\w{1,6}\", \"abc123 is the place to be banaramapajama\")"
   ]
  },
  {
   "cell_type": "code",
   "execution_count": null,
   "id": "699d61be",
   "metadata": {},
   "outputs": [],
   "source": [
    "# {n,} matches n or more times\n",
    "# space after the 1-6 alphanumeric \\w matches\n",
    "re.findall(r\"\\w{1,6} \", \"abc123 is the place to be banaramapajama\")"
   ]
  },
  {
   "cell_type": "code",
   "execution_count": null,
   "id": "b9cf5036",
   "metadata": {},
   "outputs": [],
   "source": [
    "# {n,} matches n or more times\n",
    "re.search(r\"\\w{1,6}\", \"abc123 is the place to be banaramapajama\")"
   ]
  },
  {
   "cell_type": "code",
   "execution_count": null,
   "id": "909686b6",
   "metadata": {},
   "outputs": [],
   "source": [
    "# r\"\\w+\" is the same as r\"\\w{1,}\"\n",
    "re.findall(r\"\\w+\", \"abc123 is the place to be\")"
   ]
  },
  {
   "cell_type": "code",
   "execution_count": null,
   "id": "d563703f",
   "metadata": {},
   "outputs": [],
   "source": [
    "# 3 digits then a single character of any then 4 digits\n",
    "re.search(r\"[0-9]{3}.[0-9]{4}\", \"226-3232\")"
   ]
  },
  {
   "cell_type": "code",
   "execution_count": null,
   "id": "462c3bda",
   "metadata": {},
   "outputs": [],
   "source": [
    "# 3 digits then a single character of any then 4 digits\n",
    "re.search(r\"[0-9]{3}.[0-9]{4}\", \"226.3232\")"
   ]
  },
  {
   "cell_type": "code",
   "execution_count": null,
   "id": "5770e3a9",
   "metadata": {},
   "outputs": [],
   "source": [
    "# What if the delimiter is optional?\n",
    "# question mark metacharacter means the thing to the left of the ? is optional\n",
    "re.search(r\"[0-9]{3}.?[0-9]{4}\", \"2263232\")\n"
   ]
  },
  {
   "cell_type": "code",
   "execution_count": null,
   "id": "9e684bc3",
   "metadata": {},
   "outputs": [],
   "source": [
    "re.search(r\"[0-9]{3}.?[0-9]{4}\", \"226-3232\")\n"
   ]
  },
  {
   "cell_type": "code",
   "execution_count": null,
   "id": "88ae8ed4",
   "metadata": {},
   "outputs": [],
   "source": [
    "re.search(r\"[0-9]{3}.?[0-9]{4}\", \"2263232\")"
   ]
  },
  {
   "cell_type": "markdown",
   "id": "95a06a11",
   "metadata": {},
   "source": [
    "## Using a RegEx pattern to split a string\n",
    "- The `re.split` method returns a list of strings\n",
    "- The matching substring is removed\n",
    "- We can split on any regex pattern, not only character literals"
   ]
  },
  {
   "cell_type": "code",
   "execution_count": null,
   "id": "62abee0c",
   "metadata": {},
   "outputs": [],
   "source": [
    "# Split the phone number on the\n",
    "re.split(r\"-\", \"210-226-3232\")"
   ]
  },
  {
   "cell_type": "code",
   "execution_count": null,
   "id": "d9a51e9e",
   "metadata": {
    "scrolled": true
   },
   "outputs": [],
   "source": [
    "# Splits the string on the space character\n",
    "# The \\ is necessary\n",
    "re.split(r\" \", \"this that and the other\")"
   ]
  },
  {
   "cell_type": "code",
   "execution_count": null,
   "id": "7d20cf95",
   "metadata": {},
   "outputs": [],
   "source": [
    "# Parse these songs into a dataframe containing 2 columns: artist_name and song_name\n",
    "# Hint: break the string into an array of strings that hold each song/artist record\n",
    "songs = \"Harry_Belafonte_-_Jump_In_the_Line.mp3,Willie_Mae_'Big_Mama'_Thornton_-_Hound_Dog.mp3,Tina_Turner_-_Proud_Mary.mp3,Prince_-_Purple_Rain.mp3\"\n",
    "songs"
   ]
  },
  {
   "cell_type": "markdown",
   "id": "f5636e9d",
   "metadata": {},
   "source": [
    "## [Character Classes]\n",
    "- Square brackets make character classes \n",
    "- Character classes provide OR behavior\n",
    "- In a character classe, `^` works as a \"None of\" operator\n",
    "- Metacharacters match their literal character when inside of square brackets for a character class"
   ]
  },
  {
   "cell_type": "code",
   "execution_count": null,
   "id": "adae9f5b",
   "metadata": {},
   "outputs": [],
   "source": [
    "# has a vowel, anywhere\n",
    "\n",
    "re.search(r\"[aeiou]\", \"banana\", re.IGNORECASE)"
   ]
  },
  {
   "cell_type": "code",
   "execution_count": null,
   "id": "65d0890d",
   "metadata": {},
   "outputs": [],
   "source": [
    "# The parentheses around \n",
    "re.findall(r\"gr[ae]y\", \"Some people spell gray like grey\")"
   ]
  },
  {
   "cell_type": "code",
   "execution_count": null,
   "id": "0cd12b75",
   "metadata": {},
   "outputs": [],
   "source": [
    "# has a vowel, anywhere\n",
    "\n",
    "re.search(r\"a|e|i|o|u\", \"banana\", re.IGNORECASE)"
   ]
  },
  {
   "cell_type": "code",
   "execution_count": null,
   "id": "8da31325",
   "metadata": {},
   "outputs": [],
   "source": [
    "# Is a vowel\n",
    "\n",
    "assert bool(re.search(r\"^[aeiou]{1}$\", \"a\", re.IGNORECASE)) == True\n",
    "assert bool(re.search(r\"^[aeiou]{1}$\", \"aaaa\", re.IGNORECASE)) == False"
   ]
  },
  {
   "cell_type": "code",
   "execution_count": null,
   "id": "20a89121",
   "metadata": {},
   "outputs": [],
   "source": [
    "# is only vowels\n",
    "\n",
    "re.search(r\"^[aeiou]*$\", \"aaeeeaa\")"
   ]
  },
  {
   "cell_type": "code",
   "execution_count": null,
   "id": "f9c8080d",
   "metadata": {},
   "outputs": [],
   "source": [
    "# has a p or q, anywhere\n",
    "re.search(r\"p|q\", \"albuquerque\", re.IGNORECASE)"
   ]
  },
  {
   "cell_type": "code",
   "execution_count": null,
   "id": "f6bc7a67",
   "metadata": {},
   "outputs": [],
   "source": [
    "# has a p or q, anywhere\n",
    "re.search(r\"[pq]\", \"albuquerque\", re.IGNORECASE)"
   ]
  },
  {
   "cell_type": "code",
   "execution_count": null,
   "id": "83c9d632",
   "metadata": {},
   "outputs": [],
   "source": [
    "# is p or q\n",
    "re.search(r\"^[pq]{1}$\", \"q\", re.IGNORECASE)"
   ]
  },
  {
   "cell_type": "code",
   "execution_count": null,
   "id": "111cc9f3",
   "metadata": {},
   "outputs": [],
   "source": [
    "# is only Ps and Qs\n",
    "assert bool(re.search(r\"^[pqPQ]*$\", \"pqpqpqpPQQQQQQQQp\")) == True\n",
    "assert bool(re.search(r\"^[pq]*$\", \"b3qwpeop\")) == False"
   ]
  },
  {
   "cell_type": "code",
   "execution_count": null,
   "id": "b44277a2",
   "metadata": {},
   "outputs": [],
   "source": [
    "string = \"Two households, both alike in dignity, In fair Verona, where we lay our scene, From ancient grudge break to new mutiny, Where civil blood makes civil hands unclean.\"\n",
    "string\n",
    "\n",
    "re.findall(r\"civil\\s.{5}\", string)\n"
   ]
  },
  {
   "cell_type": "markdown",
   "id": "b345d70f",
   "metadata": {},
   "source": [
    "## Repetition characters and Special Sequences\n",
    "> Walk before you run\n",
    "\n",
    "- `.` means any single character\n",
    "- `*` means zero or more characters\n",
    "- `+` means one or more characters\n",
    "- `.` matches any character\n",
    "- `\\d` matches any decimal. Is equivalent to `[0-9]`\n",
    "- `\\D` matches any non-digit character and is equivalent to `[^0-9]`. \n",
    "- `\\s` matches any white space like ` `, tab, soft return, new line etc...\n",
    "- `\\w` matches any alphanumeric character and underscore. Equivalent to `[0-9a-zA-Z_]`\n",
    "- `\\W` matches any non-alphanumeric character. Equivalent to `[^a-zA-Z0-9_]`\n",
    "- `{n)` exactly n characters\n",
    "- `{n,}` n or more characters\n",
    "- `{n, m}` n to m times"
   ]
  },
  {
   "cell_type": "markdown",
   "id": "6841d1c7",
   "metadata": {},
   "source": []
  },
  {
   "cell_type": "code",
   "execution_count": null,
   "id": "78c02c1a",
   "metadata": {},
   "outputs": [],
   "source": []
  },
  {
   "cell_type": "code",
   "execution_count": null,
   "id": "e74162f9",
   "metadata": {},
   "outputs": [],
   "source": []
  },
  {
   "cell_type": "code",
   "execution_count": null,
   "id": "69fbf540",
   "metadata": {},
   "outputs": [],
   "source": []
  },
  {
   "cell_type": "markdown",
   "id": "1944e535",
   "metadata": {},
   "source": [
    "## Groups"
   ]
  },
  {
   "cell_type": "code",
   "execution_count": null,
   "id": "ca2c3717",
   "metadata": {},
   "outputs": [],
   "source": []
  }
 ],
 "metadata": {
  "kernelspec": {
   "display_name": "Python 3",
   "language": "python",
   "name": "python3"
  },
  "language_info": {
   "codemirror_mode": {
    "name": "ipython",
    "version": 3
   },
   "file_extension": ".py",
   "mimetype": "text/x-python",
   "name": "python",
   "nbconvert_exporter": "python",
   "pygments_lexer": "ipython3",
   "version": "3.8.8"
  }
 },
 "nbformat": 4,
 "nbformat_minor": 5
}
