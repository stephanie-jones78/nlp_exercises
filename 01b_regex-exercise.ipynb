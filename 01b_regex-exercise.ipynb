{
 "cells": [
  {
   "cell_type": "markdown",
   "id": "10138341",
   "metadata": {},
   "source": [
    "# Exercises for `01_regex` lesson"
   ]
  },
  {
   "cell_type": "code",
   "execution_count": 1,
   "id": "abab1546",
   "metadata": {},
   "outputs": [],
   "source": [
    "# library imports\n",
    "import pandas as pd\n",
    "import numpy as np\n",
    "\n",
    "import re"
   ]
  },
  {
   "cell_type": "markdown",
   "id": "754145a9",
   "metadata": {},
   "source": [
    "# 1. `is_vowel` function\n",
    "Write a function named `is_vowel`. It should accept a `string` as input and use a `regular expression` to determine if the passed string is a vowel. While not explicity mentioned in the lesson, you can treat the result of `re.search` as a boolean value that indicates whether or not the regular expression matches the given string."
   ]
  },
  {
   "cell_type": "markdown",
   "id": "f29322a2",
   "metadata": {},
   "source": [
    ">Generating and testing the code for the function..."
   ]
  },
  {
   "cell_type": "code",
   "execution_count": 2,
   "id": "d963ce10",
   "metadata": {},
   "outputs": [
    {
     "name": "stdout",
     "output_type": "stream",
     "text": [
      "None\n"
     ]
    }
   ],
   "source": [
    "\n",
    "# first, testing on a string that contains vowels, but is not a vowel itself\n",
    "print(re.search(r'aeiou', 'Test: This is a test.'))"
   ]
  },
  {
   "cell_type": "markdown",
   "id": "3cc39a01",
   "metadata": {},
   "source": [
    ">`None`: Passed! Now testing on string that is a vowel..."
   ]
  },
  {
   "cell_type": "code",
   "execution_count": 3,
   "id": "9ed4355f",
   "metadata": {},
   "outputs": [
    {
     "name": "stdout",
     "output_type": "stream",
     "text": [
      "None\n"
     ]
    }
   ],
   "source": [
    "print(re.search(r'aeiou', 'a'))"
   ]
  },
  {
   "cell_type": "markdown",
   "id": "8b8d815d",
   "metadata": {},
   "source": [
    ">`None`: Failed. I will try the `|` sign in the regex between each vowel character..."
   ]
  },
  {
   "cell_type": "code",
   "execution_count": 4,
   "id": "899b331f",
   "metadata": {
    "scrolled": true
   },
   "outputs": [
    {
     "name": "stdout",
     "output_type": "stream",
     "text": [
      "<re.Match object; span=(0, 1), match='a'>\n"
     ]
    }
   ],
   "source": [
    "print(re.search(r'a|e|i|o|u', 'a'))"
   ]
  },
  {
   "cell_type": "markdown",
   "id": "a3936226",
   "metadata": {},
   "source": [
    ">`Match`: Passed! Now I will include another character that is not a vowel..."
   ]
  },
  {
   "cell_type": "code",
   "execution_count": 5,
   "id": "5162f1e0",
   "metadata": {},
   "outputs": [
    {
     "name": "stdout",
     "output_type": "stream",
     "text": [
      "<re.Match object; span=(0, 1), match='a'>\n"
     ]
    }
   ],
   "source": [
    "print(re.search(r'a|e|i|o|u', 'ab'))"
   ]
  },
  {
   "cell_type": "markdown",
   "id": "ca8e7632",
   "metadata": {},
   "source": [
    ">`Match`: Failed. I will try to add the metacharacter `{n}` with *n* == `1`"
   ]
  },
  {
   "cell_type": "code",
   "execution_count": 6,
   "id": "17c5ef7c",
   "metadata": {},
   "outputs": [
    {
     "name": "stdout",
     "output_type": "stream",
     "text": [
      "None\n"
     ]
    }
   ],
   "source": [
    "print(re.search(r'aeiou', 'ab'))"
   ]
  },
  {
   "cell_type": "markdown",
   "id": "04852124",
   "metadata": {},
   "source": [
    ">`None`: Passed! Now I will try it on a non-vowel..."
   ]
  },
  {
   "cell_type": "code",
   "execution_count": 7,
   "id": "378a2b5b",
   "metadata": {},
   "outputs": [
    {
     "name": "stdout",
     "output_type": "stream",
     "text": [
      "<re.Match object; span=(0, 1), match='a'>\n"
     ]
    }
   ],
   "source": [
    "print(re.match(r'[aeiou]', 'ab'))"
   ]
  },
  {
   "cell_type": "markdown",
   "id": "ff072ee2",
   "metadata": {},
   "source": [
    ">`Match`: Failed. I will try using the `{n}` with *n* == `1` so it only matches one instance of the vowel and `$` so that it ends."
   ]
  },
  {
   "cell_type": "code",
   "execution_count": 8,
   "id": "eaec4619",
   "metadata": {},
   "outputs": [
    {
     "name": "stdout",
     "output_type": "stream",
     "text": [
      "None\n"
     ]
    }
   ],
   "source": [
    "print(re.search(r'[aeiou]{1}$', 'ab'))"
   ]
  },
  {
   "cell_type": "markdown",
   "id": "d7dcc517",
   "metadata": {},
   "source": [
    ">`None`: Passed! I will try this with "
   ]
  },
  {
   "cell_type": "code",
   "execution_count": 9,
   "id": "187c8d3b",
   "metadata": {},
   "outputs": [
    {
     "name": "stdout",
     "output_type": "stream",
     "text": [
      "<re.Match object; span=(0, 1), match='a'>\n"
     ]
    }
   ],
   "source": [
    "print(re.search(r'[aeiou]{1}$', 'a'))"
   ]
  },
  {
   "cell_type": "markdown",
   "id": "10871489",
   "metadata": {},
   "source": [
    ">Defining `is_vowel` function..."
   ]
  },
  {
   "cell_type": "code",
   "execution_count": 10,
   "id": "69557c31",
   "metadata": {},
   "outputs": [],
   "source": [
    "def is_vowel(string):\n",
    "    '''\n",
    "    this function takes in a string and defines a regex statement that, when combined with the \n",
    "    re search function, will test the string to see whether it is a single vowel character.\n",
    "        - if the string is a not a single vowel, it will print: Now a vowel.\n",
    "        - if the strng is a single vowel, it will print: Vowel!\n",
    "    '''\n",
    "    regex = r'[aeiou]{1}$'\n",
    "    \n",
    "    # the lines of code below will print the corresponding statements... \n",
    "    if re.search(regex, string, re.IGNORECASE) == None:\n",
    "        print('Not a vowel.')\n",
    "    \n",
    "    else:\n",
    "        print('Vowel!')\n",
    "\n",
    "\n"
   ]
  },
  {
   "cell_type": "markdown",
   "id": "c1061204",
   "metadata": {},
   "source": [
    ">Testing..."
   ]
  },
  {
   "cell_type": "code",
   "execution_count": 11,
   "id": "69a29a92",
   "metadata": {},
   "outputs": [
    {
     "name": "stdout",
     "output_type": "stream",
     "text": [
      "Vowel!\n"
     ]
    }
   ],
   "source": [
    "# single vowel test\n",
    "is_vowel('a')"
   ]
  },
  {
   "cell_type": "code",
   "execution_count": 12,
   "id": "5cd24150",
   "metadata": {},
   "outputs": [
    {
     "name": "stdout",
     "output_type": "stream",
     "text": [
      "Not a vowel.\n"
     ]
    }
   ],
   "source": [
    "# not single vowel test\n",
    "is_vowel('ab')"
   ]
  },
  {
   "cell_type": "code",
   "execution_count": 13,
   "id": "8666c3e4",
   "metadata": {},
   "outputs": [
    {
     "name": "stdout",
     "output_type": "stream",
     "text": [
      "Vowel!\n"
     ]
    }
   ],
   "source": [
    "is_vowel('A')"
   ]
  },
  {
   "cell_type": "markdown",
   "id": "f4813dfa",
   "metadata": {},
   "source": [
    ">It works!"
   ]
  },
  {
   "cell_type": "markdown",
   "id": "b79bc110",
   "metadata": {},
   "source": [
    "### Instructor solution"
   ]
  },
  {
   "cell_type": "code",
   "execution_count": null,
   "id": "51ec7baa",
   "metadata": {},
   "outputs": [],
   "source": []
  },
  {
   "cell_type": "code",
   "execution_count": null,
   "id": "60418b75",
   "metadata": {},
   "outputs": [],
   "source": []
  },
  {
   "cell_type": "code",
   "execution_count": null,
   "id": "fd99f8c5",
   "metadata": {},
   "outputs": [],
   "source": []
  },
  {
   "cell_type": "markdown",
   "id": "266fb2ff",
   "metadata": {},
   "source": [
    "# 2. `is_valid_username` function\n",
    "Write a function named `is_valid_username` that accepts a `string` as input. A valid username starts with a lowercase letter, and only consists of lowercase letters, numbers, or the `_` character. It should also be no longer than 32 characters. \n",
    "\n",
    "\n",
    "Conditions:\n",
    "1. starts with lowercase letters\n",
    "2. only consists of:\n",
    "    - lowercase letters,\n",
    "    - numbers, or\n",
    "    - `_` char\n",
    "3. no longer than 32 chars\n",
    "<br>\n",
    "<br>\n",
    "\n",
    "The function should return either `True` or `False` depending on whether the passed string is a valid username.\n"
   ]
  },
  {
   "cell_type": "markdown",
   "id": "cdc173f5",
   "metadata": {},
   "source": [
    ">Generating and testing code for the function...<br>\n",
    ">1. Starting with starts with lowercase letter"
   ]
  },
  {
   "cell_type": "code",
   "execution_count": 14,
   "id": "d38d4a10",
   "metadata": {},
   "outputs": [
    {
     "data": {
      "text/plain": [
       "<re.Match object; span=(0, 1), match='u'>"
      ]
     },
     "execution_count": 14,
     "metadata": {},
     "output_type": "execute_result"
    }
   ],
   "source": [
    "# starts with lowercase letter \n",
    "re.search(r'^[a-z]', 'user_name')\n",
    "\n",
    "# Pass >> Match = 'user_name'"
   ]
  },
  {
   "cell_type": "code",
   "execution_count": 15,
   "id": "26ec7ea8",
   "metadata": {},
   "outputs": [],
   "source": [
    "# starts with uppercase letter\n",
    "re.search(r'^[a-z]', 'User_name')\n",
    "\n",
    "# None >> Pass"
   ]
  },
  {
   "cell_type": "markdown",
   "id": "e026d600",
   "metadata": {},
   "source": [
    ">2. only consists of:\n",
    ">    - lowercase letters,\n",
    ">    - numbers, or\n",
    ">    - `_` char"
   ]
  },
  {
   "cell_type": "code",
   "execution_count": 16,
   "id": "2c5fb710",
   "metadata": {},
   "outputs": [
    {
     "data": {
      "text/plain": [
       "<re.Match object; span=(0, 9), match='user_name'>"
      ]
     },
     "execution_count": 16,
     "metadata": {},
     "output_type": "execute_result"
    }
   ],
   "source": [
    "# all lowercase and _ test\n",
    "re.search(r'^[a-z0-9_]+$', 'user_name')"
   ]
  },
  {
   "cell_type": "code",
   "execution_count": 17,
   "id": "32380344",
   "metadata": {},
   "outputs": [],
   "source": [
    "# not all lowercase test\n",
    "re.search(r'^[a-z0-9_]+$', 'user_Name')"
   ]
  },
  {
   "cell_type": "code",
   "execution_count": 18,
   "id": "dcb47358",
   "metadata": {},
   "outputs": [
    {
     "data": {
      "text/plain": [
       "<re.Match object; span=(0, 10), match='user_name1'>"
      ]
     },
     "execution_count": 18,
     "metadata": {},
     "output_type": "execute_result"
    }
   ],
   "source": [
    "# numbers test\n",
    "re.search(r'^[a-z0-9_]+$', 'user_name1')"
   ]
  },
  {
   "cell_type": "code",
   "execution_count": 19,
   "id": "04642baf",
   "metadata": {},
   "outputs": [
    {
     "data": {
      "text/plain": [
       "<re.Match object; span=(0, 8), match='username'>"
      ]
     },
     "execution_count": 19,
     "metadata": {},
     "output_type": "execute_result"
    }
   ],
   "source": [
    "# no _ test\n",
    "re.search(r'^[a-z0-9_]+$', 'username')"
   ]
  },
  {
   "cell_type": "code",
   "execution_count": 20,
   "id": "6ca03418",
   "metadata": {},
   "outputs": [],
   "source": [
    "# empty space test\n",
    "re.search(r'^[a-z0-9_]+$', 'user name')"
   ]
  },
  {
   "cell_type": "markdown",
   "id": "40f6567e",
   "metadata": {},
   "source": [
    ">3. no longer than 32 chars"
   ]
  },
  {
   "cell_type": "code",
   "execution_count": 21,
   "id": "02bc9436",
   "metadata": {},
   "outputs": [],
   "source": [
    "def check_len(string, max_len):\n",
    "    '''\n",
    "    this function takes in a string and max_len value and returns True if the string is less than\n",
    "    or equal to the max len of the input string.\n",
    "    '''\n",
    "    \n",
    "    return len(string) <= max_len"
   ]
  },
  {
   "cell_type": "code",
   "execution_count": 22,
   "id": "9fa661fb",
   "metadata": {},
   "outputs": [
    {
     "data": {
      "text/plain": [
       "True"
      ]
     },
     "execution_count": 22,
     "metadata": {},
     "output_type": "execute_result"
    }
   ],
   "source": [
    "check_len('string'*8, 100)"
   ]
  },
  {
   "cell_type": "code",
   "execution_count": 23,
   "id": "1c6a2b80",
   "metadata": {},
   "outputs": [
    {
     "data": {
      "text/plain": [
       "False"
      ]
     },
     "execution_count": 23,
     "metadata": {},
     "output_type": "execute_result"
    }
   ],
   "source": [
    "check_len('string'*8, 32)"
   ]
  },
  {
   "cell_type": "markdown",
   "id": "e4b837fe",
   "metadata": {},
   "source": [
    ">Now that I have a way to test the max_lenth, I can put everything together in a function to test..."
   ]
  },
  {
   "cell_type": "code",
   "execution_count": 24,
   "id": "f40b4010",
   "metadata": {},
   "outputs": [],
   "source": [
    "def is_valid_user_name(string, max_len):\n",
    "    '''\n",
    "    \n",
    "    '''\n",
    "    \n",
    "    # defining regular expression\n",
    "    regex = r'^[a-z0-9_]+$'\n",
    "    \n",
    "    if re.search(regex, string) == None:\n",
    "        print('Invalid password. Password contains invalid character.')\n",
    "    \n",
    "    else:\n",
    "        if len(string) > max_len:\n",
    "            print(f'Invalid password. Password cannot be longer than {max_len} characters.')\n",
    "        else:\n",
    "            print('Valid password. Password meets criteria!')\n",
    "    "
   ]
  },
  {
   "cell_type": "code",
   "execution_count": 25,
   "id": "91a3138c",
   "metadata": {},
   "outputs": [
    {
     "name": "stdout",
     "output_type": "stream",
     "text": [
      "Valid password. Password meets criteria!\n"
     ]
    }
   ],
   "source": [
    "# testing pw that meets all criteria\n",
    "is_valid_user_name('user_name', 32)"
   ]
  },
  {
   "cell_type": "code",
   "execution_count": 26,
   "id": "ee495c78",
   "metadata": {},
   "outputs": [
    {
     "name": "stdout",
     "output_type": "stream",
     "text": [
      "Invalid password. Password contains invalid character.\n"
     ]
    }
   ],
   "source": [
    "# testing password that contains empty space\n",
    "is_valid_user_name('user name', 32)"
   ]
  },
  {
   "cell_type": "code",
   "execution_count": 27,
   "id": "6d3742a6",
   "metadata": {},
   "outputs": [
    {
     "name": "stdout",
     "output_type": "stream",
     "text": [
      "Invalid password. Password contains invalid character.\n"
     ]
    }
   ],
   "source": [
    "# testing password that begins with uppercase character\n",
    "is_valid_user_name('User_name', 32)"
   ]
  },
  {
   "cell_type": "code",
   "execution_count": 28,
   "id": "503d86c5",
   "metadata": {},
   "outputs": [
    {
     "name": "stdout",
     "output_type": "stream",
     "text": [
      "Invalid password. Password contains invalid character.\n"
     ]
    }
   ],
   "source": [
    "# testing pw that contains uppercase character\n",
    "is_valid_user_name('user_Name', 32)"
   ]
  },
  {
   "cell_type": "code",
   "execution_count": 29,
   "id": "62547959",
   "metadata": {},
   "outputs": [
    {
     "name": "stdout",
     "output_type": "stream",
     "text": [
      "Invalid password. Password contains invalid character.\n"
     ]
    }
   ],
   "source": [
    "# testing password that contains invalid special character\n",
    "is_valid_user_name('user_name!', 32)"
   ]
  },
  {
   "cell_type": "code",
   "execution_count": 30,
   "id": "7ddfccca",
   "metadata": {},
   "outputs": [
    {
     "name": "stdout",
     "output_type": "stream",
     "text": [
      "Invalid password. Password cannot be longer than 10 characters.\n"
     ]
    }
   ],
   "source": [
    "# testing password that is longer than max_len\n",
    "is_valid_user_name('user_name123456789101112', 10)"
   ]
  },
  {
   "cell_type": "markdown",
   "id": "9fabce17",
   "metadata": {},
   "source": [
    ">Function tests successful!"
   ]
  },
  {
   "cell_type": "markdown",
   "id": "8d18748b",
   "metadata": {},
   "source": [
    "# 3. ph# regex\n",
    "Write a regular expression to capture phone numbers. It should match all of the following:\n",
    ">`'(210) 867 5309'`<br>\n",
    "`'+1 210.867.5309'`<br>\n",
    "`'867-5309'`<br>\n",
    "`'210-867-530'`<br>"
   ]
  },
  {
   "cell_type": "code",
   "execution_count": 35,
   "id": "44734f89",
   "metadata": {},
   "outputs": [
    {
     "data": {
      "text/plain": [
       "<re.Match object; span=(0, 7), match='8675309'>"
      ]
     },
     "execution_count": 35,
     "metadata": {},
     "output_type": "execute_result"
    }
   ],
   "source": [
    "# only 7 numbers\n",
    "\n",
    "# defining regex\n",
    "reg = r'\\d{7}'\n",
    "\n",
    "# valid test\n",
    "re.search(reg, '8675309')"
   ]
  },
  {
   "cell_type": "code",
   "execution_count": 36,
   "id": "f5d8a799",
   "metadata": {},
   "outputs": [],
   "source": [
    "# invalidat test\n",
    "re.search(reg, '8 675309')"
   ]
  },
  {
   "cell_type": "code",
   "execution_count": 37,
   "id": "984abf24",
   "metadata": {},
   "outputs": [
    {
     "data": {
      "text/plain": [
       "<re.Match object; span=(0, 8), match='867-5309'>"
      ]
     },
     "execution_count": 37,
     "metadata": {},
     "output_type": "execute_result"
    }
   ],
   "source": [
    "# nnn - nnnn\n",
    "\n",
    "# defining regex\n",
    "regex = r'\\d{3}-\\d{4}'\n",
    "\n",
    "# valid test\n",
    "re.search(regex, '867-5309')"
   ]
  },
  {
   "cell_type": "code",
   "execution_count": 38,
   "id": "852b4b32",
   "metadata": {},
   "outputs": [],
   "source": [
    "# invalid test\n",
    "re.search(regex, '8-67, 5309')"
   ]
  },
  {
   "cell_type": "code",
   "execution_count": 41,
   "id": "cb449da5",
   "metadata": {},
   "outputs": [
    {
     "data": {
      "text/plain": [
       "<re.Match object; span=(0, 8), match='867.5309'>"
      ]
     },
     "execution_count": 41,
     "metadata": {},
     "output_type": "execute_result"
    }
   ],
   "source": [
    "# nnn-nnnn or nnn.nnnn or nnn nnnnn\n",
    "\n",
    "# defining regex\n",
    "regex = r'\\d{3}[-. ]\\d{4}'\n",
    "\n",
    "# validat test\n",
    "re.search(regex, '867.5309')"
   ]
  },
  {
   "cell_type": "markdown",
   "id": "572c018b",
   "metadata": {},
   "source": [
    "#### Final Regex Breakdown `r\"(\\+?\\d+)?.?(\\(?\\d{3}\\)?)?.?\\d{3}.?\\d{4}\"`\n",
    "- `(\\+?\\d+)?` optional group\n",
    "    - `\\+` an actual plus sign: +\n",
    "    - `?\\d+` one or more digits, optional\n",
    "- `.?` optional . character\n",
    "- `(\\(?\\d{3}\\)?)?` optional group, with optional subgroup\n",
    "    - `\\(?` actual open parenthesis: (, optional\n",
    "    - (?\\d{3}\\)? optional sub-group\n",
    "        - `\\d{3}` three digits\n",
    "        - `\\)` actual closed parenthesis: ), optional\n",
    "- `.?` actual period: ., optional\n",
    "- `\\d{3}` three digits\n",
    "- `.?` actual period: ., optional\n",
    "- `\\d{4}` four digits\n"
   ]
  },
  {
   "cell_type": "code",
   "execution_count": 49,
   "id": "7065d4e4",
   "metadata": {},
   "outputs": [],
   "source": [
    "# assigning regex function to variable\n",
    "r = re.search "
   ]
  },
  {
   "cell_type": "code",
   "execution_count": 45,
   "id": "242aa2a2",
   "metadata": {},
   "outputs": [
    {
     "data": {
      "text/plain": [
       "<re.Match object; span=(0, 15), match='+1 210.867.5309'>"
      ]
     },
     "execution_count": 45,
     "metadata": {},
     "output_type": "execute_result"
    }
   ],
   "source": [
    "# regex solution\n",
    "regex = r'(\\+?\\d+)?.?(\\(?\\d{3}\\)?)?.?\\d{3}.?\\d{4}'"
   ]
  },
  {
   "cell_type": "code",
   "execution_count": 47,
   "id": "c2f365c9",
   "metadata": {},
   "outputs": [],
   "source": [
    "# test phone numbers\n",
    "\n",
    "a_test = '(210) 867 5309'\n",
    "b_test = '+1 210.867.5309'\n",
    "c_test = '867-5309'\n",
    "d_test = '210-867-530'"
   ]
  },
  {
   "cell_type": "code",
   "execution_count": 50,
   "id": "77c91a46",
   "metadata": {},
   "outputs": [
    {
     "data": {
      "text/plain": [
       "<re.Match object; span=(0, 14), match='(210) 867 5309'>"
      ]
     },
     "execution_count": 50,
     "metadata": {},
     "output_type": "execute_result"
    }
   ],
   "source": [
    "# a test\n",
    "r(regex, a_test)"
   ]
  },
  {
   "cell_type": "code",
   "execution_count": 51,
   "id": "affa0c06",
   "metadata": {},
   "outputs": [
    {
     "data": {
      "text/plain": [
       "<re.Match object; span=(0, 15), match='+1 210.867.5309'>"
      ]
     },
     "execution_count": 51,
     "metadata": {},
     "output_type": "execute_result"
    }
   ],
   "source": [
    "# b test\n",
    "r(regex, b_test)"
   ]
  },
  {
   "cell_type": "code",
   "execution_count": 52,
   "id": "91bc6bf1",
   "metadata": {},
   "outputs": [
    {
     "data": {
      "text/plain": [
       "<re.Match object; span=(0, 8), match='867-5309'>"
      ]
     },
     "execution_count": 52,
     "metadata": {},
     "output_type": "execute_result"
    }
   ],
   "source": [
    "# c test\n",
    "r(regex, c_test)"
   ]
  },
  {
   "cell_type": "code",
   "execution_count": 53,
   "id": "665b36d9",
   "metadata": {},
   "outputs": [],
   "source": [
    "# d test\n",
    "r(regex, d_test)"
   ]
  },
  {
   "cell_type": "markdown",
   "id": "88bd1d38",
   "metadata": {},
   "source": [
    "# 4. dates regex\n",
    "Use regular expressions to convert the dates below to the standardized year-month-day format.\n",
    "\n",
    ">`'02/04/19'`<br>\n",
    "`'02/05/19'`<br>\n",
    "`'02/06/19'`<br>\n",
    "`'02/07/19'`<br>\n",
    "`'02/08/19'`<br>\n",
    "`'02/09/19'`<br>\n",
    "`'02/10/19'`<br>"
   ]
  },
  {
   "cell_type": "code",
   "execution_count": 55,
   "id": "969bea40",
   "metadata": {},
   "outputs": [],
   "source": [
    "# creating a list of the dates\n",
    "dates = ['02/04/19',\n",
    "            '02/05/19',\n",
    "            '02/06/19',\n",
    "            '02/07/19',\n",
    "            '02/08/19',\n",
    "            '02/09/19',\n",
    "            '02/10/19']"
   ]
  },
  {
   "cell_type": "code",
   "execution_count": 57,
   "id": "48afcb84",
   "metadata": {},
   "outputs": [
    {
     "data": {
      "text/html": [
       "<div>\n",
       "<style scoped>\n",
       "    .dataframe tbody tr th:only-of-type {\n",
       "        vertical-align: middle;\n",
       "    }\n",
       "\n",
       "    .dataframe tbody tr th {\n",
       "        vertical-align: top;\n",
       "    }\n",
       "\n",
       "    .dataframe thead th {\n",
       "        text-align: right;\n",
       "    }\n",
       "</style>\n",
       "<table border=\"1\" class=\"dataframe\">\n",
       "  <thead>\n",
       "    <tr style=\"text-align: right;\">\n",
       "      <th></th>\n",
       "      <th>dates</th>\n",
       "    </tr>\n",
       "  </thead>\n",
       "  <tbody>\n",
       "    <tr>\n",
       "      <th>0</th>\n",
       "      <td>02/04/19</td>\n",
       "    </tr>\n",
       "    <tr>\n",
       "      <th>1</th>\n",
       "      <td>02/05/19</td>\n",
       "    </tr>\n",
       "    <tr>\n",
       "      <th>2</th>\n",
       "      <td>02/06/19</td>\n",
       "    </tr>\n",
       "    <tr>\n",
       "      <th>3</th>\n",
       "      <td>02/07/19</td>\n",
       "    </tr>\n",
       "    <tr>\n",
       "      <th>4</th>\n",
       "      <td>02/08/19</td>\n",
       "    </tr>\n",
       "    <tr>\n",
       "      <th>5</th>\n",
       "      <td>02/09/19</td>\n",
       "    </tr>\n",
       "    <tr>\n",
       "      <th>6</th>\n",
       "      <td>02/10/19</td>\n",
       "    </tr>\n",
       "  </tbody>\n",
       "</table>\n",
       "</div>"
      ],
      "text/plain": [
       "      dates\n",
       "0  02/04/19\n",
       "1  02/05/19\n",
       "2  02/06/19\n",
       "3  02/07/19\n",
       "4  02/08/19\n",
       "5  02/09/19\n",
       "6  02/10/19"
      ]
     },
     "execution_count": 57,
     "metadata": {},
     "output_type": "execute_result"
    }
   ],
   "source": [
    "# using a dictionary to turn the list into a df\n",
    "df_dates = pd.DataFrame({'dates': dates})\n",
    "df_dates"
   ]
  },
  {
   "cell_type": "code",
   "execution_count": 58,
   "id": "fcfd2b30",
   "metadata": {},
   "outputs": [],
   "source": [
    "# creating a regular expression to format the dates\n",
    "split = re.compile(r'''(?P<month>\\d{2})\\\n",
    "                      (?P<day>\\d{2})\\\n",
    "                      (?P<year>\\d{2})''', re.VERBOSE)"
   ]
  },
  {
   "cell_type": "code",
   "execution_count": 61,
   "id": "c09d3abb",
   "metadata": {},
   "outputs": [
    {
     "data": {
      "text/html": [
       "<div>\n",
       "<style scoped>\n",
       "    .dataframe tbody tr th:only-of-type {\n",
       "        vertical-align: middle;\n",
       "    }\n",
       "\n",
       "    .dataframe tbody tr th {\n",
       "        vertical-align: top;\n",
       "    }\n",
       "\n",
       "    .dataframe thead th {\n",
       "        text-align: right;\n",
       "    }\n",
       "</style>\n",
       "<table border=\"1\" class=\"dataframe\">\n",
       "  <thead>\n",
       "    <tr style=\"text-align: right;\">\n",
       "      <th></th>\n",
       "      <th>dates</th>\n",
       "      <th>month</th>\n",
       "      <th>day</th>\n",
       "      <th>year</th>\n",
       "      <th>month</th>\n",
       "      <th>day</th>\n",
       "      <th>year</th>\n",
       "    </tr>\n",
       "  </thead>\n",
       "  <tbody>\n",
       "    <tr>\n",
       "      <th>0</th>\n",
       "      <td>02/04/19</td>\n",
       "      <td>NaN</td>\n",
       "      <td>NaN</td>\n",
       "      <td>NaN</td>\n",
       "      <td>NaN</td>\n",
       "      <td>NaN</td>\n",
       "      <td>NaN</td>\n",
       "    </tr>\n",
       "    <tr>\n",
       "      <th>1</th>\n",
       "      <td>02/05/19</td>\n",
       "      <td>NaN</td>\n",
       "      <td>NaN</td>\n",
       "      <td>NaN</td>\n",
       "      <td>NaN</td>\n",
       "      <td>NaN</td>\n",
       "      <td>NaN</td>\n",
       "    </tr>\n",
       "    <tr>\n",
       "      <th>2</th>\n",
       "      <td>02/06/19</td>\n",
       "      <td>NaN</td>\n",
       "      <td>NaN</td>\n",
       "      <td>NaN</td>\n",
       "      <td>NaN</td>\n",
       "      <td>NaN</td>\n",
       "      <td>NaN</td>\n",
       "    </tr>\n",
       "    <tr>\n",
       "      <th>3</th>\n",
       "      <td>02/07/19</td>\n",
       "      <td>NaN</td>\n",
       "      <td>NaN</td>\n",
       "      <td>NaN</td>\n",
       "      <td>NaN</td>\n",
       "      <td>NaN</td>\n",
       "      <td>NaN</td>\n",
       "    </tr>\n",
       "    <tr>\n",
       "      <th>4</th>\n",
       "      <td>02/08/19</td>\n",
       "      <td>NaN</td>\n",
       "      <td>NaN</td>\n",
       "      <td>NaN</td>\n",
       "      <td>NaN</td>\n",
       "      <td>NaN</td>\n",
       "      <td>NaN</td>\n",
       "    </tr>\n",
       "    <tr>\n",
       "      <th>5</th>\n",
       "      <td>02/09/19</td>\n",
       "      <td>NaN</td>\n",
       "      <td>NaN</td>\n",
       "      <td>NaN</td>\n",
       "      <td>NaN</td>\n",
       "      <td>NaN</td>\n",
       "      <td>NaN</td>\n",
       "    </tr>\n",
       "    <tr>\n",
       "      <th>6</th>\n",
       "      <td>02/10/19</td>\n",
       "      <td>NaN</td>\n",
       "      <td>NaN</td>\n",
       "      <td>NaN</td>\n",
       "      <td>NaN</td>\n",
       "      <td>NaN</td>\n",
       "      <td>NaN</td>\n",
       "    </tr>\n",
       "  </tbody>\n",
       "</table>\n",
       "</div>"
      ],
      "text/plain": [
       "      dates month  day year month  day year\n",
       "0  02/04/19   NaN  NaN  NaN   NaN  NaN  NaN\n",
       "1  02/05/19   NaN  NaN  NaN   NaN  NaN  NaN\n",
       "2  02/06/19   NaN  NaN  NaN   NaN  NaN  NaN\n",
       "3  02/07/19   NaN  NaN  NaN   NaN  NaN  NaN\n",
       "4  02/08/19   NaN  NaN  NaN   NaN  NaN  NaN\n",
       "5  02/09/19   NaN  NaN  NaN   NaN  NaN  NaN\n",
       "6  02/10/19   NaN  NaN  NaN   NaN  NaN  NaN"
      ]
     },
     "execution_count": 61,
     "metadata": {},
     "output_type": "execute_result"
    }
   ],
   "source": [
    "# using the split pattern on the df and then adding the split columns to original df\n",
    "df_dates = pd.concat([df_dates, df_dates.dates.str.extract(split)], axis = 1)\n",
    "df_dates"
   ]
  },
  {
   "cell_type": "code",
   "execution_count": 60,
   "id": "665d024f",
   "metadata": {},
   "outputs": [],
   "source": [
    "pattern = re.compile(r\"\"\"\n",
    "(?P<month>\\d{2})/\n",
    "(?P<day>\\d{2})/\n",
    "(?P<year>\\d{2})\n",
    "\"\"\", re.VERBOSE)"
   ]
  },
  {
   "cell_type": "code",
   "execution_count": 62,
   "id": "bdadab49",
   "metadata": {},
   "outputs": [
    {
     "data": {
      "text/html": [
       "<div>\n",
       "<style scoped>\n",
       "    .dataframe tbody tr th:only-of-type {\n",
       "        vertical-align: middle;\n",
       "    }\n",
       "\n",
       "    .dataframe tbody tr th {\n",
       "        vertical-align: top;\n",
       "    }\n",
       "\n",
       "    .dataframe thead th {\n",
       "        text-align: right;\n",
       "    }\n",
       "</style>\n",
       "<table border=\"1\" class=\"dataframe\">\n",
       "  <thead>\n",
       "    <tr style=\"text-align: right;\">\n",
       "      <th></th>\n",
       "      <th>dates</th>\n",
       "      <th>month</th>\n",
       "      <th>day</th>\n",
       "      <th>year</th>\n",
       "      <th>month</th>\n",
       "      <th>day</th>\n",
       "      <th>year</th>\n",
       "      <th>month</th>\n",
       "      <th>day</th>\n",
       "      <th>year</th>\n",
       "    </tr>\n",
       "  </thead>\n",
       "  <tbody>\n",
       "    <tr>\n",
       "      <th>0</th>\n",
       "      <td>02/04/19</td>\n",
       "      <td>NaN</td>\n",
       "      <td>NaN</td>\n",
       "      <td>NaN</td>\n",
       "      <td>NaN</td>\n",
       "      <td>NaN</td>\n",
       "      <td>NaN</td>\n",
       "      <td>NaN</td>\n",
       "      <td>NaN</td>\n",
       "      <td>NaN</td>\n",
       "    </tr>\n",
       "    <tr>\n",
       "      <th>1</th>\n",
       "      <td>02/05/19</td>\n",
       "      <td>NaN</td>\n",
       "      <td>NaN</td>\n",
       "      <td>NaN</td>\n",
       "      <td>NaN</td>\n",
       "      <td>NaN</td>\n",
       "      <td>NaN</td>\n",
       "      <td>NaN</td>\n",
       "      <td>NaN</td>\n",
       "      <td>NaN</td>\n",
       "    </tr>\n",
       "    <tr>\n",
       "      <th>2</th>\n",
       "      <td>02/06/19</td>\n",
       "      <td>NaN</td>\n",
       "      <td>NaN</td>\n",
       "      <td>NaN</td>\n",
       "      <td>NaN</td>\n",
       "      <td>NaN</td>\n",
       "      <td>NaN</td>\n",
       "      <td>NaN</td>\n",
       "      <td>NaN</td>\n",
       "      <td>NaN</td>\n",
       "    </tr>\n",
       "    <tr>\n",
       "      <th>3</th>\n",
       "      <td>02/07/19</td>\n",
       "      <td>NaN</td>\n",
       "      <td>NaN</td>\n",
       "      <td>NaN</td>\n",
       "      <td>NaN</td>\n",
       "      <td>NaN</td>\n",
       "      <td>NaN</td>\n",
       "      <td>NaN</td>\n",
       "      <td>NaN</td>\n",
       "      <td>NaN</td>\n",
       "    </tr>\n",
       "    <tr>\n",
       "      <th>4</th>\n",
       "      <td>02/08/19</td>\n",
       "      <td>NaN</td>\n",
       "      <td>NaN</td>\n",
       "      <td>NaN</td>\n",
       "      <td>NaN</td>\n",
       "      <td>NaN</td>\n",
       "      <td>NaN</td>\n",
       "      <td>NaN</td>\n",
       "      <td>NaN</td>\n",
       "      <td>NaN</td>\n",
       "    </tr>\n",
       "    <tr>\n",
       "      <th>5</th>\n",
       "      <td>02/09/19</td>\n",
       "      <td>NaN</td>\n",
       "      <td>NaN</td>\n",
       "      <td>NaN</td>\n",
       "      <td>NaN</td>\n",
       "      <td>NaN</td>\n",
       "      <td>NaN</td>\n",
       "      <td>NaN</td>\n",
       "      <td>NaN</td>\n",
       "      <td>NaN</td>\n",
       "    </tr>\n",
       "    <tr>\n",
       "      <th>6</th>\n",
       "      <td>02/10/19</td>\n",
       "      <td>NaN</td>\n",
       "      <td>NaN</td>\n",
       "      <td>NaN</td>\n",
       "      <td>NaN</td>\n",
       "      <td>NaN</td>\n",
       "      <td>NaN</td>\n",
       "      <td>NaN</td>\n",
       "      <td>NaN</td>\n",
       "      <td>NaN</td>\n",
       "    </tr>\n",
       "  </tbody>\n",
       "</table>\n",
       "</div>"
      ],
      "text/plain": [
       "      dates month  day year month  day year month  day year\n",
       "0  02/04/19   NaN  NaN  NaN   NaN  NaN  NaN   NaN  NaN  NaN\n",
       "1  02/05/19   NaN  NaN  NaN   NaN  NaN  NaN   NaN  NaN  NaN\n",
       "2  02/06/19   NaN  NaN  NaN   NaN  NaN  NaN   NaN  NaN  NaN\n",
       "3  02/07/19   NaN  NaN  NaN   NaN  NaN  NaN   NaN  NaN  NaN\n",
       "4  02/08/19   NaN  NaN  NaN   NaN  NaN  NaN   NaN  NaN  NaN\n",
       "5  02/09/19   NaN  NaN  NaN   NaN  NaN  NaN   NaN  NaN  NaN\n",
       "6  02/10/19   NaN  NaN  NaN   NaN  NaN  NaN   NaN  NaN  NaN"
      ]
     },
     "execution_count": 62,
     "metadata": {},
     "output_type": "execute_result"
    }
   ],
   "source": [
    "df_dates = pd.concat([df_dates, df_dates.dates.str.extract(split)], axis=1)\n",
    "df_dates"
   ]
  },
  {
   "cell_type": "markdown",
   "id": "ce8839d0",
   "metadata": {},
   "source": [
    "### Not sure why getting Nans?"
   ]
  },
  {
   "cell_type": "markdown",
   "id": "affbacb2",
   "metadata": {},
   "source": [
    "# 5. logfil regex\n",
    "Write a regex to extract the various parts of these logfile lines:\n",
    "\n",
    "`'GET /api/v1/sales?page=86 [16/Apr/2019:193452+0000] HTTP/1.1 {200} 510348 \"python-requests/2.21.0\" 97.105.19.58'`<br><hr>\n",
    "`'POST /users_accounts/file-upload [16/Apr/2019:193452+0000] HTTP/1.1 {201} 42 \"User-Agent: Mozilla/5.0 (X11; Fedora; Fedora; Linux x86_64) AppleWebKit/537.36 (KHTML, like Gecko) Chrome/73.0.3683.86 Safari/537.36\" 97.105.19.58'`<br><hr>\n",
    "`'GET /api/v1/items?page=3 [16/Apr/2019:193453+0000] HTTP/1.1 {429} 3561 \"python-requests/2.21.0\" 97.105.19.58'`<br><hr>\n"
   ]
  },
  {
   "cell_type": "code",
   "execution_count": 63,
   "id": "8337236c",
   "metadata": {},
   "outputs": [
    {
     "data": {
      "text/plain": [
       "['GET /api/v1/sales?page=86 [16/Apr/2019:193452+0000] HTTP/1.1 {200} 510348 \"python-requests/2.21.0\" 97.105.19.58',\n",
       " 'POST /users_accounts/file-upload [16/Apr/2019:193452+0000] HTTP/1.1 {201} 42 \"User-Agent: Mozilla/5.0 (X11; Fedora; Fedora; Linux x86_64) AppleWebKit/537.36 (KHTML, like Gecko) Chrome/73.0.3683.86 Safari/537.36\" 97.105.19.58',\n",
       " 'GET /api/v1/items?page=3 [16/Apr/2019:193453+0000] HTTP/1.1 {429} 3561 \"python-requests/2.21.0\" 97.105.19.58']"
      ]
     },
     "execution_count": 63,
     "metadata": {},
     "output_type": "execute_result"
    }
   ],
   "source": [
    "# creating a list to hold each string\n",
    "lines = [\n",
    "    \"\"\"GET /api/v1/sales?page=86 [16/Apr/2019:193452+0000] HTTP/1.1 {200} 510348 \"python-requests/2.21.0\" 97.105.19.58\"\"\",\n",
    "    \"\"\"POST /users_accounts/file-upload [16/Apr/2019:193452+0000] HTTP/1.1 {201} 42 \"User-Agent: Mozilla/5.0 (X11; Fedora; Fedora; Linux x86_64) AppleWebKit/537.36 (KHTML, like Gecko) Chrome/73.0.3683.86 Safari/537.36\" 97.105.19.58\"\"\",\n",
    "    \"\"\"GET /api/v1/items?page=3 [16/Apr/2019:193453+0000] HTTP/1.1 {429} 3561 \"python-requests/2.21.0\" 97.105.19.58\"\"\"\n",
    "]\n",
    "\n",
    "lines"
   ]
  },
  {
   "cell_type": "code",
   "execution_count": 69,
   "id": "f51a170b",
   "metadata": {},
   "outputs": [
    {
     "data": {
      "text/plain": [
       "<re.Match object; span=(65, 75), match='} 510348 \"'>"
      ]
     },
     "execution_count": 69,
     "metadata": {},
     "output_type": "execute_result"
    }
   ],
   "source": [
    "regex = \"\\}\\s(?P<bytes>\\d+)\\s\\\"\"\n",
    "\n",
    "x = re.compile(regex, re.VERBOSE)\n",
    "\n",
    "match = re.search(x, lines[0])\n",
    "\n",
    "match"
   ]
  },
  {
   "cell_type": "code",
   "execution_count": 70,
   "id": "9de22cc6",
   "metadata": {},
   "outputs": [
    {
     "data": {
      "text/plain": [
       "'510348'"
      ]
     },
     "execution_count": 70,
     "metadata": {},
     "output_type": "execute_result"
    }
   ],
   "source": [
    "match.group(\"bytes\")"
   ]
  },
  {
   "cell_type": "code",
   "execution_count": 74,
   "id": "211d8610",
   "metadata": {},
   "outputs": [],
   "source": [
    "log_pattern = re.compile(r\"\"\"\n",
    "(?P<method>GET|POST) \n",
    "\\s\n",
    "(?P<path>/[/\\w\\-\\?=]+)\n",
    "\\s\n",
    "\\[(?P<timestamp>.+)\\]\n",
    "\\s\n",
    "(?P<http_version>HTTP/\\d+\\.\\d+)\n",
    "\\s\n",
    "\\{(?P<status_code>\\d+)\\}\n",
    "\\s\n",
    "(?P<bytes>\\d+)\n",
    "\\s\n",
    "\"(?P<user_agent>.+)\"\n",
    "\\s\n",
    "(?P<ip>\\d{1,3}\\.\\d{1,3}\\.\\d{1,3}\\.\\d{1,3})\n",
    "$\n",
    "\"\"\", re.VERBOSE)"
   ]
  },
  {
   "cell_type": "code",
   "execution_count": 75,
   "id": "5665fe1c",
   "metadata": {},
   "outputs": [
    {
     "data": {
      "text/plain": [
       "[{'method': 'GET',\n",
       "  'path': '/api/v1/sales?page=86',\n",
       "  'timestamp': '16/Apr/2019:193452+0000',\n",
       "  'http_version': 'HTTP/1.1',\n",
       "  'status_code': '200',\n",
       "  'bytes': '510348',\n",
       "  'user_agent': 'python-requests/2.21.0',\n",
       "  'ip': '97.105.19.58'},\n",
       " {'method': 'POST',\n",
       "  'path': '/users_accounts/file-upload',\n",
       "  'timestamp': '16/Apr/2019:193452+0000',\n",
       "  'http_version': 'HTTP/1.1',\n",
       "  'status_code': '201',\n",
       "  'bytes': '42',\n",
       "  'user_agent': 'User-Agent: Mozilla/5.0 (X11; Fedora; Fedora; Linux x86_64) AppleWebKit/537.36 (KHTML, like Gecko) Chrome/73.0.3683.86 Safari/537.36',\n",
       "  'ip': '97.105.19.58'},\n",
       " {'method': 'GET',\n",
       "  'path': '/api/v1/items?page=3',\n",
       "  'timestamp': '16/Apr/2019:193453+0000',\n",
       "  'http_version': 'HTTP/1.1',\n",
       "  'status_code': '429',\n",
       "  'bytes': '3561',\n",
       "  'user_agent': 'python-requests/2.21.0',\n",
       "  'ip': '97.105.19.58'}]"
      ]
     },
     "execution_count": 75,
     "metadata": {},
     "output_type": "execute_result"
    }
   ],
   "source": [
    "rows = [re.search(log_pattern, line).groupdict() for line in lines]\n",
    "rows"
   ]
  },
  {
   "cell_type": "code",
   "execution_count": 76,
   "id": "2ca0ea17",
   "metadata": {},
   "outputs": [
    {
     "data": {
      "text/html": [
       "<div>\n",
       "<style scoped>\n",
       "    .dataframe tbody tr th:only-of-type {\n",
       "        vertical-align: middle;\n",
       "    }\n",
       "\n",
       "    .dataframe tbody tr th {\n",
       "        vertical-align: top;\n",
       "    }\n",
       "\n",
       "    .dataframe thead th {\n",
       "        text-align: right;\n",
       "    }\n",
       "</style>\n",
       "<table border=\"1\" class=\"dataframe\">\n",
       "  <thead>\n",
       "    <tr style=\"text-align: right;\">\n",
       "      <th></th>\n",
       "      <th>method</th>\n",
       "      <th>path</th>\n",
       "      <th>timestamp</th>\n",
       "      <th>http_version</th>\n",
       "      <th>status_code</th>\n",
       "      <th>bytes</th>\n",
       "      <th>user_agent</th>\n",
       "      <th>ip</th>\n",
       "    </tr>\n",
       "  </thead>\n",
       "  <tbody>\n",
       "    <tr>\n",
       "      <th>0</th>\n",
       "      <td>GET</td>\n",
       "      <td>/api/v1/sales?page=86</td>\n",
       "      <td>16/Apr/2019:193452+0000</td>\n",
       "      <td>HTTP/1.1</td>\n",
       "      <td>200</td>\n",
       "      <td>510348</td>\n",
       "      <td>python-requests/2.21.0</td>\n",
       "      <td>97.105.19.58</td>\n",
       "    </tr>\n",
       "    <tr>\n",
       "      <th>1</th>\n",
       "      <td>POST</td>\n",
       "      <td>/users_accounts/file-upload</td>\n",
       "      <td>16/Apr/2019:193452+0000</td>\n",
       "      <td>HTTP/1.1</td>\n",
       "      <td>201</td>\n",
       "      <td>42</td>\n",
       "      <td>User-Agent: Mozilla/5.0 (X11; Fedora; Fedora; ...</td>\n",
       "      <td>97.105.19.58</td>\n",
       "    </tr>\n",
       "    <tr>\n",
       "      <th>2</th>\n",
       "      <td>GET</td>\n",
       "      <td>/api/v1/items?page=3</td>\n",
       "      <td>16/Apr/2019:193453+0000</td>\n",
       "      <td>HTTP/1.1</td>\n",
       "      <td>429</td>\n",
       "      <td>3561</td>\n",
       "      <td>python-requests/2.21.0</td>\n",
       "      <td>97.105.19.58</td>\n",
       "    </tr>\n",
       "  </tbody>\n",
       "</table>\n",
       "</div>"
      ],
      "text/plain": [
       "  method                         path                timestamp http_version  \\\n",
       "0    GET        /api/v1/sales?page=86  16/Apr/2019:193452+0000     HTTP/1.1   \n",
       "1   POST  /users_accounts/file-upload  16/Apr/2019:193452+0000     HTTP/1.1   \n",
       "2    GET         /api/v1/items?page=3  16/Apr/2019:193453+0000     HTTP/1.1   \n",
       "\n",
       "  status_code   bytes                                         user_agent  \\\n",
       "0         200  510348                             python-requests/2.21.0   \n",
       "1         201      42  User-Agent: Mozilla/5.0 (X11; Fedora; Fedora; ...   \n",
       "2         429    3561                             python-requests/2.21.0   \n",
       "\n",
       "             ip  \n",
       "0  97.105.19.58  \n",
       "1  97.105.19.58  \n",
       "2  97.105.19.58  "
      ]
     },
     "execution_count": 76,
     "metadata": {},
     "output_type": "execute_result"
    }
   ],
   "source": [
    "df = pd.DataFrame(rows)\n",
    "df"
   ]
  },
  {
   "cell_type": "code",
   "execution_count": 77,
   "id": "a0e92764",
   "metadata": {},
   "outputs": [],
   "source": [
    "def is_query_string(string):\n",
    "    return \"?\" in string"
   ]
  },
  {
   "cell_type": "code",
   "execution_count": 78,
   "id": "2f3724d7",
   "metadata": {},
   "outputs": [
    {
     "data": {
      "text/html": [
       "<div>\n",
       "<style scoped>\n",
       "    .dataframe tbody tr th:only-of-type {\n",
       "        vertical-align: middle;\n",
       "    }\n",
       "\n",
       "    .dataframe tbody tr th {\n",
       "        vertical-align: top;\n",
       "    }\n",
       "\n",
       "    .dataframe thead th {\n",
       "        text-align: right;\n",
       "    }\n",
       "</style>\n",
       "<table border=\"1\" class=\"dataframe\">\n",
       "  <thead>\n",
       "    <tr style=\"text-align: right;\">\n",
       "      <th></th>\n",
       "      <th>method</th>\n",
       "      <th>path</th>\n",
       "      <th>timestamp</th>\n",
       "      <th>http_version</th>\n",
       "      <th>status_code</th>\n",
       "      <th>bytes</th>\n",
       "      <th>user_agent</th>\n",
       "      <th>ip</th>\n",
       "      <th>has_query_string</th>\n",
       "    </tr>\n",
       "  </thead>\n",
       "  <tbody>\n",
       "    <tr>\n",
       "      <th>0</th>\n",
       "      <td>GET</td>\n",
       "      <td>/api/v1/sales?page=86</td>\n",
       "      <td>16/Apr/2019:193452+0000</td>\n",
       "      <td>HTTP/1.1</td>\n",
       "      <td>200</td>\n",
       "      <td>510348</td>\n",
       "      <td>python-requests/2.21.0</td>\n",
       "      <td>97.105.19.58</td>\n",
       "      <td>True</td>\n",
       "    </tr>\n",
       "    <tr>\n",
       "      <th>1</th>\n",
       "      <td>POST</td>\n",
       "      <td>/users_accounts/file-upload</td>\n",
       "      <td>16/Apr/2019:193452+0000</td>\n",
       "      <td>HTTP/1.1</td>\n",
       "      <td>201</td>\n",
       "      <td>42</td>\n",
       "      <td>User-Agent: Mozilla/5.0 (X11; Fedora; Fedora; ...</td>\n",
       "      <td>97.105.19.58</td>\n",
       "      <td>False</td>\n",
       "    </tr>\n",
       "    <tr>\n",
       "      <th>2</th>\n",
       "      <td>GET</td>\n",
       "      <td>/api/v1/items?page=3</td>\n",
       "      <td>16/Apr/2019:193453+0000</td>\n",
       "      <td>HTTP/1.1</td>\n",
       "      <td>429</td>\n",
       "      <td>3561</td>\n",
       "      <td>python-requests/2.21.0</td>\n",
       "      <td>97.105.19.58</td>\n",
       "      <td>True</td>\n",
       "    </tr>\n",
       "  </tbody>\n",
       "</table>\n",
       "</div>"
      ],
      "text/plain": [
       "  method                         path                timestamp http_version  \\\n",
       "0    GET        /api/v1/sales?page=86  16/Apr/2019:193452+0000     HTTP/1.1   \n",
       "1   POST  /users_accounts/file-upload  16/Apr/2019:193452+0000     HTTP/1.1   \n",
       "2    GET         /api/v1/items?page=3  16/Apr/2019:193453+0000     HTTP/1.1   \n",
       "\n",
       "  status_code   bytes                                         user_agent  \\\n",
       "0         200  510348                             python-requests/2.21.0   \n",
       "1         201      42  User-Agent: Mozilla/5.0 (X11; Fedora; Fedora; ...   \n",
       "2         429    3561                             python-requests/2.21.0   \n",
       "\n",
       "             ip  has_query_string  \n",
       "0  97.105.19.58              True  \n",
       "1  97.105.19.58             False  \n",
       "2  97.105.19.58              True  "
      ]
     },
     "execution_count": 78,
     "metadata": {},
     "output_type": "execute_result"
    }
   ],
   "source": [
    "df[\"has_query_string\"] = df[\"path\"].apply(is_query_string)\n",
    "df"
   ]
  },
  {
   "cell_type": "markdown",
   "id": "d669e544",
   "metadata": {},
   "source": [
    "# Bonus | `/usr/share/dict/words` mac words\n",
    "You can find a list of words on your mac at `/usr/share/dict/words`. Use this file to answer the following questions:\n",
    "1. How many words have at least 3 vowels?\n",
    "2. How many words have at least 3 vowels in a row?\n",
    "3. How many words have at least 4 consonants in a row?\n",
    "4. How many words start and end with the same letter?\n",
    "5. How many words start and end with a vowel?\n",
    "6. How many words contain the same letter 3 times in a row?\n",
    "7. What other interesting patterns in words can you find?"
   ]
  },
  {
   "cell_type": "code",
   "execution_count": 80,
   "id": "e72ed520",
   "metadata": {},
   "outputs": [],
   "source": [
    "bonus = pd.read_csv('/usr/share/dict/words', header = None)\n",
    "bonus.columns = ['word']"
   ]
  },
  {
   "cell_type": "code",
   "execution_count": 83,
   "id": "66e814cc",
   "metadata": {},
   "outputs": [
    {
     "data": {
      "text/html": [
       "<div>\n",
       "<style scoped>\n",
       "    .dataframe tbody tr th:only-of-type {\n",
       "        vertical-align: middle;\n",
       "    }\n",
       "\n",
       "    .dataframe tbody tr th {\n",
       "        vertical-align: top;\n",
       "    }\n",
       "\n",
       "    .dataframe thead th {\n",
       "        text-align: right;\n",
       "    }\n",
       "</style>\n",
       "<table border=\"1\" class=\"dataframe\">\n",
       "  <thead>\n",
       "    <tr style=\"text-align: right;\">\n",
       "      <th></th>\n",
       "      <th>word</th>\n",
       "    </tr>\n",
       "  </thead>\n",
       "  <tbody>\n",
       "    <tr>\n",
       "      <th>0</th>\n",
       "      <td>A</td>\n",
       "    </tr>\n",
       "    <tr>\n",
       "      <th>1</th>\n",
       "      <td>a</td>\n",
       "    </tr>\n",
       "    <tr>\n",
       "      <th>2</th>\n",
       "      <td>aa</td>\n",
       "    </tr>\n",
       "    <tr>\n",
       "      <th>3</th>\n",
       "      <td>aal</td>\n",
       "    </tr>\n",
       "    <tr>\n",
       "      <th>4</th>\n",
       "      <td>aalii</td>\n",
       "    </tr>\n",
       "  </tbody>\n",
       "</table>\n",
       "</div>"
      ],
      "text/plain": [
       "    word\n",
       "0      A\n",
       "1      a\n",
       "2     aa\n",
       "3    aal\n",
       "4  aalii"
      ]
     },
     "execution_count": 83,
     "metadata": {},
     "output_type": "execute_result"
    }
   ],
   "source": [
    "bonus.head()"
   ]
  },
  {
   "cell_type": "code",
   "execution_count": 81,
   "id": "7f0ac043",
   "metadata": {},
   "outputs": [],
   "source": [
    "three_or_more_vowels = bonus.word.str.count(r\"[aeiouAEIOU]\") >= 3"
   ]
  },
  {
   "cell_type": "code",
   "execution_count": 84,
   "id": "0e3e5f12",
   "metadata": {},
   "outputs": [
    {
     "data": {
      "text/html": [
       "<div>\n",
       "<style scoped>\n",
       "    .dataframe tbody tr th:only-of-type {\n",
       "        vertical-align: middle;\n",
       "    }\n",
       "\n",
       "    .dataframe tbody tr th {\n",
       "        vertical-align: top;\n",
       "    }\n",
       "\n",
       "    .dataframe thead th {\n",
       "        text-align: right;\n",
       "    }\n",
       "</style>\n",
       "<table border=\"1\" class=\"dataframe\">\n",
       "  <thead>\n",
       "    <tr style=\"text-align: right;\">\n",
       "      <th></th>\n",
       "      <th>word</th>\n",
       "    </tr>\n",
       "  </thead>\n",
       "  <tbody>\n",
       "    <tr>\n",
       "      <th>4</th>\n",
       "      <td>aalii</td>\n",
       "    </tr>\n",
       "    <tr>\n",
       "      <th>6</th>\n",
       "      <td>Aani</td>\n",
       "    </tr>\n",
       "    <tr>\n",
       "      <th>7</th>\n",
       "      <td>aardvark</td>\n",
       "    </tr>\n",
       "    <tr>\n",
       "      <th>8</th>\n",
       "      <td>aardwolf</td>\n",
       "    </tr>\n",
       "    <tr>\n",
       "      <th>9</th>\n",
       "      <td>Aaron</td>\n",
       "    </tr>\n",
       "    <tr>\n",
       "      <th>...</th>\n",
       "      <td>...</td>\n",
       "    </tr>\n",
       "    <tr>\n",
       "      <th>235874</th>\n",
       "      <td>zymotically</td>\n",
       "    </tr>\n",
       "    <tr>\n",
       "      <th>235875</th>\n",
       "      <td>zymotize</td>\n",
       "    </tr>\n",
       "    <tr>\n",
       "      <th>235876</th>\n",
       "      <td>zymotoxic</td>\n",
       "    </tr>\n",
       "    <tr>\n",
       "      <th>235878</th>\n",
       "      <td>Zyrenian</td>\n",
       "    </tr>\n",
       "    <tr>\n",
       "      <th>235885</th>\n",
       "      <td>Zyzzogeton</td>\n",
       "    </tr>\n",
       "  </tbody>\n",
       "</table>\n",
       "<p>191365 rows × 1 columns</p>\n",
       "</div>"
      ],
      "text/plain": [
       "               word\n",
       "4             aalii\n",
       "6              Aani\n",
       "7          aardvark\n",
       "8          aardwolf\n",
       "9             Aaron\n",
       "...             ...\n",
       "235874  zymotically\n",
       "235875     zymotize\n",
       "235876    zymotoxic\n",
       "235878     Zyrenian\n",
       "235885   Zyzzogeton\n",
       "\n",
       "[191365 rows x 1 columns]"
      ]
     },
     "execution_count": 84,
     "metadata": {},
     "output_type": "execute_result"
    }
   ],
   "source": [
    "# How many words have at least 3 vowels\n",
    "bonus[three_or_more_vowels]"
   ]
  },
  {
   "cell_type": "code",
   "execution_count": 86,
   "id": "1ee42cb0",
   "metadata": {},
   "outputs": [
    {
     "data": {
      "text/html": [
       "<div>\n",
       "<style scoped>\n",
       "    .dataframe tbody tr th:only-of-type {\n",
       "        vertical-align: middle;\n",
       "    }\n",
       "\n",
       "    .dataframe tbody tr th {\n",
       "        vertical-align: top;\n",
       "    }\n",
       "\n",
       "    .dataframe thead th {\n",
       "        text-align: right;\n",
       "    }\n",
       "</style>\n",
       "<table border=\"1\" class=\"dataframe\">\n",
       "  <thead>\n",
       "    <tr style=\"text-align: right;\">\n",
       "      <th></th>\n",
       "      <th>word</th>\n",
       "    </tr>\n",
       "  </thead>\n",
       "  <tbody>\n",
       "    <tr>\n",
       "      <th>234</th>\n",
       "      <td>Abietineae</td>\n",
       "    </tr>\n",
       "    <tr>\n",
       "      <th>235</th>\n",
       "      <td>abietineous</td>\n",
       "    </tr>\n",
       "    <tr>\n",
       "      <th>301</th>\n",
       "      <td>ablatitious</td>\n",
       "    </tr>\n",
       "    <tr>\n",
       "      <th>434</th>\n",
       "      <td>abranchious</td>\n",
       "    </tr>\n",
       "    <tr>\n",
       "      <th>507</th>\n",
       "      <td>absenteeism</td>\n",
       "    </tr>\n",
       "    <tr>\n",
       "      <th>...</th>\n",
       "      <td>...</td>\n",
       "    </tr>\n",
       "    <tr>\n",
       "      <th>235800</th>\n",
       "      <td>Zygophyceae</td>\n",
       "    </tr>\n",
       "    <tr>\n",
       "      <th>235801</th>\n",
       "      <td>zygophyceous</td>\n",
       "    </tr>\n",
       "    <tr>\n",
       "      <th>235802</th>\n",
       "      <td>Zygophyllaceae</td>\n",
       "    </tr>\n",
       "    <tr>\n",
       "      <th>235803</th>\n",
       "      <td>zygophyllaceous</td>\n",
       "    </tr>\n",
       "    <tr>\n",
       "      <th>235808</th>\n",
       "      <td>Zygopteraceae</td>\n",
       "    </tr>\n",
       "  </tbody>\n",
       "</table>\n",
       "<p>6182 rows × 1 columns</p>\n",
       "</div>"
      ],
      "text/plain": [
       "                   word\n",
       "234          Abietineae\n",
       "235         abietineous\n",
       "301         ablatitious\n",
       "434         abranchious\n",
       "507         absenteeism\n",
       "...                 ...\n",
       "235800      Zygophyceae\n",
       "235801     zygophyceous\n",
       "235802   Zygophyllaceae\n",
       "235803  zygophyllaceous\n",
       "235808    Zygopteraceae\n",
       "\n",
       "[6182 rows x 1 columns]"
      ]
     },
     "execution_count": 86,
     "metadata": {},
     "output_type": "execute_result"
    }
   ],
   "source": [
    "# How many words have at least 3 vowels in a row?\n",
    "bonus[bonus.word.str.count(r\"[aeiouAEIOU]{3}\") > 0]"
   ]
  },
  {
   "cell_type": "code",
   "execution_count": null,
   "id": "3dd60b2c",
   "metadata": {},
   "outputs": [],
   "source": []
  },
  {
   "cell_type": "code",
   "execution_count": null,
   "id": "c820621b",
   "metadata": {},
   "outputs": [],
   "source": []
  }
 ],
 "metadata": {
  "kernelspec": {
   "display_name": "Python 3",
   "language": "python",
   "name": "python3"
  },
  "language_info": {
   "codemirror_mode": {
    "name": "ipython",
    "version": 3
   },
   "file_extension": ".py",
   "mimetype": "text/x-python",
   "name": "python",
   "nbconvert_exporter": "python",
   "pygments_lexer": "ipython3",
   "version": "3.8.8"
  }
 },
 "nbformat": 4,
 "nbformat_minor": 5
}
