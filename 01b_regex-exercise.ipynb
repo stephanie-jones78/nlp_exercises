{
 "cells": [
  {
   "cell_type": "markdown",
   "id": "10138341",
   "metadata": {},
   "source": [
    "# Exercises for `01_regex` lesson"
   ]
  },
  {
   "cell_type": "code",
   "execution_count": 1,
   "id": "abab1546",
   "metadata": {},
   "outputs": [],
   "source": [
    "# library imports\n",
    "import pandas as pd\n",
    "import numpy as np\n",
    "\n",
    "import re"
   ]
  },
  {
   "cell_type": "markdown",
   "id": "754145a9",
   "metadata": {},
   "source": [
    "# 1. `is_vowel` function\n",
    "Write a function named `is_vowel`. It should accept a `string` as input and use a `regular expression` to determine if the passed string is a vowel. While not explicity mentioned in the lesson, you can treat the result of `re.search` as a boolean value that indicates whether or not the regular expression matches the given string."
   ]
  },
  {
   "cell_type": "markdown",
   "id": "f29322a2",
   "metadata": {},
   "source": [
    ">Generating and testing the code for the function..."
   ]
  },
  {
   "cell_type": "code",
   "execution_count": 7,
   "id": "d963ce10",
   "metadata": {},
   "outputs": [
    {
     "name": "stdout",
     "output_type": "stream",
     "text": [
      "None\n"
     ]
    }
   ],
   "source": [
    "\n",
    "# first, testing on a string that contains vowels, but is not a vowel itself\n",
    "print(re.search(r'aeiou', 'Test: This is a test.'))"
   ]
  },
  {
   "cell_type": "markdown",
   "id": "3cc39a01",
   "metadata": {},
   "source": [
    ">`None`: Passed! Now testing on string that is a vowel..."
   ]
  },
  {
   "cell_type": "code",
   "execution_count": 10,
   "id": "9ed4355f",
   "metadata": {},
   "outputs": [
    {
     "name": "stdout",
     "output_type": "stream",
     "text": [
      "None\n"
     ]
    }
   ],
   "source": [
    "print(re.search(r'aeiou', 'a'))"
   ]
  },
  {
   "cell_type": "markdown",
   "id": "8b8d815d",
   "metadata": {},
   "source": [
    ">`None`: Failed. I will try the `|` sign in the regex between each vowel character..."
   ]
  },
  {
   "cell_type": "code",
   "execution_count": 11,
   "id": "899b331f",
   "metadata": {
    "scrolled": true
   },
   "outputs": [
    {
     "name": "stdout",
     "output_type": "stream",
     "text": [
      "<re.Match object; span=(0, 1), match='a'>\n"
     ]
    }
   ],
   "source": [
    "print(re.search(r'a|e|i|o|u', 'a'))"
   ]
  },
  {
   "cell_type": "markdown",
   "id": "a3936226",
   "metadata": {},
   "source": [
    ">`Match`: Passed! Now I will include another character that is not a vowel..."
   ]
  },
  {
   "cell_type": "code",
   "execution_count": 14,
   "id": "5162f1e0",
   "metadata": {},
   "outputs": [
    {
     "name": "stdout",
     "output_type": "stream",
     "text": [
      "<re.Match object; span=(0, 1), match='a'>\n"
     ]
    }
   ],
   "source": [
    "print(re.search(r'a|e|i|o|u', 'ab'))"
   ]
  },
  {
   "cell_type": "markdown",
   "id": "ca8e7632",
   "metadata": {},
   "source": [
    ">`Match`: Failed. I will try to add the metacharacter `{n}` with *n* == `1`"
   ]
  },
  {
   "cell_type": "code",
   "execution_count": 20,
   "id": "17c5ef7c",
   "metadata": {},
   "outputs": [
    {
     "name": "stdout",
     "output_type": "stream",
     "text": [
      "None\n"
     ]
    }
   ],
   "source": [
    "print(re.search(r'aeiou', 'ab'))"
   ]
  },
  {
   "cell_type": "markdown",
   "id": "04852124",
   "metadata": {},
   "source": [
    ">`None`: Passed! Now I will try it on a non-vowel..."
   ]
  },
  {
   "cell_type": "code",
   "execution_count": 37,
   "id": "378a2b5b",
   "metadata": {},
   "outputs": [
    {
     "name": "stdout",
     "output_type": "stream",
     "text": [
      "<re.Match object; span=(0, 1), match='a'>\n"
     ]
    }
   ],
   "source": [
    "print(re.match(r'[aeiou]', 'ab'))"
   ]
  },
  {
   "cell_type": "markdown",
   "id": "ff072ee2",
   "metadata": {},
   "source": [
    ">`Match`: Failed. I will try using the `{n}` with *n* == `1` so it only matches one instance of the vowel and `$` so that it ends."
   ]
  },
  {
   "cell_type": "code",
   "execution_count": 41,
   "id": "eaec4619",
   "metadata": {},
   "outputs": [
    {
     "name": "stdout",
     "output_type": "stream",
     "text": [
      "None\n"
     ]
    }
   ],
   "source": [
    "print(re.search(r'[aeiou]{1}$', 'ab'))"
   ]
  },
  {
   "cell_type": "markdown",
   "id": "d7dcc517",
   "metadata": {},
   "source": [
    ">`None`: Passed! I will try this with "
   ]
  },
  {
   "cell_type": "code",
   "execution_count": 40,
   "id": "187c8d3b",
   "metadata": {},
   "outputs": [
    {
     "data": {
      "text/plain": [
       "<re.Match object; span=(0, 1), match='a'>"
      ]
     },
     "execution_count": 40,
     "metadata": {},
     "output_type": "execute_result"
    }
   ],
   "source": [
    "print(re.search(r'[aeiou]{1}$', 'a'))"
   ]
  },
  {
   "cell_type": "markdown",
   "id": "10871489",
   "metadata": {},
   "source": [
    ">Defining `is_vowel` function..."
   ]
  },
  {
   "cell_type": "code",
   "execution_count": 162,
   "id": "69557c31",
   "metadata": {},
   "outputs": [],
   "source": [
    "def is_vowel(string):\n",
    "    '''\n",
    "    this function takes in a string and defines a regex statement that, when combined with the \n",
    "    re search function, will test the string to see whether it is a single vowel character.\n",
    "        - if the string is a not a single vowel, it will print: Now a vowel.\n",
    "        - if the strng is a single vowel, it will print: Vowel!\n",
    "    '''\n",
    "    regex = r'[aeiou]{1}$'\n",
    "    \n",
    "    # the lines of code below will print the corresponding statements... \n",
    "    if re.search(regex, string, re.IGNORECASE) == None:\n",
    "        print('Not a vowel.')\n",
    "    \n",
    "    else:\n",
    "        print('Vowel!')\n",
    "\n",
    "\n"
   ]
  },
  {
   "cell_type": "markdown",
   "id": "c1061204",
   "metadata": {},
   "source": [
    ">Testing..."
   ]
  },
  {
   "cell_type": "code",
   "execution_count": 163,
   "id": "69a29a92",
   "metadata": {},
   "outputs": [
    {
     "name": "stdout",
     "output_type": "stream",
     "text": [
      "Vowel!\n"
     ]
    }
   ],
   "source": [
    "# single vowel test\n",
    "is_vowel('a')"
   ]
  },
  {
   "cell_type": "code",
   "execution_count": 164,
   "id": "5cd24150",
   "metadata": {},
   "outputs": [
    {
     "name": "stdout",
     "output_type": "stream",
     "text": [
      "Not a vowel.\n"
     ]
    }
   ],
   "source": [
    "# not single vowel test\n",
    "is_vowel('ab')"
   ]
  },
  {
   "cell_type": "code",
   "execution_count": 165,
   "id": "8666c3e4",
   "metadata": {},
   "outputs": [
    {
     "name": "stdout",
     "output_type": "stream",
     "text": [
      "Vowel!\n"
     ]
    }
   ],
   "source": [
    "is_vowel('A')"
   ]
  },
  {
   "cell_type": "markdown",
   "id": "f4813dfa",
   "metadata": {},
   "source": [
    ">It works!"
   ]
  },
  {
   "cell_type": "markdown",
   "id": "b79bc110",
   "metadata": {},
   "source": [
    "### Instructor solution"
   ]
  },
  {
   "cell_type": "code",
   "execution_count": null,
   "id": "51ec7baa",
   "metadata": {},
   "outputs": [],
   "source": []
  },
  {
   "cell_type": "code",
   "execution_count": null,
   "id": "60418b75",
   "metadata": {},
   "outputs": [],
   "source": []
  },
  {
   "cell_type": "code",
   "execution_count": null,
   "id": "fd99f8c5",
   "metadata": {},
   "outputs": [],
   "source": []
  },
  {
   "cell_type": "markdown",
   "id": "266fb2ff",
   "metadata": {},
   "source": [
    "# 2. `is_valid_username` function\n",
    "Write a function named `is_valid_username` that accepts a `string` as input. A valid username starts with a lowercase letter, and only consists of lowercase letters, numbers, or the `_` character. It should also be no longer than 32 characters. \n",
    "\n",
    "\n",
    "Conditions:\n",
    "1. starts with lowercase letters\n",
    "2. only consists of:\n",
    "    - lowercase letters,\n",
    "    - numbers, or\n",
    "    - `_` char\n",
    "3. no longer than 32 chars\n",
    "<br>\n",
    "<br>\n",
    "\n",
    "The function should return either `True` or `False` depending on whether the passed string is a valid username.\n"
   ]
  },
  {
   "cell_type": "markdown",
   "id": "cdc173f5",
   "metadata": {},
   "source": [
    ">Generating and testing code for the function...<br>\n",
    ">1. Starting with starts with lowercase letter"
   ]
  },
  {
   "cell_type": "code",
   "execution_count": 67,
   "id": "d38d4a10",
   "metadata": {},
   "outputs": [
    {
     "data": {
      "text/plain": [
       "<re.Match object; span=(0, 1), match='u'>"
      ]
     },
     "execution_count": 67,
     "metadata": {},
     "output_type": "execute_result"
    }
   ],
   "source": [
    "# starts with lowercase letter \n",
    "re.search(r'^[a-z]', 'user_name')\n",
    "\n",
    "# Pass >> Match = 'user_name'"
   ]
  },
  {
   "cell_type": "code",
   "execution_count": 68,
   "id": "26ec7ea8",
   "metadata": {},
   "outputs": [],
   "source": [
    "# starts with uppercase letter\n",
    "re.search(r'^[a-z]', 'User_name')\n",
    "\n",
    "# None >> Pass"
   ]
  },
  {
   "cell_type": "markdown",
   "id": "e026d600",
   "metadata": {},
   "source": [
    ">2. only consists of:\n",
    ">    - lowercase letters,\n",
    ">    - numbers, or\n",
    ">    - `_` char"
   ]
  },
  {
   "cell_type": "code",
   "execution_count": 111,
   "id": "2c5fb710",
   "metadata": {},
   "outputs": [
    {
     "data": {
      "text/plain": [
       "<re.Match object; span=(0, 9), match='user_name'>"
      ]
     },
     "execution_count": 111,
     "metadata": {},
     "output_type": "execute_result"
    }
   ],
   "source": [
    "# all lowercase and _ test\n",
    "re.search(r'^[a-z0-9_]+$', 'user_name')"
   ]
  },
  {
   "cell_type": "code",
   "execution_count": 112,
   "id": "32380344",
   "metadata": {},
   "outputs": [],
   "source": [
    "# not all lowercase test\n",
    "re.search(r'^[a-z0-9_]+$', 'user_Name')"
   ]
  },
  {
   "cell_type": "code",
   "execution_count": 113,
   "id": "dcb47358",
   "metadata": {},
   "outputs": [
    {
     "data": {
      "text/plain": [
       "<re.Match object; span=(0, 10), match='user_name1'>"
      ]
     },
     "execution_count": 113,
     "metadata": {},
     "output_type": "execute_result"
    }
   ],
   "source": [
    "# numbers test\n",
    "re.search(r'^[a-z0-9_]+$', 'user_name1')"
   ]
  },
  {
   "cell_type": "code",
   "execution_count": 114,
   "id": "04642baf",
   "metadata": {},
   "outputs": [
    {
     "data": {
      "text/plain": [
       "<re.Match object; span=(0, 8), match='username'>"
      ]
     },
     "execution_count": 114,
     "metadata": {},
     "output_type": "execute_result"
    }
   ],
   "source": [
    "# no _ test\n",
    "re.search(r'^[a-z0-9_]+$', 'username')"
   ]
  },
  {
   "cell_type": "code",
   "execution_count": 116,
   "id": "6ca03418",
   "metadata": {},
   "outputs": [],
   "source": [
    "# empty space test\n",
    "re.search(r'^[a-z0-9_]+$', 'user name')"
   ]
  },
  {
   "cell_type": "markdown",
   "id": "40f6567e",
   "metadata": {},
   "source": [
    ">3. no longer than 32 chars"
   ]
  },
  {
   "cell_type": "code",
   "execution_count": 141,
   "id": "02bc9436",
   "metadata": {},
   "outputs": [],
   "source": [
    "def check_len(string, max_len):\n",
    "    '''\n",
    "    this function takes in a string and max_len value and returns True if the string is less than\n",
    "    or equal to the max len of the input string.\n",
    "    '''\n",
    "    \n",
    "    return len(string) <= max_len"
   ]
  },
  {
   "cell_type": "code",
   "execution_count": 142,
   "id": "9fa661fb",
   "metadata": {},
   "outputs": [
    {
     "data": {
      "text/plain": [
       "True"
      ]
     },
     "execution_count": 142,
     "metadata": {},
     "output_type": "execute_result"
    }
   ],
   "source": [
    "check_len('string'*8, 100)"
   ]
  },
  {
   "cell_type": "code",
   "execution_count": 143,
   "id": "1c6a2b80",
   "metadata": {},
   "outputs": [
    {
     "data": {
      "text/plain": [
       "False"
      ]
     },
     "execution_count": 143,
     "metadata": {},
     "output_type": "execute_result"
    }
   ],
   "source": [
    "check_len('string'*8, 32)"
   ]
  },
  {
   "cell_type": "markdown",
   "id": "e4b837fe",
   "metadata": {},
   "source": [
    ">Now that I have a way to test the max_lenth, I can put everything together in a function to test..."
   ]
  },
  {
   "cell_type": "code",
   "execution_count": 154,
   "id": "f40b4010",
   "metadata": {},
   "outputs": [],
   "source": [
    "def is_valid_user_name(string, max_len):\n",
    "    '''\n",
    "    \n",
    "    '''\n",
    "    \n",
    "    # defining regular expression\n",
    "    regex = r'^[a-z0-9_]+$'\n",
    "    \n",
    "    if re.search(regex, string) == None:\n",
    "        print('Invalid password. Password contains invalid character.')\n",
    "    \n",
    "    else:\n",
    "        if len(string) > max_len:\n",
    "            print(f'Invalid password. Password cannot be longer than {max_len} characters.')\n",
    "        else:\n",
    "            print('Valid password. Password meets criteria!')\n",
    "    "
   ]
  },
  {
   "cell_type": "code",
   "execution_count": 155,
   "id": "91a3138c",
   "metadata": {},
   "outputs": [
    {
     "name": "stdout",
     "output_type": "stream",
     "text": [
      "Valid password. Password meets criteria!\n"
     ]
    }
   ],
   "source": [
    "# testing pw that meets all criteria\n",
    "is_valid_user_name('user_name', 32)"
   ]
  },
  {
   "cell_type": "code",
   "execution_count": 156,
   "id": "ee495c78",
   "metadata": {},
   "outputs": [
    {
     "name": "stdout",
     "output_type": "stream",
     "text": [
      "Invalid password. Password contains invalid character.\n"
     ]
    }
   ],
   "source": [
    "# testing password that contains empty space\n",
    "is_valid_user_name('user name', 32)"
   ]
  },
  {
   "cell_type": "code",
   "execution_count": 157,
   "id": "6d3742a6",
   "metadata": {},
   "outputs": [
    {
     "name": "stdout",
     "output_type": "stream",
     "text": [
      "Invalid password. Password contains invalid character.\n"
     ]
    }
   ],
   "source": [
    "# testing password that begins with uppercase character\n",
    "is_valid_user_name('User_name', 32)"
   ]
  },
  {
   "cell_type": "code",
   "execution_count": 158,
   "id": "503d86c5",
   "metadata": {},
   "outputs": [
    {
     "name": "stdout",
     "output_type": "stream",
     "text": [
      "Invalid password. Password contains invalid character.\n"
     ]
    }
   ],
   "source": [
    "# testing pw that contains uppercase character\n",
    "is_valid_user_name('user_Name', 32)"
   ]
  },
  {
   "cell_type": "code",
   "execution_count": 159,
   "id": "62547959",
   "metadata": {},
   "outputs": [
    {
     "name": "stdout",
     "output_type": "stream",
     "text": [
      "Invalid password. Password contains invalid character.\n"
     ]
    }
   ],
   "source": [
    "# testing password that contains invalid special character\n",
    "is_valid_user_name('user_name!', 32)"
   ]
  },
  {
   "cell_type": "code",
   "execution_count": 160,
   "id": "7ddfccca",
   "metadata": {},
   "outputs": [
    {
     "name": "stdout",
     "output_type": "stream",
     "text": [
      "Invalid password. Password cannot be longer than 10 characters.\n"
     ]
    }
   ],
   "source": [
    "# testing password that is longer than max_len\n",
    "is_valid_user_name('user_name123456789101112', 10)"
   ]
  },
  {
   "cell_type": "markdown",
   "id": "9fabce17",
   "metadata": {},
   "source": [
    ">Function tests successful!"
   ]
  },
  {
   "cell_type": "markdown",
   "id": "8d18748b",
   "metadata": {},
   "source": [
    "# 3. ph# regex\n",
    "Write a regular expression to capture phone numbers. It should match all of the following:\n",
    ">`'(210) 867 5309'`<br>\n",
    "`'+1 210.867.5309'`<br>\n",
    "`'867-5309'`<br>\n",
    "`'210-867-530'`<br>"
   ]
  },
  {
   "cell_type": "code",
   "execution_count": null,
   "id": "44734f89",
   "metadata": {},
   "outputs": [],
   "source": []
  },
  {
   "cell_type": "code",
   "execution_count": null,
   "id": "f5d8a799",
   "metadata": {},
   "outputs": [],
   "source": []
  },
  {
   "cell_type": "code",
   "execution_count": null,
   "id": "984abf24",
   "metadata": {},
   "outputs": [],
   "source": []
  },
  {
   "cell_type": "code",
   "execution_count": null,
   "id": "852b4b32",
   "metadata": {},
   "outputs": [],
   "source": []
  },
  {
   "cell_type": "code",
   "execution_count": null,
   "id": "d4984ed6",
   "metadata": {},
   "outputs": [],
   "source": []
  },
  {
   "cell_type": "code",
   "execution_count": null,
   "id": "242aa2a2",
   "metadata": {},
   "outputs": [],
   "source": []
  },
  {
   "cell_type": "code",
   "execution_count": null,
   "id": "a9987ed5",
   "metadata": {},
   "outputs": [],
   "source": []
  },
  {
   "cell_type": "code",
   "execution_count": null,
   "id": "82823c6c",
   "metadata": {},
   "outputs": [],
   "source": []
  },
  {
   "cell_type": "code",
   "execution_count": null,
   "id": "c1d16a73",
   "metadata": {},
   "outputs": [],
   "source": []
  },
  {
   "cell_type": "markdown",
   "id": "88bd1d38",
   "metadata": {},
   "source": [
    "# 4. dates regex\n",
    "Use regular expressions to convert the dates below to the standardized year-month-day format.\n",
    "\n",
    ">`'02/04/19'`<br>\n",
    "`'02/05/19'`<br>\n",
    "`'02/06/19'`<br>\n",
    "`'02/07/19'`<br>\n",
    "`'02/08/19'`<br>\n",
    "`'02/09/19'`<br>\n",
    "`'02/10/19'`<br>"
   ]
  },
  {
   "cell_type": "code",
   "execution_count": null,
   "id": "969bea40",
   "metadata": {},
   "outputs": [],
   "source": []
  },
  {
   "cell_type": "code",
   "execution_count": null,
   "id": "48afcb84",
   "metadata": {},
   "outputs": [],
   "source": []
  },
  {
   "cell_type": "code",
   "execution_count": null,
   "id": "fcfd2b30",
   "metadata": {},
   "outputs": [],
   "source": []
  },
  {
   "cell_type": "code",
   "execution_count": null,
   "id": "c09d3abb",
   "metadata": {},
   "outputs": [],
   "source": []
  },
  {
   "cell_type": "code",
   "execution_count": null,
   "id": "665d024f",
   "metadata": {},
   "outputs": [],
   "source": []
  },
  {
   "cell_type": "code",
   "execution_count": null,
   "id": "bbd568ce",
   "metadata": {},
   "outputs": [],
   "source": []
  },
  {
   "cell_type": "markdown",
   "id": "affbacb2",
   "metadata": {},
   "source": [
    "# 5. logfil regex\n",
    "Write a regex to extract the various parts of these logfile lines:\n",
    "\n",
    "`'GET /api/v1/sales?page=86 [16/Apr/2019:193452+0000] HTTP/1.1 {200} 510348 \"python-requests/2.21.0\" 97.105.19.58'`<br><hr>\n",
    "`'POST /users_accounts/file-upload [16/Apr/2019:193452+0000] HTTP/1.1 {201} 42 \"User-Agent: Mozilla/5.0 (X11; Fedora; Fedora; Linux x86_64) AppleWebKit/537.36 (KHTML, like Gecko) Chrome/73.0.3683.86 Safari/537.36\" 97.105.19.58'`<br><hr>\n",
    "`'GET /api/v1/items?page=3 [16/Apr/2019:193453+0000] HTTP/1.1 {429} 3561 \"python-requests/2.21.0\" 97.105.19.58'`<br><hr>\n"
   ]
  },
  {
   "cell_type": "code",
   "execution_count": null,
   "id": "8337236c",
   "metadata": {},
   "outputs": [],
   "source": []
  },
  {
   "cell_type": "code",
   "execution_count": null,
   "id": "f51a170b",
   "metadata": {},
   "outputs": [],
   "source": []
  },
  {
   "cell_type": "code",
   "execution_count": null,
   "id": "9de22cc6",
   "metadata": {},
   "outputs": [],
   "source": []
  },
  {
   "cell_type": "code",
   "execution_count": null,
   "id": "2ca0ea17",
   "metadata": {},
   "outputs": [],
   "source": []
  },
  {
   "cell_type": "code",
   "execution_count": null,
   "id": "a0e92764",
   "metadata": {},
   "outputs": [],
   "source": []
  },
  {
   "cell_type": "code",
   "execution_count": null,
   "id": "2f3724d7",
   "metadata": {},
   "outputs": [],
   "source": []
  },
  {
   "cell_type": "markdown",
   "id": "d669e544",
   "metadata": {},
   "source": [
    "# Bonus | `/usr/share/dict/words` mac words\n",
    "You can find a list of words on your mac at `/usr/share/dict/words`. Use this file to answer the following questions:\n",
    "1. How many words have at least 3 vowels?\n",
    "2. How many words have at least 3 vowels in a row?\n",
    "3. How many words have at least 4 consonants in a row?\n",
    "4. How many words start and end with the same letter?\n",
    "5. How many words start and end with a vowel?\n",
    "6. How many words contain the same letter 3 times in a row?\n",
    "7. What other interesting patterns in words can you find?"
   ]
  },
  {
   "cell_type": "code",
   "execution_count": 169,
   "id": "e72ed520",
   "metadata": {},
   "outputs": [
    {
     "data": {
      "text/html": [
       "<div>\n",
       "<style scoped>\n",
       "    .dataframe tbody tr th:only-of-type {\n",
       "        vertical-align: middle;\n",
       "    }\n",
       "\n",
       "    .dataframe tbody tr th {\n",
       "        vertical-align: top;\n",
       "    }\n",
       "\n",
       "    .dataframe thead th {\n",
       "        text-align: right;\n",
       "    }\n",
       "</style>\n",
       "<table border=\"1\" class=\"dataframe\">\n",
       "  <thead>\n",
       "    <tr style=\"text-align: right;\">\n",
       "      <th></th>\n",
       "      <th>0</th>\n",
       "    </tr>\n",
       "  </thead>\n",
       "  <tbody>\n",
       "    <tr>\n",
       "      <th>0</th>\n",
       "      <td>A</td>\n",
       "    </tr>\n",
       "    <tr>\n",
       "      <th>1</th>\n",
       "      <td>a</td>\n",
       "    </tr>\n",
       "    <tr>\n",
       "      <th>2</th>\n",
       "      <td>aa</td>\n",
       "    </tr>\n",
       "    <tr>\n",
       "      <th>3</th>\n",
       "      <td>aal</td>\n",
       "    </tr>\n",
       "    <tr>\n",
       "      <th>4</th>\n",
       "      <td>aalii</td>\n",
       "    </tr>\n",
       "    <tr>\n",
       "      <th>...</th>\n",
       "      <td>...</td>\n",
       "    </tr>\n",
       "    <tr>\n",
       "      <th>235881</th>\n",
       "      <td>zythem</td>\n",
       "    </tr>\n",
       "    <tr>\n",
       "      <th>235882</th>\n",
       "      <td>Zythia</td>\n",
       "    </tr>\n",
       "    <tr>\n",
       "      <th>235883</th>\n",
       "      <td>zythum</td>\n",
       "    </tr>\n",
       "    <tr>\n",
       "      <th>235884</th>\n",
       "      <td>Zyzomys</td>\n",
       "    </tr>\n",
       "    <tr>\n",
       "      <th>235885</th>\n",
       "      <td>Zyzzogeton</td>\n",
       "    </tr>\n",
       "  </tbody>\n",
       "</table>\n",
       "<p>235886 rows × 1 columns</p>\n",
       "</div>"
      ],
      "text/plain": [
       "                 0\n",
       "0                A\n",
       "1                a\n",
       "2               aa\n",
       "3              aal\n",
       "4            aalii\n",
       "...            ...\n",
       "235881      zythem\n",
       "235882      Zythia\n",
       "235883      zythum\n",
       "235884     Zyzomys\n",
       "235885  Zyzzogeton\n",
       "\n",
       "[235886 rows x 1 columns]"
      ]
     },
     "execution_count": 169,
     "metadata": {},
     "output_type": "execute_result"
    }
   ],
   "source": [
    "bonus = pd.read_csv('/usr/share/dict/words', header = None)\n",
    "bonus"
   ]
  },
  {
   "cell_type": "code",
   "execution_count": 172,
   "id": "7f0ac043",
   "metadata": {},
   "outputs": [],
   "source": [
    "def starts_w_z(string):\n",
    "    \n",
    "    return string[0] == 'z'"
   ]
  },
  {
   "cell_type": "code",
   "execution_count": 175,
   "id": "0e3e5f12",
   "metadata": {},
   "outputs": [
    {
     "ename": "TypeError",
     "evalue": "'float' object is not subscriptable",
     "output_type": "error",
     "traceback": [
      "\u001b[0;31m---------------------------------------------------------------------------\u001b[0m",
      "\u001b[0;31mTypeError\u001b[0m                                 Traceback (most recent call last)",
      "\u001b[0;32m<ipython-input-175-05e9dab484ed>\u001b[0m in \u001b[0;36m<module>\u001b[0;34m\u001b[0m\n\u001b[0;32m----> 1\u001b[0;31m \u001b[0mbonus\u001b[0m\u001b[0;34m[\u001b[0m\u001b[0;34m'z_start'\u001b[0m\u001b[0;34m]\u001b[0m \u001b[0;34m=\u001b[0m \u001b[0mbonus\u001b[0m\u001b[0;34m[\u001b[0m\u001b[0;36m0\u001b[0m\u001b[0;34m]\u001b[0m\u001b[0;34m.\u001b[0m\u001b[0mapply\u001b[0m\u001b[0;34m(\u001b[0m\u001b[0mstarts_w_z\u001b[0m\u001b[0;34m)\u001b[0m\u001b[0;34m\u001b[0m\u001b[0;34m\u001b[0m\u001b[0m\n\u001b[0m\u001b[1;32m      2\u001b[0m \u001b[0mbonus\u001b[0m\u001b[0;34m\u001b[0m\u001b[0;34m\u001b[0m\u001b[0m\n",
      "\u001b[0;32m/usr/local/anaconda3/lib/python3.8/site-packages/pandas/core/series.py\u001b[0m in \u001b[0;36mapply\u001b[0;34m(self, func, convert_dtype, args, **kwds)\u001b[0m\n\u001b[1;32m   4136\u001b[0m             \u001b[0;32melse\u001b[0m\u001b[0;34m:\u001b[0m\u001b[0;34m\u001b[0m\u001b[0;34m\u001b[0m\u001b[0m\n\u001b[1;32m   4137\u001b[0m                 \u001b[0mvalues\u001b[0m \u001b[0;34m=\u001b[0m \u001b[0mself\u001b[0m\u001b[0;34m.\u001b[0m\u001b[0mastype\u001b[0m\u001b[0;34m(\u001b[0m\u001b[0mobject\u001b[0m\u001b[0;34m)\u001b[0m\u001b[0;34m.\u001b[0m\u001b[0m_values\u001b[0m\u001b[0;34m\u001b[0m\u001b[0;34m\u001b[0m\u001b[0m\n\u001b[0;32m-> 4138\u001b[0;31m                 \u001b[0mmapped\u001b[0m \u001b[0;34m=\u001b[0m \u001b[0mlib\u001b[0m\u001b[0;34m.\u001b[0m\u001b[0mmap_infer\u001b[0m\u001b[0;34m(\u001b[0m\u001b[0mvalues\u001b[0m\u001b[0;34m,\u001b[0m \u001b[0mf\u001b[0m\u001b[0;34m,\u001b[0m \u001b[0mconvert\u001b[0m\u001b[0;34m=\u001b[0m\u001b[0mconvert_dtype\u001b[0m\u001b[0;34m)\u001b[0m\u001b[0;34m\u001b[0m\u001b[0;34m\u001b[0m\u001b[0m\n\u001b[0m\u001b[1;32m   4139\u001b[0m \u001b[0;34m\u001b[0m\u001b[0m\n\u001b[1;32m   4140\u001b[0m         \u001b[0;32mif\u001b[0m \u001b[0mlen\u001b[0m\u001b[0;34m(\u001b[0m\u001b[0mmapped\u001b[0m\u001b[0;34m)\u001b[0m \u001b[0;32mand\u001b[0m \u001b[0misinstance\u001b[0m\u001b[0;34m(\u001b[0m\u001b[0mmapped\u001b[0m\u001b[0;34m[\u001b[0m\u001b[0;36m0\u001b[0m\u001b[0;34m]\u001b[0m\u001b[0;34m,\u001b[0m \u001b[0mSeries\u001b[0m\u001b[0;34m)\u001b[0m\u001b[0;34m:\u001b[0m\u001b[0;34m\u001b[0m\u001b[0;34m\u001b[0m\u001b[0m\n",
      "\u001b[0;32mpandas/_libs/lib.pyx\u001b[0m in \u001b[0;36mpandas._libs.lib.map_infer\u001b[0;34m()\u001b[0m\n",
      "\u001b[0;32m<ipython-input-172-8e4c14721687>\u001b[0m in \u001b[0;36mstarts_w_z\u001b[0;34m(string)\u001b[0m\n\u001b[1;32m      1\u001b[0m \u001b[0;32mdef\u001b[0m \u001b[0mstarts_w_z\u001b[0m\u001b[0;34m(\u001b[0m\u001b[0mstring\u001b[0m\u001b[0;34m)\u001b[0m\u001b[0;34m:\u001b[0m\u001b[0;34m\u001b[0m\u001b[0;34m\u001b[0m\u001b[0m\n\u001b[1;32m      2\u001b[0m \u001b[0;34m\u001b[0m\u001b[0m\n\u001b[0;32m----> 3\u001b[0;31m     \u001b[0;32mreturn\u001b[0m \u001b[0mstring\u001b[0m\u001b[0;34m[\u001b[0m\u001b[0;36m0\u001b[0m\u001b[0;34m]\u001b[0m \u001b[0;34m==\u001b[0m \u001b[0;34m'z'\u001b[0m\u001b[0;34m\u001b[0m\u001b[0;34m\u001b[0m\u001b[0m\n\u001b[0m",
      "\u001b[0;31mTypeError\u001b[0m: 'float' object is not subscriptable"
     ]
    }
   ],
   "source": [
    "bonus['z_start'] = bonus[0].apply(starts_w_z)\n",
    "bonus"
   ]
  },
  {
   "cell_type": "code",
   "execution_count": 171,
   "id": "1ee42cb0",
   "metadata": {},
   "outputs": [
    {
     "data": {
      "text/plain": [
       "'s'"
      ]
     },
     "execution_count": 171,
     "metadata": {},
     "output_type": "execute_result"
    }
   ],
   "source": [
    "st[0]"
   ]
  },
  {
   "cell_type": "code",
   "execution_count": 176,
   "id": "3dd60b2c",
   "metadata": {},
   "outputs": [
    {
     "data": {
      "text/plain": [
       "0                  A\n",
       "1                  a\n",
       "2                 aa\n",
       "3                aal\n",
       "4              aalii\n",
       "             ...    \n",
       "235881        zythem\n",
       "235882        Zythia\n",
       "235883        zythum\n",
       "235884       Zyzomys\n",
       "235885    Zyzzogeton\n",
       "Name: 0, Length: 235886, dtype: object"
      ]
     },
     "execution_count": 176,
     "metadata": {},
     "output_type": "execute_result"
    }
   ],
   "source": [
    "bonus[0]"
   ]
  },
  {
   "cell_type": "code",
   "execution_count": null,
   "id": "c820621b",
   "metadata": {},
   "outputs": [],
   "source": []
  }
 ],
 "metadata": {
  "kernelspec": {
   "display_name": "Python 3",
   "language": "python",
   "name": "python3"
  },
  "language_info": {
   "codemirror_mode": {
    "name": "ipython",
    "version": 3
   },
   "file_extension": ".py",
   "mimetype": "text/x-python",
   "name": "python",
   "nbconvert_exporter": "python",
   "pygments_lexer": "ipython3",
   "version": "3.8.8"
  }
 },
 "nbformat": 4,
 "nbformat_minor": 5
}
