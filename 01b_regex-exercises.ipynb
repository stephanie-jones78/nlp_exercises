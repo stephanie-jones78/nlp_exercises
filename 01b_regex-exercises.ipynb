{
 "cells": [
  {
   "cell_type": "markdown",
   "id": "5f93aa6d",
   "metadata": {},
   "source": [
    "# Exercises for `01_regex` lesson"
   ]
  },
  {
   "cell_type": "code",
   "execution_count": 1,
   "id": "35b4f377",
   "metadata": {},
   "outputs": [],
   "source": [
    "# library imports\n",
    "import pandas as pd\n",
    "import numpy as np\n",
    "\n",
    "import re"
   ]
  },
  {
   "cell_type": "markdown",
   "id": "e2c6f15e",
   "metadata": {},
   "source": [
    "# 1. `is_vowel` function\n",
    "Write a function named `is_vowel`. It should accept a `string` as input and use a `regular expression` to determine if the passed string is a vowel. While not explicity mentioned in the lesson, you can treat the result of `re.search` as a boolean value that indicates whether or not the regular expression matches the given string."
   ]
  },
  {
   "cell_type": "markdown",
   "id": "f2009834",
   "metadata": {},
   "source": [
    ">Generating and testing the code for the function..."
   ]
  },
  {
   "cell_type": "code",
   "execution_count": 7,
   "id": "a7857cfd",
   "metadata": {},
   "outputs": [
    {
     "name": "stdout",
     "output_type": "stream",
     "text": [
      "None\n"
     ]
    }
   ],
   "source": [
    "\n",
    "# first, testing on a string that contains vowels, but is not a vowel itself\n",
    "print(re.search(r'aeiou', 'Test: This is a test.'))"
   ]
  },
  {
   "cell_type": "markdown",
   "id": "ca0036d5",
   "metadata": {},
   "source": [
    ">`None`: Passed! Now testing on string that is a vowel..."
   ]
  },
  {
   "cell_type": "code",
   "execution_count": 10,
   "id": "58699f6d",
   "metadata": {},
   "outputs": [
    {
     "name": "stdout",
     "output_type": "stream",
     "text": [
      "None\n"
     ]
    }
   ],
   "source": [
    "print(re.search(r'aeiou', 'a'))"
   ]
  },
  {
   "cell_type": "markdown",
   "id": "7ad8e6a6",
   "metadata": {},
   "source": [
    ">`None`: Failed. I will try the `|` sign in the regex between each vowel character..."
   ]
  },
  {
   "cell_type": "code",
   "execution_count": 11,
   "id": "9a955575",
   "metadata": {
    "scrolled": true
   },
   "outputs": [
    {
     "name": "stdout",
     "output_type": "stream",
     "text": [
      "<re.Match object; span=(0, 1), match='a'>\n"
     ]
    }
   ],
   "source": [
    "print(re.search(r'a|e|i|o|u', 'a'))"
   ]
  },
  {
   "cell_type": "markdown",
   "id": "30b4c283",
   "metadata": {},
   "source": [
    ">`Match`: Passed! Now I will include another character that is not a vowel..."
   ]
  },
  {
   "cell_type": "code",
   "execution_count": 14,
   "id": "33749031",
   "metadata": {},
   "outputs": [
    {
     "name": "stdout",
     "output_type": "stream",
     "text": [
      "<re.Match object; span=(0, 1), match='a'>\n"
     ]
    }
   ],
   "source": [
    "print(re.search(r'a|e|i|o|u', 'ab'))"
   ]
  },
  {
   "cell_type": "markdown",
   "id": "31991283",
   "metadata": {},
   "source": [
    ">`Match`: Failed. I will try to add the metacharacter `{n}` with *n* == `1`"
   ]
  },
  {
   "cell_type": "code",
   "execution_count": 20,
   "id": "a66b4679",
   "metadata": {},
   "outputs": [
    {
     "name": "stdout",
     "output_type": "stream",
     "text": [
      "None\n"
     ]
    }
   ],
   "source": [
    "print(re.search(r'aeiou', 'ab'))"
   ]
  },
  {
   "cell_type": "markdown",
   "id": "d547d80c",
   "metadata": {},
   "source": [
    ">`None`: Passed! Now I will try it on a non-vowel..."
   ]
  },
  {
   "cell_type": "code",
   "execution_count": 37,
   "id": "1e4cd890",
   "metadata": {},
   "outputs": [
    {
     "name": "stdout",
     "output_type": "stream",
     "text": [
      "<re.Match object; span=(0, 1), match='a'>\n"
     ]
    }
   ],
   "source": [
    "print(re.match(r'[aeiou]', 'ab'))"
   ]
  },
  {
   "cell_type": "markdown",
   "id": "45ef4056",
   "metadata": {},
   "source": [
    ">`Match`: Failed. I will try using the `{n}` with *n* == `1` so it only matches one instance of the vowel and `$` so that it ends."
   ]
  },
  {
   "cell_type": "code",
   "execution_count": 41,
   "id": "3f823365",
   "metadata": {},
   "outputs": [
    {
     "name": "stdout",
     "output_type": "stream",
     "text": [
      "None\n"
     ]
    }
   ],
   "source": [
    "print(re.search(r'[aeiou]{1}$', 'ab'))"
   ]
  },
  {
   "cell_type": "markdown",
   "id": "24de3e8c",
   "metadata": {},
   "source": [
    ">`None`: Passed! I will try this with "
   ]
  },
  {
   "cell_type": "code",
   "execution_count": 40,
   "id": "f640f5da",
   "metadata": {},
   "outputs": [
    {
     "data": {
      "text/plain": [
       "<re.Match object; span=(0, 1), match='a'>"
      ]
     },
     "execution_count": 40,
     "metadata": {},
     "output_type": "execute_result"
    }
   ],
   "source": [
    "print(re.search(r'[aeiou]{1}$', 'a'))"
   ]
  },
  {
   "cell_type": "markdown",
   "id": "37ec9b8a",
   "metadata": {},
   "source": [
    ">Defining `is_vowel` function..."
   ]
  },
  {
   "cell_type": "code",
   "execution_count": 66,
   "id": "dd806464",
   "metadata": {},
   "outputs": [],
   "source": [
    "def is_vowel(string):\n",
    "    '''\n",
    "    this function takes in a string and defines a regex statement that, when combined with the \n",
    "    re search function, will test the string to see whether it is a single vowel character.\n",
    "        - if the string is a not a single vowel, it will print: Now a vowel.\n",
    "        - if the strng is a single vowel, it will print: Vowel!\n",
    "    '''\n",
    "    regex = r'[aeiou]{1}$'\n",
    "    \n",
    "    # if the function ended at the next line of code, you would return a True or False  \n",
    "    # return print(re.search(regex, string) != None)\n",
    "    \n",
    "    # the lines of code below will print the corresponding statements... \n",
    "    if re.search(regex, string) == None:\n",
    "        print('Not a vowel.')\n",
    "    \n",
    "    else:\n",
    "        print('Vowel!')\n",
    "\n",
    "\n"
   ]
  },
  {
   "cell_type": "markdown",
   "id": "123affad",
   "metadata": {},
   "source": [
    ">Testing..."
   ]
  },
  {
   "cell_type": "code",
   "execution_count": 64,
   "id": "62708380",
   "metadata": {},
   "outputs": [
    {
     "name": "stdout",
     "output_type": "stream",
     "text": [
      "Vowel!\n"
     ]
    }
   ],
   "source": [
    "# single vowel test\n",
    "is_vowel('a')"
   ]
  },
  {
   "cell_type": "code",
   "execution_count": 65,
   "id": "7a51a37d",
   "metadata": {},
   "outputs": [
    {
     "name": "stdout",
     "output_type": "stream",
     "text": [
      "Not a vowel.\n"
     ]
    }
   ],
   "source": [
    "# not single vowel test\n",
    "is_vowel('ab')"
   ]
  },
  {
   "cell_type": "markdown",
   "id": "bd022c2b",
   "metadata": {},
   "source": [
    ">It works!"
   ]
  },
  {
   "cell_type": "markdown",
   "id": "6b86c9e9",
   "metadata": {},
   "source": [
    "# 2. `is_valid_username` function\n",
    "Write a function named `is_valid_username` that accepts a `string` as input. A valid username starts with a lowercase letter, and only consists of lowercase letters, numbers, or the `_` character. It should also be no longer than 32 characters. \n",
    "\n",
    "\n",
    "Conditions:\n",
    "1. starts with lowercase letters\n",
    "2. only consists of:\n",
    "    - lowercase letters,\n",
    "    - numbers, or\n",
    "    - `_` char\n",
    "3. no longer than 32 chars\n",
    "<br>\n",
    "<br>\n",
    "\n",
    "The function should return either `True` or `False` depending on whether the passed string is a valid username.\n"
   ]
  },
  {
   "cell_type": "markdown",
   "id": "cee54a34",
   "metadata": {},
   "source": [
    ">Generating and testing code for the function...<br>\n",
    ">1. Starting with starts with lowercase letter"
   ]
  },
  {
   "cell_type": "code",
   "execution_count": 67,
   "id": "dffbaaf6",
   "metadata": {},
   "outputs": [
    {
     "data": {
      "text/plain": [
       "<re.Match object; span=(0, 1), match='u'>"
      ]
     },
     "execution_count": 67,
     "metadata": {},
     "output_type": "execute_result"
    }
   ],
   "source": [
    "# starts with lowercase letter \n",
    "re.search(r'^[a-z]', 'user_name')\n",
    "\n",
    "# Pass >> Match = 'user_name'"
   ]
  },
  {
   "cell_type": "code",
   "execution_count": 68,
   "id": "6a0a89b6",
   "metadata": {},
   "outputs": [],
   "source": [
    "# starts with uppercase letter\n",
    "re.search(r'^[a-z]', 'User_name')\n",
    "\n",
    "# None >> Pass"
   ]
  },
  {
   "cell_type": "markdown",
   "id": "68ac225e",
   "metadata": {},
   "source": [
    ">2. only consists of:\n",
    ">    - lowercase letters,\n",
    ">    - numbers, or\n",
    ">    - `_` char"
   ]
  },
  {
   "cell_type": "code",
   "execution_count": 111,
   "id": "4f82e0af",
   "metadata": {},
   "outputs": [
    {
     "data": {
      "text/plain": [
       "<re.Match object; span=(0, 9), match='user_name'>"
      ]
     },
     "execution_count": 111,
     "metadata": {},
     "output_type": "execute_result"
    }
   ],
   "source": [
    "# all lowercase and _ test\n",
    "re.search(r'^[a-z0-9_]+$', 'user_name')"
   ]
  },
  {
   "cell_type": "code",
   "execution_count": 112,
   "id": "bc71ed03",
   "metadata": {},
   "outputs": [],
   "source": [
    "# not all lowercase test\n",
    "re.search(r'^[a-z0-9_]+$', 'user_Name')"
   ]
  },
  {
   "cell_type": "code",
   "execution_count": 113,
   "id": "1cd3169c",
   "metadata": {},
   "outputs": [
    {
     "data": {
      "text/plain": [
       "<re.Match object; span=(0, 10), match='user_name1'>"
      ]
     },
     "execution_count": 113,
     "metadata": {},
     "output_type": "execute_result"
    }
   ],
   "source": [
    "# numbers test\n",
    "re.search(r'^[a-z0-9_]+$', 'user_name1')"
   ]
  },
  {
   "cell_type": "code",
   "execution_count": 114,
   "id": "db53fb04",
   "metadata": {},
   "outputs": [
    {
     "data": {
      "text/plain": [
       "<re.Match object; span=(0, 8), match='username'>"
      ]
     },
     "execution_count": 114,
     "metadata": {},
     "output_type": "execute_result"
    }
   ],
   "source": [
    "# no _ test\n",
    "re.search(r'^[a-z0-9_]+$', 'username')"
   ]
  },
  {
   "cell_type": "code",
   "execution_count": 116,
   "id": "1cecde82",
   "metadata": {},
   "outputs": [],
   "source": [
    "# empty space test\n",
    "re.search(r'^[a-z0-9_]+$', 'user name')"
   ]
  },
  {
   "cell_type": "markdown",
   "id": "8c1dab42",
   "metadata": {},
   "source": [
    ">3. no longer than 32 chars"
   ]
  },
  {
   "cell_type": "code",
   "execution_count": 141,
   "id": "b74c344d",
   "metadata": {},
   "outputs": [],
   "source": [
    "def check_len(string, max_len):\n",
    "    '''\n",
    "    this function takes in a string and max_len value and returns True if the string is less than\n",
    "    or equal to the max len of the input string.\n",
    "    '''\n",
    "    \n",
    "    return len(string) <= max_len"
   ]
  },
  {
   "cell_type": "code",
   "execution_count": 142,
   "id": "419b233b",
   "metadata": {},
   "outputs": [
    {
     "data": {
      "text/plain": [
       "True"
      ]
     },
     "execution_count": 142,
     "metadata": {},
     "output_type": "execute_result"
    }
   ],
   "source": [
    "check_len('string'*8, 100)"
   ]
  },
  {
   "cell_type": "code",
   "execution_count": 143,
   "id": "bb41f3e0",
   "metadata": {},
   "outputs": [
    {
     "data": {
      "text/plain": [
       "False"
      ]
     },
     "execution_count": 143,
     "metadata": {},
     "output_type": "execute_result"
    }
   ],
   "source": [
    "check_len('string'*8, 32)"
   ]
  },
  {
   "cell_type": "markdown",
   "id": "aec824ee",
   "metadata": {},
   "source": [
    ">Now that I have a way to test the max_lenth, I can put everything together in a function to test..."
   ]
  },
  {
   "cell_type": "code",
   "execution_count": 154,
   "id": "c99bfdfa",
   "metadata": {},
   "outputs": [],
   "source": [
    "def is_valid_user_name(string, max_len):\n",
    "    '''\n",
    "    \n",
    "    '''\n",
    "    \n",
    "    # defining regular expression\n",
    "    regex = r'^[a-z0-9_]+$'\n",
    "    \n",
    "    if re.search(regex, string) == None:\n",
    "        print('Invalid password. Password contains invalid character.')\n",
    "    \n",
    "    else:\n",
    "        if len(string) > max_len:\n",
    "            print(f'Invalid password. Password cannot be longer than {max_len} characters.')\n",
    "        else:\n",
    "            print('Valid password. Password meets criteria!')\n",
    "    "
   ]
  },
  {
   "cell_type": "code",
   "execution_count": 155,
   "id": "f72258d5",
   "metadata": {},
   "outputs": [
    {
     "name": "stdout",
     "output_type": "stream",
     "text": [
      "Valid password. Password meets criteria!\n"
     ]
    }
   ],
   "source": [
    "# testing pw that meets all criteria\n",
    "is_valid_user_name('user_name', 32)"
   ]
  },
  {
   "cell_type": "code",
   "execution_count": 156,
   "id": "8020f485",
   "metadata": {},
   "outputs": [
    {
     "name": "stdout",
     "output_type": "stream",
     "text": [
      "Invalid password. Password contains invalid character.\n"
     ]
    }
   ],
   "source": [
    "# testing password that contains empty space\n",
    "is_valid_user_name('user name', 32)"
   ]
  },
  {
   "cell_type": "code",
   "execution_count": 157,
   "id": "af882f3c",
   "metadata": {},
   "outputs": [
    {
     "name": "stdout",
     "output_type": "stream",
     "text": [
      "Invalid password. Password contains invalid character.\n"
     ]
    }
   ],
   "source": [
    "# testing password that begins with uppercase character\n",
    "is_valid_user_name('User_name', 32)"
   ]
  },
  {
   "cell_type": "code",
   "execution_count": 158,
   "id": "ec82bdd6",
   "metadata": {},
   "outputs": [
    {
     "name": "stdout",
     "output_type": "stream",
     "text": [
      "Invalid password. Password contains invalid character.\n"
     ]
    }
   ],
   "source": [
    "# testing pw that contains uppercase character\n",
    "is_valid_user_name('user_Name', 32)"
   ]
  },
  {
   "cell_type": "code",
   "execution_count": 159,
   "id": "d12695dd",
   "metadata": {},
   "outputs": [
    {
     "name": "stdout",
     "output_type": "stream",
     "text": [
      "Invalid password. Password contains invalid character.\n"
     ]
    }
   ],
   "source": [
    "# testing password that contains invalid special character\n",
    "is_valid_user_name('user_name!', 32)"
   ]
  },
  {
   "cell_type": "code",
   "execution_count": 160,
   "id": "c452749a",
   "metadata": {},
   "outputs": [
    {
     "name": "stdout",
     "output_type": "stream",
     "text": [
      "Invalid password. Password cannot be longer than 10 characters.\n"
     ]
    }
   ],
   "source": [
    "# testing password that is longer than max_len\n",
    "is_valid_user_name('user_name123456789101112', 10)"
   ]
  },
  {
   "cell_type": "markdown",
   "id": "64aa3238",
   "metadata": {},
   "source": [
    ">Function tests successful!"
   ]
  },
  {
   "cell_type": "markdown",
   "id": "524c5241",
   "metadata": {},
   "source": [
    "# 3. ph# regex\n",
    "Write a regular expression to capture phone numbers. It should match all of the following:\n",
    ">`'(210) 867 5309'`<br>\n",
    "`'+1 210.867.5309'`<br>\n",
    "`'867-5309'`<br>\n",
    "`'210-867-530'`9<br>"
   ]
  },
  {
   "cell_type": "code",
   "execution_count": null,
   "id": "a192c94b",
   "metadata": {},
   "outputs": [],
   "source": []
  },
  {
   "cell_type": "markdown",
   "id": "d105994f",
   "metadata": {},
   "source": [
    "# 4. dates regex\n",
    "Use regular expressions to convert the dates below to the standardized year-month-day format.\n",
    "\n",
    ">`'02/04/19'`<br>\n",
    "`'02/05/19'`<br>\n",
    "`'02/06/19'`<br>\n",
    "`'02/07/19'`<br>\n",
    "`'02/08/19'`<br>\n",
    "`'02/09/19'`<br>\n",
    "`'02/10/19'`<br>"
   ]
  },
  {
   "cell_type": "code",
   "execution_count": null,
   "id": "52bf0239",
   "metadata": {},
   "outputs": [],
   "source": []
  },
  {
   "cell_type": "markdown",
   "id": "a4c40c2c",
   "metadata": {},
   "source": [
    "# 5. logfil regex\n",
    "Write a regex to extract the various parts of these logfile lines:\n",
    "\n",
    "`'GET /api/v1/sales?page=86 [16/Apr/2019:193452+0000] HTTP/1.1 {200} 510348 \"python-requests/2.21.0\" 97.105.19.58'`<br><hr>\n",
    "`'POST /users_accounts/file-upload [16/Apr/2019:193452+0000] HTTP/1.1 {201} 42 \"User-Agent: Mozilla/5.0 (X11; Fedora; Fedora; Linux x86_64) AppleWebKit/537.36 (KHTML, like Gecko) Chrome/73.0.3683.86 Safari/537.36\" 97.105.19.58'`<br><hr>\n",
    "`'GET /api/v1/items?page=3 [16/Apr/2019:193453+0000] HTTP/1.1 {429} 3561 \"python-requests/2.21.0\" 97.105.19.58'`<br><hr>\n"
   ]
  },
  {
   "cell_type": "code",
   "execution_count": null,
   "id": "25a5f5f6",
   "metadata": {},
   "outputs": [],
   "source": []
  },
  {
   "cell_type": "markdown",
   "id": "5dce0115",
   "metadata": {},
   "source": [
    "# Bonus | `/usr/share/dict/words` mac words\n",
    "You can find a list of words on your mac at `/usr/share/dict/words`. Use this file to answer the following questions:\n",
    "1. How many words have at least 3 vowels?\n",
    "2. How many words have at least 3 vowels in a row?\n",
    "3. How many words have at least 4 consonants in a row?\n",
    "4. How many words start and end with the same letter?\n",
    "5. How many words start and end with a vowel?\n",
    "6. How many words contain the same letter 3 times in a row?\n",
    "7. What other interesting patterns in words can you find?"
   ]
  },
  {
   "cell_type": "code",
   "execution_count": null,
   "id": "f2f999be",
   "metadata": {},
   "outputs": [],
   "source": []
  }
 ],
 "metadata": {
  "kernelspec": {
   "display_name": "Python 3",
   "language": "python",
   "name": "python3"
  },
  "language_info": {
   "codemirror_mode": {
    "name": "ipython",
    "version": 3
   },
   "file_extension": ".py",
   "mimetype": "text/x-python",
   "name": "python",
   "nbconvert_exporter": "python",
   "pygments_lexer": "ipython3",
   "version": "3.8.8"
  }
 },
 "nbformat": 4,
 "nbformat_minor": 5
}
