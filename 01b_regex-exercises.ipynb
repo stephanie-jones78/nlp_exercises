{
 "cells": [
  {
   "cell_type": "markdown",
   "id": "de660b85",
   "metadata": {},
   "source": [
    "# Exercises for `01_regex` lesson"
   ]
  },
  {
   "cell_type": "code",
   "execution_count": 1,
   "id": "b0ed0866",
   "metadata": {},
   "outputs": [],
   "source": [
    "# library imports\n",
    "import pandas as pd\n",
    "import numpy as np\n",
    "\n",
    "import re"
   ]
  },
  {
   "cell_type": "markdown",
   "id": "4edd0197",
   "metadata": {},
   "source": [
    "# 1. `is_vowel` function\n",
    "Write a function named `is_vowel`. It should accept a `string` as input and use a `regular expression` to determine if the passed string is a vowel. While not explicity mentioned in the lesson, you can treat the result of `re.search` as a boolean value that indicates whether or not the regular expression matches the given string."
   ]
  },
  {
   "cell_type": "markdown",
   "id": "8c852c4a",
   "metadata": {},
   "source": [
    ">Generating and testing the code for the function..."
   ]
  },
  {
   "cell_type": "code",
   "execution_count": 7,
   "id": "bfae0e13",
   "metadata": {},
   "outputs": [
    {
     "name": "stdout",
     "output_type": "stream",
     "text": [
      "None\n"
     ]
    }
   ],
   "source": [
    "\n",
    "# first, testing on a string that contains vowels, but is not a vowel itself\n",
    "print(re.search(r'aeiou', 'Test: This is a test.'))"
   ]
  },
  {
   "cell_type": "markdown",
   "id": "8f25364d",
   "metadata": {},
   "source": [
    ">`None`: Passed! Now testing on string that is a vowel..."
   ]
  },
  {
   "cell_type": "code",
   "execution_count": 10,
   "id": "fa5a4b56",
   "metadata": {},
   "outputs": [
    {
     "name": "stdout",
     "output_type": "stream",
     "text": [
      "None\n"
     ]
    }
   ],
   "source": [
    "print(re.search(r'aeiou', 'a'))"
   ]
  },
  {
   "cell_type": "markdown",
   "id": "8e164167",
   "metadata": {},
   "source": [
    ">`None`: Failed. I will try the `|` sign in the regex between each vowel character..."
   ]
  },
  {
   "cell_type": "code",
   "execution_count": 11,
   "id": "693b1479",
   "metadata": {
    "scrolled": true
   },
   "outputs": [
    {
     "name": "stdout",
     "output_type": "stream",
     "text": [
      "<re.Match object; span=(0, 1), match='a'>\n"
     ]
    }
   ],
   "source": [
    "print(re.search(r'a|e|i|o|u', 'a'))"
   ]
  },
  {
   "cell_type": "markdown",
   "id": "b20ce8b1",
   "metadata": {},
   "source": [
    ">`Match`: Passed! Now I will include another character that is not a vowel..."
   ]
  },
  {
   "cell_type": "code",
   "execution_count": 14,
   "id": "e539a207",
   "metadata": {},
   "outputs": [
    {
     "name": "stdout",
     "output_type": "stream",
     "text": [
      "<re.Match object; span=(0, 1), match='a'>\n"
     ]
    }
   ],
   "source": [
    "print(re.search(r'a|e|i|o|u', 'ab'))"
   ]
  },
  {
   "cell_type": "markdown",
   "id": "4b8f9418",
   "metadata": {},
   "source": [
    ">`Match`: Failed. I will try to add the metacharacter `{n}` with *n* == `1`"
   ]
  },
  {
   "cell_type": "code",
   "execution_count": 20,
   "id": "32c38c14",
   "metadata": {},
   "outputs": [
    {
     "name": "stdout",
     "output_type": "stream",
     "text": [
      "None\n"
     ]
    }
   ],
   "source": [
    "print(re.search(r'aeiou', 'ab'))"
   ]
  },
  {
   "cell_type": "markdown",
   "id": "135564b6",
   "metadata": {},
   "source": [
    ">`None`: Passed! Now I will try it on a non-vowel..."
   ]
  },
  {
   "cell_type": "code",
   "execution_count": 37,
   "id": "5f4be8a9",
   "metadata": {},
   "outputs": [
    {
     "name": "stdout",
     "output_type": "stream",
     "text": [
      "<re.Match object; span=(0, 1), match='a'>\n"
     ]
    }
   ],
   "source": [
    "print(re.match(r'[aeiou]', 'ab'))"
   ]
  },
  {
   "cell_type": "markdown",
   "id": "ad6b7a10",
   "metadata": {},
   "source": [
    ">`Match`: Failed. I will try using the `{n}` with *n* == `1` so it only matches one instance of the vowel and `$` so that it ends."
   ]
  },
  {
   "cell_type": "code",
   "execution_count": 41,
   "id": "55967ac7",
   "metadata": {},
   "outputs": [
    {
     "name": "stdout",
     "output_type": "stream",
     "text": [
      "None\n"
     ]
    }
   ],
   "source": [
    "print(re.search(r'[aeiou]{1}$', 'ab'))"
   ]
  },
  {
   "cell_type": "markdown",
   "id": "ed74f409",
   "metadata": {},
   "source": [
    ">`None`: Passed! I will try this with "
   ]
  },
  {
   "cell_type": "code",
   "execution_count": 40,
   "id": "dca85fe0",
   "metadata": {},
   "outputs": [
    {
     "data": {
      "text/plain": [
       "<re.Match object; span=(0, 1), match='a'>"
      ]
     },
     "execution_count": 40,
     "metadata": {},
     "output_type": "execute_result"
    }
   ],
   "source": [
    "print(re.search(r'[aeiou]{1}$', 'a'))"
   ]
  },
  {
   "cell_type": "markdown",
   "id": "0f1b389c",
   "metadata": {},
   "source": [
    ">Defining `is_vowel` function..."
   ]
  },
  {
   "cell_type": "code",
   "execution_count": 66,
   "id": "63948f81",
   "metadata": {},
   "outputs": [],
   "source": [
    "def is_vowel(string):\n",
    "    '''\n",
    "    this function takes in a string and defines a regex statement that, when combined with the \n",
    "    re search function, will test the string to see whether it is a single vowel character.\n",
    "        - if the string is a not a single vowel, it will print: Now a vowel.\n",
    "        - if the strng is a single vowel, it will print: Vowel!\n",
    "    '''\n",
    "    regex = r'[aeiou]{1}$'\n",
    "    \n",
    "    # if the function ended at the next line of code, you would return a True or False  \n",
    "    # return print(re.search(regex, string) != None)\n",
    "    \n",
    "    # the lines of code below will print the corresponding statements... \n",
    "    if re.search(regex, string) == None:\n",
    "        print('Not a vowel.')\n",
    "    \n",
    "    else:\n",
    "        print('Vowel!')\n",
    "\n",
    "\n"
   ]
  },
  {
   "cell_type": "markdown",
   "id": "339b7627",
   "metadata": {},
   "source": [
    ">Testing..."
   ]
  },
  {
   "cell_type": "code",
   "execution_count": 64,
   "id": "cbaa8076",
   "metadata": {},
   "outputs": [
    {
     "name": "stdout",
     "output_type": "stream",
     "text": [
      "Vowel!\n"
     ]
    }
   ],
   "source": [
    "# single vowel test\n",
    "is_vowel('a')"
   ]
  },
  {
   "cell_type": "code",
   "execution_count": 65,
   "id": "91b16445",
   "metadata": {},
   "outputs": [
    {
     "name": "stdout",
     "output_type": "stream",
     "text": [
      "Not a vowel.\n"
     ]
    }
   ],
   "source": [
    "# not single vowel test\n",
    "is_vowel('ab')"
   ]
  },
  {
   "cell_type": "markdown",
   "id": "3927ac38",
   "metadata": {},
   "source": [
    ">It works!"
   ]
  },
  {
   "cell_type": "markdown",
   "id": "a4f70cf6",
   "metadata": {},
   "source": [
    "# 2. `is_valid_username` function\n",
    "Write a function named `is_valid_username` that accepts a `string` as input. A valid username starts with a lowercase letter, and only consists of lowercase letters, numbers, or the `_` character. It should also be no longer than 32 characters. \n",
    "\n",
    "\n",
    "Conditions:\n",
    "1. starts with lowercase letters\n",
    "2. only consists of:\n",
    "    - lowercase letters,\n",
    "    - numbers, or\n",
    "    - `_` char\n",
    "3. no longer than 32 chars\n",
    "<br>\n",
    "<br>\n",
    "\n",
    "The function should return either `True` or `False` depending on whether the passed string is a valid username.\n"
   ]
  },
  {
   "cell_type": "markdown",
   "id": "35887f86",
   "metadata": {},
   "source": [
    ">Generating and testing code for the function...<br>\n",
    ">1. Starting with starts with lowercase letter"
   ]
  },
  {
   "cell_type": "code",
   "execution_count": 67,
   "id": "95fe6315",
   "metadata": {},
   "outputs": [
    {
     "data": {
      "text/plain": [
       "<re.Match object; span=(0, 1), match='u'>"
      ]
     },
     "execution_count": 67,
     "metadata": {},
     "output_type": "execute_result"
    }
   ],
   "source": [
    "# starts with lowercase letter \n",
    "re.search(r'^[a-z]', 'user_name')\n",
    "\n",
    "# Pass >> Match = 'user_name'"
   ]
  },
  {
   "cell_type": "code",
   "execution_count": 68,
   "id": "5b81cd5d",
   "metadata": {},
   "outputs": [],
   "source": [
    "# starts with uppercase letter\n",
    "re.search(r'^[a-z]', 'User_name')\n",
    "\n",
    "# None >> Pass"
   ]
  },
  {
   "cell_type": "markdown",
   "id": "cef350de",
   "metadata": {},
   "source": [
    ">2. only consists of:\n",
    ">    - lowercase letters,\n",
    ">    - numbers, or\n",
    ">    - `_` char"
   ]
  },
  {
   "cell_type": "code",
   "execution_count": 111,
   "id": "5fe2746b",
   "metadata": {},
   "outputs": [
    {
     "data": {
      "text/plain": [
       "<re.Match object; span=(0, 9), match='user_name'>"
      ]
     },
     "execution_count": 111,
     "metadata": {},
     "output_type": "execute_result"
    }
   ],
   "source": [
    "# all lowercase and _ test\n",
    "re.search(r'^[a-z0-9_]+$', 'user_name')"
   ]
  },
  {
   "cell_type": "code",
   "execution_count": 112,
   "id": "d81f7ea8",
   "metadata": {},
   "outputs": [],
   "source": [
    "# not all lowercase test\n",
    "re.search(r'^[a-z0-9_]+$', 'user_Name')"
   ]
  },
  {
   "cell_type": "code",
   "execution_count": 113,
   "id": "6eb5af25",
   "metadata": {},
   "outputs": [
    {
     "data": {
      "text/plain": [
       "<re.Match object; span=(0, 10), match='user_name1'>"
      ]
     },
     "execution_count": 113,
     "metadata": {},
     "output_type": "execute_result"
    }
   ],
   "source": [
    "# numbers test\n",
    "re.search(r'^[a-z0-9_]+$', 'user_name1')"
   ]
  },
  {
   "cell_type": "code",
   "execution_count": 114,
   "id": "88b0e84e",
   "metadata": {},
   "outputs": [
    {
     "data": {
      "text/plain": [
       "<re.Match object; span=(0, 8), match='username'>"
      ]
     },
     "execution_count": 114,
     "metadata": {},
     "output_type": "execute_result"
    }
   ],
   "source": [
    "# no _ test\n",
    "re.search(r'^[a-z0-9_]+$', 'username')"
   ]
  },
  {
   "cell_type": "code",
   "execution_count": 116,
   "id": "602b495f",
   "metadata": {},
   "outputs": [],
   "source": [
    "# empty space test\n",
    "re.search(r'^[a-z0-9_]+$', 'user name')"
   ]
  },
  {
   "cell_type": "markdown",
   "id": "fce70b4e",
   "metadata": {},
   "source": [
    ">3. no longer than 32 chars"
   ]
  },
  {
   "cell_type": "code",
   "execution_count": null,
   "id": "82c90684",
   "metadata": {},
   "outputs": [],
   "source": []
  },
  {
   "cell_type": "code",
   "execution_count": null,
   "id": "cac73cfb",
   "metadata": {},
   "outputs": [],
   "source": []
  },
  {
   "cell_type": "code",
   "execution_count": null,
   "id": "03900849",
   "metadata": {},
   "outputs": [],
   "source": []
  },
  {
   "cell_type": "code",
   "execution_count": null,
   "id": "2a544ada",
   "metadata": {},
   "outputs": [],
   "source": []
  },
  {
   "cell_type": "code",
   "execution_count": null,
   "id": "babcb080",
   "metadata": {},
   "outputs": [],
   "source": []
  },
  {
   "cell_type": "code",
   "execution_count": null,
   "id": "a778ecef",
   "metadata": {},
   "outputs": [],
   "source": []
  },
  {
   "cell_type": "code",
   "execution_count": null,
   "id": "0eb6ce11",
   "metadata": {},
   "outputs": [],
   "source": []
  },
  {
   "cell_type": "markdown",
   "id": "5a6a52a8",
   "metadata": {},
   "source": [
    "# 3. ph# regex\n",
    "Write a regular expression to capture phone numbers. It should match all of the following:\n",
    ">`'(210) 867 5309'`<br>\n",
    "`'+1 210.867.5309'`<br>\n",
    "`'867-5309'`<br>\n",
    "`'210-867-530'`9<br>"
   ]
  },
  {
   "cell_type": "code",
   "execution_count": null,
   "id": "b29481f6",
   "metadata": {},
   "outputs": [],
   "source": []
  },
  {
   "cell_type": "markdown",
   "id": "ac1700cb",
   "metadata": {},
   "source": [
    "# 4. dates regex\n",
    "Use regular expressions to convert the dates below to the standardized year-month-day format.\n",
    "\n",
    ">`'02/04/19'`<br>\n",
    "`'02/05/19'`<br>\n",
    "`'02/06/19'`<br>\n",
    "`'02/07/19'`<br>\n",
    "`'02/08/19'`<br>\n",
    "`'02/09/19'`<br>\n",
    "`'02/10/19'`<br>"
   ]
  },
  {
   "cell_type": "code",
   "execution_count": null,
   "id": "226bab07",
   "metadata": {},
   "outputs": [],
   "source": []
  },
  {
   "cell_type": "markdown",
   "id": "e6db7bf4",
   "metadata": {},
   "source": [
    "# 5. logfil regex\n",
    "Write a regex to extract the various parts of these logfile lines:\n",
    "\n",
    "`'GET /api/v1/sales?page=86 [16/Apr/2019:193452+0000] HTTP/1.1 {200} 510348 \"python-requests/2.21.0\" 97.105.19.58'`<br><hr>\n",
    "`'POST /users_accounts/file-upload [16/Apr/2019:193452+0000] HTTP/1.1 {201} 42 \"User-Agent: Mozilla/5.0 (X11; Fedora; Fedora; Linux x86_64) AppleWebKit/537.36 (KHTML, like Gecko) Chrome/73.0.3683.86 Safari/537.36\" 97.105.19.58'`<br><hr>\n",
    "`'GET /api/v1/items?page=3 [16/Apr/2019:193453+0000] HTTP/1.1 {429} 3561 \"python-requests/2.21.0\" 97.105.19.58'`<br><hr>\n"
   ]
  },
  {
   "cell_type": "code",
   "execution_count": null,
   "id": "6c601aa2",
   "metadata": {},
   "outputs": [],
   "source": []
  },
  {
   "cell_type": "markdown",
   "id": "a5ace71c",
   "metadata": {},
   "source": [
    "# Bonus | `/usr/share/dict/words` mac words\n",
    "You can find a list of words on your mac at `/usr/share/dict/words`. Use this file to answer the following questions:\n",
    "1. How many words have at least 3 vowels?\n",
    "2. How many words have at least 3 vowels in a row?\n",
    "3. How many words have at least 4 consonants in a row?\n",
    "4. How many words start and end with the same letter?\n",
    "5. How many words start and end with a vowel?\n",
    "6. How many words contain the same letter 3 times in a row?\n",
    "7. What other interesting patterns in words can you find?"
   ]
  },
  {
   "cell_type": "code",
   "execution_count": null,
   "id": "8c686397",
   "metadata": {},
   "outputs": [],
   "source": []
  }
 ],
 "metadata": {
  "kernelspec": {
   "display_name": "Python 3",
   "language": "python",
   "name": "python3"
  },
  "language_info": {
   "codemirror_mode": {
    "name": "ipython",
    "version": 3
   },
   "file_extension": ".py",
   "mimetype": "text/x-python",
   "name": "python",
   "nbconvert_exporter": "python",
   "pygments_lexer": "ipython3",
   "version": "3.8.8"
  }
 },
 "nbformat": 4,
 "nbformat_minor": 5
}
