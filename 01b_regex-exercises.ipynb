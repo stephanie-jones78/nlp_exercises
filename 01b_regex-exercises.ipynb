{
 "cells": [
  {
   "cell_type": "markdown",
   "id": "e8226f4e",
   "metadata": {},
   "source": [
    "# Exercises for `01_regex` lesson"
   ]
  },
  {
   "cell_type": "code",
   "execution_count": 1,
   "id": "0ddf1ca3",
   "metadata": {},
   "outputs": [],
   "source": [
    "# library imports\n",
    "import pandas as pd\n",
    "import numpy as np\n",
    "\n",
    "import re"
   ]
  },
  {
   "cell_type": "markdown",
   "id": "af1f9111",
   "metadata": {},
   "source": [
    "# 1. `is_vowel` function\n",
    "Write a function named `is_vowel`. It should accept a `string` as input and use a `regular expression` to determine if the passed string is a vowel. While not explicity mentioned in the lesson, you can treat the result of `re.search` as a boolean value that indicates whether or not the regular expression matches the given string."
   ]
  },
  {
   "cell_type": "markdown",
   "id": "13c3de20",
   "metadata": {},
   "source": [
    ">Generating and testing the code for the function..."
   ]
  },
  {
   "cell_type": "code",
   "execution_count": 7,
   "id": "b0da9d4c",
   "metadata": {},
   "outputs": [
    {
     "name": "stdout",
     "output_type": "stream",
     "text": [
      "None\n"
     ]
    }
   ],
   "source": [
    "\n",
    "# first, testing on a string that contains vowels, but is not a vowel itself\n",
    "print(re.search(r'aeiou', 'Test: This is a test.'))"
   ]
  },
  {
   "cell_type": "markdown",
   "id": "e7a36521",
   "metadata": {},
   "source": [
    ">`None`: Passed! Now testing on string that is a vowel..."
   ]
  },
  {
   "cell_type": "code",
   "execution_count": 10,
   "id": "ba204234",
   "metadata": {},
   "outputs": [
    {
     "name": "stdout",
     "output_type": "stream",
     "text": [
      "None\n"
     ]
    }
   ],
   "source": [
    "print(re.search(r'aeiou', 'a'))"
   ]
  },
  {
   "cell_type": "markdown",
   "id": "aece129d",
   "metadata": {},
   "source": [
    ">`None`: Failed. I will try the `|` sign in the regex between each vowel character..."
   ]
  },
  {
   "cell_type": "code",
   "execution_count": 11,
   "id": "fbb10904",
   "metadata": {
    "scrolled": true
   },
   "outputs": [
    {
     "name": "stdout",
     "output_type": "stream",
     "text": [
      "<re.Match object; span=(0, 1), match='a'>\n"
     ]
    }
   ],
   "source": [
    "print(re.search(r'a|e|i|o|u', 'a'))"
   ]
  },
  {
   "cell_type": "markdown",
   "id": "dec628b1",
   "metadata": {},
   "source": [
    ">`Match`: Passed! Now I will include another character that is not a vowel..."
   ]
  },
  {
   "cell_type": "code",
   "execution_count": 14,
   "id": "5c8de325",
   "metadata": {},
   "outputs": [
    {
     "name": "stdout",
     "output_type": "stream",
     "text": [
      "<re.Match object; span=(0, 1), match='a'>\n"
     ]
    }
   ],
   "source": [
    "print(re.search(r'a|e|i|o|u', 'ab'))"
   ]
  },
  {
   "cell_type": "markdown",
   "id": "735fbaf3",
   "metadata": {},
   "source": [
    ">`Match`: Failed. I will try to add the metacharacter `{n}` with *n* == `1`"
   ]
  },
  {
   "cell_type": "code",
   "execution_count": 20,
   "id": "f74aef62",
   "metadata": {},
   "outputs": [
    {
     "name": "stdout",
     "output_type": "stream",
     "text": [
      "None\n"
     ]
    }
   ],
   "source": [
    "print(re.search(r'aeiou', 'ab'))"
   ]
  },
  {
   "cell_type": "markdown",
   "id": "8ff6ed7e",
   "metadata": {},
   "source": [
    ">`None`: Passed! Now I will try it on a non-vowel..."
   ]
  },
  {
   "cell_type": "code",
   "execution_count": 37,
   "id": "f599482e",
   "metadata": {},
   "outputs": [
    {
     "name": "stdout",
     "output_type": "stream",
     "text": [
      "<re.Match object; span=(0, 1), match='a'>\n"
     ]
    }
   ],
   "source": [
    "print(re.match(r'[aeiou]', 'ab'))"
   ]
  },
  {
   "cell_type": "markdown",
   "id": "45612ca9",
   "metadata": {},
   "source": [
    ">`Match`: Failed. I will try using the `{n}` with *n* == `1` so it only matches one instance of the vowel and `$` so that it ends."
   ]
  },
  {
   "cell_type": "code",
   "execution_count": 41,
   "id": "950bcfdf",
   "metadata": {},
   "outputs": [
    {
     "name": "stdout",
     "output_type": "stream",
     "text": [
      "None\n"
     ]
    }
   ],
   "source": [
    "print(re.search(r'[aeiou]{1}$', 'ab'))"
   ]
  },
  {
   "cell_type": "markdown",
   "id": "9a42a718",
   "metadata": {},
   "source": [
    ">`None`: Passed! I will try this with "
   ]
  },
  {
   "cell_type": "code",
   "execution_count": 40,
   "id": "52a36d2f",
   "metadata": {},
   "outputs": [
    {
     "data": {
      "text/plain": [
       "<re.Match object; span=(0, 1), match='a'>"
      ]
     },
     "execution_count": 40,
     "metadata": {},
     "output_type": "execute_result"
    }
   ],
   "source": [
    "print(re.search(r'[aeiou]{1}$', 'a'))"
   ]
  },
  {
   "cell_type": "markdown",
   "id": "24ff6812",
   "metadata": {},
   "source": [
    ">Defining `is_vowel` function..."
   ]
  },
  {
   "cell_type": "code",
   "execution_count": 66,
   "id": "9f1b7262",
   "metadata": {},
   "outputs": [],
   "source": [
    "def is_vowel(string):\n",
    "    '''\n",
    "    this function takes in a string and defines a regex statement that, when combined with the \n",
    "    re search function, will test the string to see whether it is a single vowel character.\n",
    "        - if the string is a not a single vowel, it will print: Now a vowel.\n",
    "        - if the strng is a single vowel, it will print: Vowel!\n",
    "    '''\n",
    "    regex = r'[aeiou]{1}$'\n",
    "    \n",
    "    # if the function ended at the next line of code, you would return a True or False  \n",
    "    # return print(re.search(regex, string) != None)\n",
    "    \n",
    "    # the lines of code below will print the corresponding statements... \n",
    "    if re.search(regex, string) == None:\n",
    "        print('Not a vowel.')\n",
    "    \n",
    "    else:\n",
    "        print('Vowel!')\n",
    "\n",
    "\n"
   ]
  },
  {
   "cell_type": "markdown",
   "id": "c12b3162",
   "metadata": {},
   "source": [
    ">Testing..."
   ]
  },
  {
   "cell_type": "code",
   "execution_count": 64,
   "id": "5a85c0b1",
   "metadata": {},
   "outputs": [
    {
     "name": "stdout",
     "output_type": "stream",
     "text": [
      "Vowel!\n"
     ]
    }
   ],
   "source": [
    "# single vowel test\n",
    "is_vowel('a')"
   ]
  },
  {
   "cell_type": "code",
   "execution_count": 65,
   "id": "13dbf0ef",
   "metadata": {},
   "outputs": [
    {
     "name": "stdout",
     "output_type": "stream",
     "text": [
      "Not a vowel.\n"
     ]
    }
   ],
   "source": [
    "# not single vowel test\n",
    "is_vowel('ab')"
   ]
  },
  {
   "cell_type": "markdown",
   "id": "77145e57",
   "metadata": {},
   "source": [
    ">It works!"
   ]
  },
  {
   "cell_type": "markdown",
   "id": "e0ab7141",
   "metadata": {},
   "source": [
    "# 2. `is_valid_username` function\n",
    "Write a function named `is_valid_username` that accepts a `string` as input. A valid username starts with a lowercase letter, and only consists of lowercase letters, numbers, or the `_` character. It should also be no longer than 32 characters. The function should return either `True` or `False` depending on whether the passed string is a valid username."
   ]
  },
  {
   "cell_type": "code",
   "execution_count": null,
   "id": "9e3e68c0",
   "metadata": {},
   "outputs": [],
   "source": []
  },
  {
   "cell_type": "markdown",
   "id": "8f80bf35",
   "metadata": {},
   "source": [
    "# 3. ph# regex\n",
    "Write a regular expression to capture phone numbers. It should match all of the following:\n",
    ">`'(210) 867 5309'`<br>\n",
    "`'+1 210.867.5309'`<br>\n",
    "`'867-5309'`<br>\n",
    "`'210-867-530'`9<br>"
   ]
  },
  {
   "cell_type": "code",
   "execution_count": null,
   "id": "55f6c36d",
   "metadata": {},
   "outputs": [],
   "source": []
  },
  {
   "cell_type": "markdown",
   "id": "27c42639",
   "metadata": {},
   "source": [
    "# 4. dates regex\n",
    "Use regular expressions to convert the dates below to the standardized year-month-day format.\n",
    "\n",
    ">`'02/04/19'`<br>\n",
    "`'02/05/19'`<br>\n",
    "`'02/06/19'`<br>\n",
    "`'02/07/19'`<br>\n",
    "`'02/08/19'`<br>\n",
    "`'02/09/19'`<br>\n",
    "`'02/10/19'`<br>"
   ]
  },
  {
   "cell_type": "code",
   "execution_count": null,
   "id": "04b6725c",
   "metadata": {},
   "outputs": [],
   "source": []
  },
  {
   "cell_type": "markdown",
   "id": "6c019238",
   "metadata": {},
   "source": [
    "# 5. logfil regex\n",
    "Write a regex to extract the various parts of these logfile lines:\n",
    "\n",
    "`'GET /api/v1/sales?page=86 [16/Apr/2019:193452+0000] HTTP/1.1 {200} 510348 \"python-requests/2.21.0\" 97.105.19.58'`<br><hr>\n",
    "`'POST /users_accounts/file-upload [16/Apr/2019:193452+0000] HTTP/1.1 {201} 42 \"User-Agent: Mozilla/5.0 (X11; Fedora; Fedora; Linux x86_64) AppleWebKit/537.36 (KHTML, like Gecko) Chrome/73.0.3683.86 Safari/537.36\" 97.105.19.58'`<br><hr>\n",
    "`'GET /api/v1/items?page=3 [16/Apr/2019:193453+0000] HTTP/1.1 {429} 3561 \"python-requests/2.21.0\" 97.105.19.58'`<br><hr>\n"
   ]
  },
  {
   "cell_type": "code",
   "execution_count": null,
   "id": "24f335cd",
   "metadata": {},
   "outputs": [],
   "source": []
  },
  {
   "cell_type": "markdown",
   "id": "48ccf7cb",
   "metadata": {},
   "source": [
    "# Bonus | `/usr/share/dict/words` mac words\n",
    "You can find a list of words on your mac at `/usr/share/dict/words`. Use this file to answer the following questions:\n",
    "1. How many words have at least 3 vowels?\n",
    "2. How many words have at least 3 vowels in a row?\n",
    "3. How many words have at least 4 consonants in a row?\n",
    "4. How many words start and end with the same letter?\n",
    "5. How many words start and end with a vowel?\n",
    "6. How many words contain the same letter 3 times in a row?\n",
    "7. What other interesting patterns in words can you find?"
   ]
  },
  {
   "cell_type": "code",
   "execution_count": null,
   "id": "3f82bd55",
   "metadata": {},
   "outputs": [],
   "source": []
  }
 ],
 "metadata": {
  "kernelspec": {
   "display_name": "Python 3",
   "language": "python",
   "name": "python3"
  },
  "language_info": {
   "codemirror_mode": {
    "name": "ipython",
    "version": 3
   },
   "file_extension": ".py",
   "mimetype": "text/x-python",
   "name": "python",
   "nbconvert_exporter": "python",
   "pygments_lexer": "ipython3",
   "version": "3.8.8"
  }
 },
 "nbformat": 4,
 "nbformat_minor": 5
}
